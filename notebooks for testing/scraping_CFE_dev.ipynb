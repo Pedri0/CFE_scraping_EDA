{
 "cells": [
  {
   "cell_type": "code",
   "execution_count": 1,
   "metadata": {},
   "outputs": [],
   "source": [
    "from bs4 import BeautifulSoup\n",
    "from selenium import webdriver\n",
    "from selenium.webdriver.common.by import By\n",
    "import pandas as pd\n",
    "from selenium.webdriver.support.ui import Select\n"
   ]
  },
  {
   "cell_type": "code",
   "execution_count": 2,
   "metadata": {},
   "outputs": [],
   "source": [
    "driver = webdriver.Edge()"
   ]
  },
  {
   "cell_type": "code",
   "execution_count": 3,
   "metadata": {},
   "outputs": [],
   "source": [
    "driver.get('https://app.cfe.mx/Aplicaciones/CCFE/Tarifas/TarifasCREIndustria/Tarifas/DemandaIndustrialSub.aspx')\n"
   ]
  },
  {
   "cell_type": "code",
   "execution_count": 4,
   "metadata": {},
   "outputs": [],
   "source": [
    "content = driver.page_source\n",
    "soup = BeautifulSoup(content)\n",
    "results = soup.find(id= 'content')"
   ]
  },
  {
   "cell_type": "code",
   "execution_count": 5,
   "metadata": {},
   "outputs": [],
   "source": [
    "elements = results.find_all('select', class_='input')"
   ]
  },
  {
   "cell_type": "code",
   "execution_count": 6,
   "metadata": {},
   "outputs": [
    {
     "data": {
      "text/plain": [
       "[<select class=\"input\" id=\"ContentPlaceHolder1_Fecha_ddAnio\" name=\"ctl00$ContentPlaceHolder1$Fecha$ddAnio\" onchange=\"javascript:setTimeout('__doPostBack(\\'ctl00$ContentPlaceHolder1$Fecha$ddAnio\\',\\'\\')', 0)\">\n",
       " <option selected=\"selected\" value=\"2022\">2022</option>\n",
       " <option value=\"2021\">2021</option>\n",
       " <option value=\"2020\">2020</option>\n",
       " <option value=\"2019\">2019</option>\n",
       " <option value=\"2018\">2018</option>\n",
       " <option value=\"2017\">2017</option>\n",
       " </select>,\n",
       " <select class=\"input\" id=\"ContentPlaceHolder1_Fecha2_ddMes\" name=\"ctl00$ContentPlaceHolder1$Fecha2$ddMes\" onchange=\"javascript:setTimeout('__doPostBack(\\'ctl00$ContentPlaceHolder1$Fecha2$ddMes\\',\\'\\')', 0)\">\n",
       " <option selected=\"selected\" value=\"0\">-- Selecciona un mes --</option>\n",
       " <option value=\"1\">ENERO</option>\n",
       " <option value=\"2\">FEBRERO</option>\n",
       " <option value=\"3\">MARZO</option>\n",
       " <option value=\"4\">ABRIL</option>\n",
       " <option value=\"5\">MAYO</option>\n",
       " <option value=\"6\">JUNIO</option>\n",
       " <option value=\"7\">JULIO</option>\n",
       " <option value=\"8\">AGOSTO</option>\n",
       " <option value=\"9\">SEPTIEMBRE</option>\n",
       " <option value=\"10\">OCTUBRE</option>\n",
       " <option value=\"11\">NOVIEMBRE</option>\n",
       " <option value=\"12\">DICIEMBRE</option>\n",
       " </select>,\n",
       " <select class=\"input col-md-4\" id=\"ContentPlaceHolder1_EdoMpoDiv_ddEstado\" name=\"ctl00$ContentPlaceHolder1$EdoMpoDiv$ddEstado\" onchange=\"javascript:setTimeout('__doPostBack(\\'ctl00$ContentPlaceHolder1$EdoMpoDiv$ddEstado\\',\\'\\')', 0)\">\n",
       " <option selected=\"selected\" value=\"0\">-- Seleccione un Estado --</option>\n",
       " <option value=\"1\">AGUASCALIENTES</option>\n",
       " <option value=\"2\">BAJA CALIFORNIA</option>\n",
       " <option value=\"3\">BAJA CALIFORNIA SUR</option>\n",
       " <option value=\"4\">CAMPECHE</option>\n",
       " <option value=\"5\">CHIAPAS</option>\n",
       " <option value=\"6\">CHIHUAHUA</option>\n",
       " <option value=\"9\">CIUDAD DE MÉXICO</option>\n",
       " <option value=\"7\">COAHUILA</option>\n",
       " <option value=\"8\">COLIMA</option>\n",
       " <option value=\"10\">DURANGO</option>\n",
       " <option value=\"15\">ESTADO DE MÉXICO</option>\n",
       " <option value=\"11\">GUANAJUATO</option>\n",
       " <option value=\"12\">GUERRERO</option>\n",
       " <option value=\"13\">HIDALGO</option>\n",
       " <option value=\"14\">JALISCO</option>\n",
       " <option value=\"16\">MICHOACÁN</option>\n",
       " <option value=\"17\">MORELOS</option>\n",
       " <option value=\"18\">NAYARIT</option>\n",
       " <option value=\"19\">NUEVO LEÓN</option>\n",
       " <option value=\"20\">OAXACA</option>\n",
       " <option value=\"21\">PUEBLA</option>\n",
       " <option value=\"22\">QUERÉTARO</option>\n",
       " <option value=\"23\">QUINTANA ROO</option>\n",
       " <option value=\"24\">SAN LUIS POTOSÍ</option>\n",
       " <option value=\"25\">SINALOA</option>\n",
       " <option value=\"26\">SONORA</option>\n",
       " <option value=\"27\">TABASCO</option>\n",
       " <option value=\"28\">TAMAULIPAS</option>\n",
       " <option value=\"29\">TLAXCALA</option>\n",
       " <option value=\"30\">VERACRUZ</option>\n",
       " <option value=\"31\">YUCATÁN</option>\n",
       " <option value=\"32\">ZACATECAS</option>\n",
       " </select>,\n",
       " <select class=\"input col-md-4\" id=\"ContentPlaceHolder1_EdoMpoDiv_ddMunicipio\" name=\"ctl00$ContentPlaceHolder1$EdoMpoDiv$ddMunicipio\" onchange=\"javascript:setTimeout('__doPostBack(\\'ctl00$ContentPlaceHolder1$EdoMpoDiv$ddMunicipio\\',\\'\\')', 0)\">\n",
       " <option selected=\"selected\" value=\"0\">-- Seleccione un Municipio/Delegación --</option>\n",
       " </select>,\n",
       " <select class=\"input col-md-4\" id=\"ContentPlaceHolder1_EdoMpoDiv_ddDivision\" name=\"ctl00$ContentPlaceHolder1$EdoMpoDiv$ddDivision\" onchange=\"javascript:setTimeout('__doPostBack(\\'ctl00$ContentPlaceHolder1$EdoMpoDiv$ddDivision\\',\\'\\')', 0)\">\n",
       " <option selected=\"selected\" value=\"0\">-- Seleccione una División --</option>\n",
       " </select>]"
      ]
     },
     "execution_count": 6,
     "metadata": {},
     "output_type": "execute_result"
    }
   ],
   "source": [
    "elements"
   ]
  },
  {
   "cell_type": "markdown",
   "metadata": {},
   "source": [
    "## Get y Select de los anos"
   ]
  },
  {
   "cell_type": "code",
   "execution_count": 7,
   "metadata": {},
   "outputs": [],
   "source": [
    "select = Select(driver.find_element(By.ID,'ContentPlaceHolder1_Fecha_ddAnio'))"
   ]
  },
  {
   "cell_type": "code",
   "execution_count": 8,
   "metadata": {},
   "outputs": [
    {
     "data": {
      "text/plain": [
       "['2022', '2021', '2020', '2019', '2018', '2017']"
      ]
     },
     "execution_count": 8,
     "metadata": {},
     "output_type": "execute_result"
    }
   ],
   "source": [
    "[option.text for option in select.options]"
   ]
  },
  {
   "cell_type": "code",
   "execution_count": 9,
   "metadata": {},
   "outputs": [],
   "source": [
    "select.select_by_value('2022')"
   ]
  },
  {
   "cell_type": "markdown",
   "metadata": {},
   "source": [
    "## Get y Select del mes\n"
   ]
  },
  {
   "cell_type": "code",
   "execution_count": 10,
   "metadata": {},
   "outputs": [],
   "source": [
    "select_month = Select(driver.find_element(By.ID,'ContentPlaceHolder1_Fecha2_ddMes'))"
   ]
  },
  {
   "cell_type": "code",
   "execution_count": 11,
   "metadata": {},
   "outputs": [
    {
     "data": {
      "text/plain": [
       "['-- Selecciona un mes --',\n",
       " 'ENERO',\n",
       " 'FEBRERO',\n",
       " 'MARZO',\n",
       " 'ABRIL',\n",
       " 'MAYO',\n",
       " 'JUNIO',\n",
       " 'JULIO',\n",
       " 'AGOSTO',\n",
       " 'SEPTIEMBRE',\n",
       " 'OCTUBRE',\n",
       " 'NOVIEMBRE',\n",
       " 'DICIEMBRE']"
      ]
     },
     "execution_count": 11,
     "metadata": {},
     "output_type": "execute_result"
    }
   ],
   "source": [
    "[option.text for option in select_month.options]"
   ]
  },
  {
   "cell_type": "code",
   "execution_count": 12,
   "metadata": {},
   "outputs": [],
   "source": [
    "select_month.select_by_index(5)"
   ]
  },
  {
   "cell_type": "markdown",
   "metadata": {},
   "source": [
    "## Get y Select del estado"
   ]
  },
  {
   "cell_type": "code",
   "execution_count": 13,
   "metadata": {},
   "outputs": [],
   "source": [
    "select_state = Select(driver.find_element(By.ID,'ContentPlaceHolder1_EdoMpoDiv_ddEstado'))"
   ]
  },
  {
   "cell_type": "code",
   "execution_count": 14,
   "metadata": {},
   "outputs": [
    {
     "data": {
      "text/plain": [
       "['-- Seleccione un Estado --',\n",
       " 'AGUASCALIENTES',\n",
       " 'BAJA CALIFORNIA',\n",
       " 'BAJA CALIFORNIA SUR',\n",
       " 'CAMPECHE',\n",
       " 'CHIAPAS',\n",
       " 'CHIHUAHUA',\n",
       " 'CIUDAD DE MÉXICO',\n",
       " 'COAHUILA',\n",
       " 'COLIMA',\n",
       " 'DURANGO',\n",
       " 'ESTADO DE MÉXICO',\n",
       " 'GUANAJUATO',\n",
       " 'GUERRERO',\n",
       " 'HIDALGO',\n",
       " 'JALISCO',\n",
       " 'MICHOACÁN',\n",
       " 'MORELOS',\n",
       " 'NAYARIT',\n",
       " 'NUEVO LEÓN',\n",
       " 'OAXACA',\n",
       " 'PUEBLA',\n",
       " 'QUERÉTARO',\n",
       " 'QUINTANA ROO',\n",
       " 'SAN LUIS POTOSÍ',\n",
       " 'SINALOA',\n",
       " 'SONORA',\n",
       " 'TABASCO',\n",
       " 'TAMAULIPAS',\n",
       " 'TLAXCALA',\n",
       " 'VERACRUZ',\n",
       " 'YUCATÁN',\n",
       " 'ZACATECAS']"
      ]
     },
     "execution_count": 14,
     "metadata": {},
     "output_type": "execute_result"
    }
   ],
   "source": [
    "[option.text for option in select_state.options]"
   ]
  },
  {
   "cell_type": "code",
   "execution_count": 15,
   "metadata": {},
   "outputs": [],
   "source": [
    "select_state.select_by_index(24)"
   ]
  },
  {
   "cell_type": "markdown",
   "metadata": {},
   "source": [
    "## Get y Select del municipio"
   ]
  },
  {
   "cell_type": "code",
   "execution_count": 16,
   "metadata": {},
   "outputs": [],
   "source": [
    "select_mun = Select(driver.find_element(By.ID,'ContentPlaceHolder1_EdoMpoDiv_ddMunicipio'))"
   ]
  },
  {
   "cell_type": "code",
   "execution_count": 17,
   "metadata": {},
   "outputs": [
    {
     "data": {
      "text/plain": [
       "['-- Seleccione un Municipio --',\n",
       " 'AHUALULCO',\n",
       " 'ALAQUINES',\n",
       " 'AQUISMON',\n",
       " 'ARMADILLO DE LOS INFANTE',\n",
       " 'AXTLA DE TERRAZAS',\n",
       " 'CARDENAS',\n",
       " 'CATORCE',\n",
       " 'CEDRAL',\n",
       " 'CERRITOS',\n",
       " 'CERRO DE SAN PEDRO',\n",
       " 'CHARCAS',\n",
       " 'CIUDAD DEL MAIZ',\n",
       " 'CIUDAD FERNANDEZ',\n",
       " 'CIUDAD VALLES',\n",
       " 'COXCATLAN',\n",
       " 'EBANO',\n",
       " 'EL NARANJO',\n",
       " 'GUADALCAZAR',\n",
       " 'HUEHUETLAN',\n",
       " 'LAGUNILLAS',\n",
       " 'MATEHUALA',\n",
       " 'MATLAPA',\n",
       " 'MEXQUITIC DE CARMONA',\n",
       " 'MOCTEZUMA',\n",
       " 'RAYON',\n",
       " 'RIOVERDE',\n",
       " 'SALINAS',\n",
       " 'SAN ANTONIO',\n",
       " 'SAN CIRO DE ACOSTA',\n",
       " 'SAN LUIS POTOSI',\n",
       " 'SAN MARTIN CHALCHICUAUTLA',\n",
       " 'SAN NICOLAS TOLENTINO',\n",
       " 'SAN VICENTE TANCUAYALAB',\n",
       " 'SANTA CATARINA',\n",
       " 'SANTA MARIA DEL RIO',\n",
       " 'SANTO DOMINGO',\n",
       " 'SOLEDAD DE GRACIANO SANCHEZ',\n",
       " 'TAMASOPO',\n",
       " 'TAMAZUNCHALE',\n",
       " 'TAMPACAN',\n",
       " 'TAMPAMOLON CORONA',\n",
       " 'TAMUIN',\n",
       " 'TANCANHUITZ',\n",
       " 'TANLAJAS',\n",
       " 'TANQUIAN DE ESCOBEDO',\n",
       " 'TIERRA NUEVA',\n",
       " 'VANEGAS',\n",
       " 'VENADO',\n",
       " 'VILLA DE ARISTA',\n",
       " 'VILLA DE ARRIAGA',\n",
       " 'VILLA DE GUADALUPE',\n",
       " 'VILLA DE LA PAZ',\n",
       " 'VILLA DE RAMOS',\n",
       " 'VILLA DE REYES',\n",
       " 'VILLA HIDALGO',\n",
       " 'VILLA JUAREZ',\n",
       " 'XILITLA',\n",
       " 'ZARAGOZA']"
      ]
     },
     "execution_count": 17,
     "metadata": {},
     "output_type": "execute_result"
    }
   ],
   "source": [
    "[option.text for option in select_mun.options]"
   ]
  },
  {
   "cell_type": "code",
   "execution_count": 18,
   "metadata": {},
   "outputs": [],
   "source": [
    "select_mun.select_by_index(40)"
   ]
  },
  {
   "cell_type": "markdown",
   "metadata": {},
   "source": [
    "## Get y Select de la division"
   ]
  },
  {
   "cell_type": "code",
   "execution_count": 19,
   "metadata": {},
   "outputs": [],
   "source": [
    "select_div = Select(driver.find_element(By.ID,'ContentPlaceHolder1_EdoMpoDiv_ddDivision'))"
   ]
  },
  {
   "cell_type": "code",
   "execution_count": 20,
   "metadata": {},
   "outputs": [
    {
     "data": {
      "text/plain": [
       "['-- Seleccione un División --', 'GOLFO CENTRO']"
      ]
     },
     "execution_count": 20,
     "metadata": {},
     "output_type": "execute_result"
    }
   ],
   "source": [
    "[option.text for option in select_div.options]"
   ]
  },
  {
   "cell_type": "code",
   "execution_count": 21,
   "metadata": {},
   "outputs": [],
   "source": [
    "select_div.select_by_index(1)"
   ]
  },
  {
   "cell_type": "markdown",
   "metadata": {},
   "source": [
    "### Get valores Tabla"
   ]
  },
  {
   "cell_type": "code",
   "execution_count": 22,
   "metadata": {},
   "outputs": [],
   "source": [
    "table = driver.find_element(By.CSS_SELECTOR,\"table.table.table-bordered.table-striped\")"
   ]
  },
  {
   "cell_type": "code",
   "execution_count": 23,
   "metadata": {},
   "outputs": [
    {
     "name": "stdout",
     "output_type": "stream",
     "text": [
      "Tarifa Descripción Int. Horario Cargo Unidades MAY-22\n",
      "DIST Demanda industrial en subtransmisión - Fijo $/mes 1,022.86\n",
      "Base Variable (Energía) $/kWh 0.9757\n",
      "Intermedia Variable (Energía) $/kWh 1.5638\n",
      "Punta Variable (Energía) $/kWh 1.7642\n",
      "Semipunta Variable (Energía) $/kWh 0.0000\n",
      "- Capacidad $/kW 379.13\n"
     ]
    }
   ],
   "source": [
    "print(table.text)"
   ]
  },
  {
   "cell_type": "code",
   "execution_count": 24,
   "metadata": {},
   "outputs": [],
   "source": [
    "tbl = table.get_attribute('outerHTML')"
   ]
  },
  {
   "cell_type": "code",
   "execution_count": 25,
   "metadata": {},
   "outputs": [],
   "source": [
    "df  = pd.read_html(tbl)\n",
    "df = df[0]"
   ]
  },
  {
   "cell_type": "code",
   "execution_count": 26,
   "metadata": {},
   "outputs": [
    {
     "data": {
      "text/html": [
       "<div>\n",
       "<style scoped>\n",
       "    .dataframe tbody tr th:only-of-type {\n",
       "        vertical-align: middle;\n",
       "    }\n",
       "\n",
       "    .dataframe tbody tr th {\n",
       "        vertical-align: top;\n",
       "    }\n",
       "\n",
       "    .dataframe thead th {\n",
       "        text-align: right;\n",
       "    }\n",
       "</style>\n",
       "<table border=\"1\" class=\"dataframe\">\n",
       "  <thead>\n",
       "    <tr style=\"text-align: right;\">\n",
       "      <th></th>\n",
       "      <th>Tarifa</th>\n",
       "      <th>Descripción</th>\n",
       "      <th>Int. Horario</th>\n",
       "      <th>Cargo</th>\n",
       "      <th>Unidades</th>\n",
       "      <th>MAY-22</th>\n",
       "    </tr>\n",
       "  </thead>\n",
       "  <tbody>\n",
       "    <tr>\n",
       "      <th>0</th>\n",
       "      <td>DIST</td>\n",
       "      <td>Demanda industrial en subtransmisión</td>\n",
       "      <td>-</td>\n",
       "      <td>Fijo</td>\n",
       "      <td>$/mes</td>\n",
       "      <td>1022.8600</td>\n",
       "    </tr>\n",
       "    <tr>\n",
       "      <th>1</th>\n",
       "      <td>DIST</td>\n",
       "      <td>Demanda industrial en subtransmisión</td>\n",
       "      <td>Base</td>\n",
       "      <td>Variable (Energía)</td>\n",
       "      <td>$/kWh</td>\n",
       "      <td>0.9757</td>\n",
       "    </tr>\n",
       "    <tr>\n",
       "      <th>2</th>\n",
       "      <td>DIST</td>\n",
       "      <td>Demanda industrial en subtransmisión</td>\n",
       "      <td>Intermedia</td>\n",
       "      <td>Variable (Energía)</td>\n",
       "      <td>$/kWh</td>\n",
       "      <td>1.5638</td>\n",
       "    </tr>\n",
       "    <tr>\n",
       "      <th>3</th>\n",
       "      <td>DIST</td>\n",
       "      <td>Demanda industrial en subtransmisión</td>\n",
       "      <td>Punta</td>\n",
       "      <td>Variable (Energía)</td>\n",
       "      <td>$/kWh</td>\n",
       "      <td>1.7642</td>\n",
       "    </tr>\n",
       "    <tr>\n",
       "      <th>4</th>\n",
       "      <td>DIST</td>\n",
       "      <td>Demanda industrial en subtransmisión</td>\n",
       "      <td>Semipunta</td>\n",
       "      <td>Variable (Energía)</td>\n",
       "      <td>$/kWh</td>\n",
       "      <td>0.0000</td>\n",
       "    </tr>\n",
       "    <tr>\n",
       "      <th>5</th>\n",
       "      <td>DIST</td>\n",
       "      <td>Demanda industrial en subtransmisión</td>\n",
       "      <td>-</td>\n",
       "      <td>Capacidad</td>\n",
       "      <td>$/kW</td>\n",
       "      <td>379.1300</td>\n",
       "    </tr>\n",
       "  </tbody>\n",
       "</table>\n",
       "</div>"
      ],
      "text/plain": [
       "  Tarifa                           Descripción Int. Horario  \\\n",
       "0   DIST  Demanda industrial en subtransmisión            -   \n",
       "1   DIST  Demanda industrial en subtransmisión         Base   \n",
       "2   DIST  Demanda industrial en subtransmisión   Intermedia   \n",
       "3   DIST  Demanda industrial en subtransmisión        Punta   \n",
       "4   DIST  Demanda industrial en subtransmisión    Semipunta   \n",
       "5   DIST  Demanda industrial en subtransmisión            -   \n",
       "\n",
       "                Cargo Unidades     MAY-22  \n",
       "0                Fijo    $/mes  1022.8600  \n",
       "1  Variable (Energía)    $/kWh     0.9757  \n",
       "2  Variable (Energía)    $/kWh     1.5638  \n",
       "3  Variable (Energía)    $/kWh     1.7642  \n",
       "4  Variable (Energía)    $/kWh     0.0000  \n",
       "5           Capacidad     $/kW   379.1300  "
      ]
     },
     "execution_count": 26,
     "metadata": {},
     "output_type": "execute_result"
    }
   ],
   "source": [
    "df"
   ]
  },
  {
   "cell_type": "code",
   "execution_count": 27,
   "metadata": {},
   "outputs": [
    {
     "data": {
      "text/plain": [
       "'MAY-22'"
      ]
     },
     "execution_count": 27,
     "metadata": {},
     "output_type": "execute_result"
    }
   ],
   "source": [
    "df.columns.to_list()[-1]"
   ]
  },
  {
   "cell_type": "code",
   "execution_count": 28,
   "metadata": {},
   "outputs": [],
   "source": [
    "df['month'] = pd.to_datetime(df.columns.to_list()[-1], format='%b-%y').month"
   ]
  },
  {
   "cell_type": "code",
   "execution_count": 29,
   "metadata": {},
   "outputs": [],
   "source": [
    "df['year'] = pd.to_datetime(df.columns.to_list()[-2], format='%b-%y').year"
   ]
  },
  {
   "cell_type": "code",
   "execution_count": 30,
   "metadata": {},
   "outputs": [],
   "source": [
    "df['Estado'] = 'SLP'\n",
    "df['Municipio'] = 'Tampacan'"
   ]
  },
  {
   "cell_type": "code",
   "execution_count": 31,
   "metadata": {},
   "outputs": [
    {
     "data": {
      "text/html": [
       "<div>\n",
       "<style scoped>\n",
       "    .dataframe tbody tr th:only-of-type {\n",
       "        vertical-align: middle;\n",
       "    }\n",
       "\n",
       "    .dataframe tbody tr th {\n",
       "        vertical-align: top;\n",
       "    }\n",
       "\n",
       "    .dataframe thead th {\n",
       "        text-align: right;\n",
       "    }\n",
       "</style>\n",
       "<table border=\"1\" class=\"dataframe\">\n",
       "  <thead>\n",
       "    <tr style=\"text-align: right;\">\n",
       "      <th></th>\n",
       "      <th>Tarifa</th>\n",
       "      <th>Descripción</th>\n",
       "      <th>Int. Horario</th>\n",
       "      <th>Cargo</th>\n",
       "      <th>Unidades</th>\n",
       "      <th>MAY-22</th>\n",
       "      <th>month</th>\n",
       "      <th>year</th>\n",
       "      <th>Estado</th>\n",
       "      <th>Municipio</th>\n",
       "    </tr>\n",
       "  </thead>\n",
       "  <tbody>\n",
       "    <tr>\n",
       "      <th>0</th>\n",
       "      <td>DIST</td>\n",
       "      <td>Demanda industrial en subtransmisión</td>\n",
       "      <td>-</td>\n",
       "      <td>Fijo</td>\n",
       "      <td>$/mes</td>\n",
       "      <td>1022.8600</td>\n",
       "      <td>5</td>\n",
       "      <td>2022</td>\n",
       "      <td>SLP</td>\n",
       "      <td>Tampacan</td>\n",
       "    </tr>\n",
       "    <tr>\n",
       "      <th>1</th>\n",
       "      <td>DIST</td>\n",
       "      <td>Demanda industrial en subtransmisión</td>\n",
       "      <td>Base</td>\n",
       "      <td>Variable (Energía)</td>\n",
       "      <td>$/kWh</td>\n",
       "      <td>0.9757</td>\n",
       "      <td>5</td>\n",
       "      <td>2022</td>\n",
       "      <td>SLP</td>\n",
       "      <td>Tampacan</td>\n",
       "    </tr>\n",
       "    <tr>\n",
       "      <th>2</th>\n",
       "      <td>DIST</td>\n",
       "      <td>Demanda industrial en subtransmisión</td>\n",
       "      <td>Intermedia</td>\n",
       "      <td>Variable (Energía)</td>\n",
       "      <td>$/kWh</td>\n",
       "      <td>1.5638</td>\n",
       "      <td>5</td>\n",
       "      <td>2022</td>\n",
       "      <td>SLP</td>\n",
       "      <td>Tampacan</td>\n",
       "    </tr>\n",
       "    <tr>\n",
       "      <th>3</th>\n",
       "      <td>DIST</td>\n",
       "      <td>Demanda industrial en subtransmisión</td>\n",
       "      <td>Punta</td>\n",
       "      <td>Variable (Energía)</td>\n",
       "      <td>$/kWh</td>\n",
       "      <td>1.7642</td>\n",
       "      <td>5</td>\n",
       "      <td>2022</td>\n",
       "      <td>SLP</td>\n",
       "      <td>Tampacan</td>\n",
       "    </tr>\n",
       "    <tr>\n",
       "      <th>4</th>\n",
       "      <td>DIST</td>\n",
       "      <td>Demanda industrial en subtransmisión</td>\n",
       "      <td>Semipunta</td>\n",
       "      <td>Variable (Energía)</td>\n",
       "      <td>$/kWh</td>\n",
       "      <td>0.0000</td>\n",
       "      <td>5</td>\n",
       "      <td>2022</td>\n",
       "      <td>SLP</td>\n",
       "      <td>Tampacan</td>\n",
       "    </tr>\n",
       "    <tr>\n",
       "      <th>5</th>\n",
       "      <td>DIST</td>\n",
       "      <td>Demanda industrial en subtransmisión</td>\n",
       "      <td>-</td>\n",
       "      <td>Capacidad</td>\n",
       "      <td>$/kW</td>\n",
       "      <td>379.1300</td>\n",
       "      <td>5</td>\n",
       "      <td>2022</td>\n",
       "      <td>SLP</td>\n",
       "      <td>Tampacan</td>\n",
       "    </tr>\n",
       "  </tbody>\n",
       "</table>\n",
       "</div>"
      ],
      "text/plain": [
       "  Tarifa                           Descripción Int. Horario  \\\n",
       "0   DIST  Demanda industrial en subtransmisión            -   \n",
       "1   DIST  Demanda industrial en subtransmisión         Base   \n",
       "2   DIST  Demanda industrial en subtransmisión   Intermedia   \n",
       "3   DIST  Demanda industrial en subtransmisión        Punta   \n",
       "4   DIST  Demanda industrial en subtransmisión    Semipunta   \n",
       "5   DIST  Demanda industrial en subtransmisión            -   \n",
       "\n",
       "                Cargo Unidades     MAY-22  month  year Estado Municipio  \n",
       "0                Fijo    $/mes  1022.8600      5  2022    SLP  Tampacan  \n",
       "1  Variable (Energía)    $/kWh     0.9757      5  2022    SLP  Tampacan  \n",
       "2  Variable (Energía)    $/kWh     1.5638      5  2022    SLP  Tampacan  \n",
       "3  Variable (Energía)    $/kWh     1.7642      5  2022    SLP  Tampacan  \n",
       "4  Variable (Energía)    $/kWh     0.0000      5  2022    SLP  Tampacan  \n",
       "5           Capacidad     $/kW   379.1300      5  2022    SLP  Tampacan  "
      ]
     },
     "execution_count": 31,
     "metadata": {},
     "output_type": "execute_result"
    }
   ],
   "source": [
    "df"
   ]
  }
 ],
 "metadata": {
  "kernelspec": {
   "display_name": "Python 3.9.13 ('base')",
   "language": "python",
   "name": "python3"
  },
  "language_info": {
   "codemirror_mode": {
    "name": "ipython",
    "version": 3
   },
   "file_extension": ".py",
   "mimetype": "text/x-python",
   "name": "python",
   "nbconvert_exporter": "python",
   "pygments_lexer": "ipython3",
   "version": "3.9.13"
  },
  "orig_nbformat": 4,
  "vscode": {
   "interpreter": {
    "hash": "ad2bdc8ecc057115af97d19610ffacc2b4e99fae6737bb82f5d7fb13d2f2c186"
   }
  }
 },
 "nbformat": 4,
 "nbformat_minor": 2
}
