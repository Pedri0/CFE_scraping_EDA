{
 "cells": [
  {
   "cell_type": "code",
   "execution_count": 1,
   "metadata": {},
   "outputs": [],
   "source": [
    "import pandas as pd\n",
    "import numpy as np\n",
    "import matplotlib.pyplot as plt\n",
    "import seaborn as sns\n",
    "import plotly.express as px\n",
    "import glob\n",
    "import os\n",
    "import unidecode\n",
    "import plotly.io as pio\n",
    "pio.kaleido.scope.mathjax = None\n",
    "pio.templates.default = \"plotly_white\""
   ]
  },
  {
   "cell_type": "code",
   "execution_count": 110,
   "metadata": {},
   "outputs": [],
   "source": [
    "def read_csvs(path):\n",
    "    folders = []\n",
    "    directory = os.path.join(path)\n",
    "    for root,dirs,files in os.walk(directory):\n",
    "        folders.append(root)\n",
    "    del folders[0]\n",
    "\n",
    "    data_final = []\n",
    "    for folder in folders:\n",
    "        df = pd.concat(map(pd.read_csv, glob.glob(os.path.join(folder + \"/*.csv\"))))\n",
    "        state_name = folder.split(\"/\")[-1]\n",
    "        state_name = unidecode.unidecode(state_name.lower())\n",
    "        state_name = state_name.replace(\" \", \"_\")\n",
    "        df['estado'] = state_name\n",
    "        data_final.append(df)\n",
    "    \n",
    "    concat_data = pd.concat(data_final,ignore_index=True)\n",
    "    return concat_data\n",
    "\n",
    "def save_html_png(figure, name):\n",
    "    figure.write_html('./assets/images/html/' + name + '.html')\n",
    "    figure.write_image('./assets/images/png/' + name + '.png')"
   ]
  },
  {
   "cell_type": "code",
   "execution_count": 147,
   "metadata": {},
   "outputs": [
    {
     "data": {
      "text/plain": [
       "Int. Horario      0\n",
       "Cargo             0\n",
       "Unidades          0\n",
       "Valor             0\n",
       "year              0\n",
       "month             0\n",
       "state             0\n",
       "municipality      0\n",
       "division          0\n",
       "division_value    0\n",
       "estado            0\n",
       "date              0\n",
       "dtype: int64"
      ]
     },
     "execution_count": 147,
     "metadata": {},
     "output_type": "execute_result"
    }
   ],
   "source": [
    "data_2022 = read_csvs(\"./scraped_data_2022/\")\n",
    "data_2022.drop(['Descripción', 'Tarifa'], axis=1, inplace=True)\n",
    "data_2022['date'] = pd.to_datetime(data_2022.year.astype(str) + '/' + data_2022.month.astype(str))\n",
    "#data_2022['date'] = data_2022.date.dt.date\n",
    "data_2022.isna().sum()"
   ]
  },
  {
   "cell_type": "code",
   "execution_count": 148,
   "metadata": {},
   "outputs": [
    {
     "data": {
      "text/plain": [
       "Int. Horario      0\n",
       "Cargo             0\n",
       "Unidades          0\n",
       "Valor             0\n",
       "year              0\n",
       "month             0\n",
       "state             0\n",
       "municipality      0\n",
       "division          0\n",
       "division_value    0\n",
       "estado            0\n",
       "date              0\n",
       "dtype: int64"
      ]
     },
     "execution_count": 148,
     "metadata": {},
     "output_type": "execute_result"
    }
   ],
   "source": [
    "data_2021 = read_csvs(\"./scraped_data_2021/\")\n",
    "data_2021.drop(['Descripción', 'Tarifa'], axis=1, inplace=True)\n",
    "data_2021['date'] = pd.to_datetime(data_2021.year.astype(str) + '/' + data_2021.month.astype(str))\n",
    "#data_2022['date'] = data_2021.date.dt.date\n",
    "data_2021.isna().sum()"
   ]
  },
  {
   "cell_type": "code",
   "execution_count": 149,
   "metadata": {},
   "outputs": [
    {
     "data": {
      "text/plain": [
       "Int. Horario      0\n",
       "Cargo             0\n",
       "Unidades          0\n",
       "Valor             0\n",
       "year              0\n",
       "month             0\n",
       "state             0\n",
       "municipality      0\n",
       "division          0\n",
       "division_value    0\n",
       "estado            0\n",
       "date              0\n",
       "dtype: int64"
      ]
     },
     "execution_count": 149,
     "metadata": {},
     "output_type": "execute_result"
    }
   ],
   "source": [
    "data_2020 = read_csvs(\"./scraped_data_2020/\")\n",
    "data_2020.drop(['Descripción', 'Tarifa'], axis=1, inplace=True)\n",
    "data_2020['date'] = pd.to_datetime(data_2020.year.astype(str) + '/' + data_2020.month.astype(str))\n",
    "#data_2020['date'] = data_2020.date.dt.date\n",
    "data_2020.isna().sum()"
   ]
  },
  {
   "cell_type": "code",
   "execution_count": 6,
   "metadata": {},
   "outputs": [
    {
     "data": {
      "text/plain": [
       "array(['BAJA CALIFORNIA', 'BAJA CALIFORNIA SUR', 'BAJÍO',\n",
       "       'BAJÍO Y GOLFO CENTRO', 'BAJÍO Y GOLFO NORTE',\n",
       "       'BAJÍO Y GOLFO NORTE Y NORTE', 'BAJÍO Y NORTE', 'CENTRO OCCIDENTE',\n",
       "       'CENTRO OCCIDENTE Y JALISCO', 'CENTRO ORIENTE', 'CENTRO SUR',\n",
       "       'GOLFO CENTRO', 'GOLFO CENTRO Y GOLFO NORTE',\n",
       "       'GOLFO CENTRO Y ORIENTE', 'GOLFO NORTE', 'GOLFO NORTE Y NORTE',\n",
       "       'JALISCO', 'NOROESTE', 'NOROESTE Y NORTE', 'NORTE', 'ORIENTE',\n",
       "       'PENINSULAR', 'SURESTE', 'VALLE DE MÉXICO CENTRO',\n",
       "       'VALLE DE MÉXICO CENTRO Y SUR', 'VALLE DE MÉXICO NORTE',\n",
       "       'VALLE DE MÉXICO NORTE Y CENTRO',\n",
       "       'VALLE DE MÉXICO NORTE, CENTRO Y SUR', 'VALLE DE MÉXICO SUR',\n",
       "       'VALLE DE MÉXICO SUR Y CENTRO ORIENTE'], dtype=object)"
      ]
     },
     "execution_count": 6,
     "metadata": {},
     "output_type": "execute_result"
    }
   ],
   "source": [
    "data_2020.sort_values(by='division').division.unique()"
   ]
  },
  {
   "cell_type": "code",
   "execution_count": 7,
   "metadata": {},
   "outputs": [
    {
     "name": "stdout",
     "output_type": "stream",
     "text": [
      "La cantidad de divisiones oficiales es: 17\n"
     ]
    }
   ],
   "source": [
    "division_oficial = ['BAJA CALIFORNIA', 'BAJA CALIFORNIA SUR', 'BAJÍO',\n",
    "    'CENTRO OCCIDENTE', 'CENTRO ORIENTE', 'CENTRO SUR', 'GOLFO CENTRO','GOLFO NORTE',\n",
    "    'JALISCO', 'NOROESTE', 'NORTE', 'ORIENTE', 'PENINSULAR', 'SURESTE', \n",
    "    'VALLE DE MÉXICO CENTRO', 'VALLE DE MÉXICO NORTE', 'VALLE DE MÉXICO SUR']\n",
    "\n",
    "print(\"La cantidad de divisiones oficiales es:\", len(division_oficial))"
   ]
  },
  {
   "cell_type": "code",
   "execution_count": 8,
   "metadata": {},
   "outputs": [
    {
     "data": {
      "text/html": [
       "<div>\n",
       "<style scoped>\n",
       "    .dataframe tbody tr th:only-of-type {\n",
       "        vertical-align: middle;\n",
       "    }\n",
       "\n",
       "    .dataframe tbody tr th {\n",
       "        vertical-align: top;\n",
       "    }\n",
       "\n",
       "    .dataframe thead th {\n",
       "        text-align: right;\n",
       "    }\n",
       "</style>\n",
       "<table border=\"1\" class=\"dataframe\">\n",
       "  <thead>\n",
       "    <tr style=\"text-align: right;\">\n",
       "      <th></th>\n",
       "      <th>Int. Horario</th>\n",
       "      <th>Cargo</th>\n",
       "      <th>Unidades</th>\n",
       "      <th>Valor</th>\n",
       "      <th>year</th>\n",
       "      <th>month</th>\n",
       "      <th>state</th>\n",
       "      <th>municipality</th>\n",
       "      <th>division</th>\n",
       "      <th>division_value</th>\n",
       "      <th>estado</th>\n",
       "      <th>date</th>\n",
       "    </tr>\n",
       "  </thead>\n",
       "  <tbody>\n",
       "    <tr>\n",
       "      <th>0</th>\n",
       "      <td>-</td>\n",
       "      <td>Fijo</td>\n",
       "      <td>$/mes</td>\n",
       "      <td>478.51</td>\n",
       "      <td>2021</td>\n",
       "      <td>1</td>\n",
       "      <td>AGUASCALIENTES</td>\n",
       "      <td>1</td>\n",
       "      <td>BAJÍO</td>\n",
       "      <td>3</td>\n",
       "      <td>aguascalientes</td>\n",
       "      <td>2021-01-01</td>\n",
       "    </tr>\n",
       "    <tr>\n",
       "      <th>1</th>\n",
       "      <td>-</td>\n",
       "      <td>Fijo</td>\n",
       "      <td>$/mes</td>\n",
       "      <td>478.51</td>\n",
       "      <td>2021</td>\n",
       "      <td>1</td>\n",
       "      <td>ASIENTOS</td>\n",
       "      <td>2</td>\n",
       "      <td>BAJÍO</td>\n",
       "      <td>3</td>\n",
       "      <td>aguascalientes</td>\n",
       "      <td>2021-01-01</td>\n",
       "    </tr>\n",
       "    <tr>\n",
       "      <th>2</th>\n",
       "      <td>-</td>\n",
       "      <td>Fijo</td>\n",
       "      <td>$/mes</td>\n",
       "      <td>478.51</td>\n",
       "      <td>2021</td>\n",
       "      <td>1</td>\n",
       "      <td>CALVILLO</td>\n",
       "      <td>3</td>\n",
       "      <td>BAJÍO</td>\n",
       "      <td>3</td>\n",
       "      <td>aguascalientes</td>\n",
       "      <td>2021-01-01</td>\n",
       "    </tr>\n",
       "    <tr>\n",
       "      <th>3</th>\n",
       "      <td>-</td>\n",
       "      <td>Fijo</td>\n",
       "      <td>$/mes</td>\n",
       "      <td>478.51</td>\n",
       "      <td>2021</td>\n",
       "      <td>1</td>\n",
       "      <td>COSIO</td>\n",
       "      <td>4</td>\n",
       "      <td>BAJÍO</td>\n",
       "      <td>3</td>\n",
       "      <td>aguascalientes</td>\n",
       "      <td>2021-01-01</td>\n",
       "    </tr>\n",
       "    <tr>\n",
       "      <th>4</th>\n",
       "      <td>-</td>\n",
       "      <td>Fijo</td>\n",
       "      <td>$/mes</td>\n",
       "      <td>478.51</td>\n",
       "      <td>2021</td>\n",
       "      <td>1</td>\n",
       "      <td>EL LLANO</td>\n",
       "      <td>5</td>\n",
       "      <td>BAJÍO</td>\n",
       "      <td>3</td>\n",
       "      <td>aguascalientes</td>\n",
       "      <td>2021-01-01</td>\n",
       "    </tr>\n",
       "    <tr>\n",
       "      <th>...</th>\n",
       "      <td>...</td>\n",
       "      <td>...</td>\n",
       "      <td>...</td>\n",
       "      <td>...</td>\n",
       "      <td>...</td>\n",
       "      <td>...</td>\n",
       "      <td>...</td>\n",
       "      <td>...</td>\n",
       "      <td>...</td>\n",
       "      <td>...</td>\n",
       "      <td>...</td>\n",
       "      <td>...</td>\n",
       "    </tr>\n",
       "    <tr>\n",
       "      <th>29824</th>\n",
       "      <td>-</td>\n",
       "      <td>Fijo</td>\n",
       "      <td>$/mes</td>\n",
       "      <td>478.51</td>\n",
       "      <td>2021</td>\n",
       "      <td>12</td>\n",
       "      <td>VILLA GARCIA</td>\n",
       "      <td>2438</td>\n",
       "      <td>BAJÍO</td>\n",
       "      <td>3</td>\n",
       "      <td>zacatecas</td>\n",
       "      <td>2021-12-01</td>\n",
       "    </tr>\n",
       "    <tr>\n",
       "      <th>29825</th>\n",
       "      <td>-</td>\n",
       "      <td>Fijo</td>\n",
       "      <td>$/mes</td>\n",
       "      <td>478.51</td>\n",
       "      <td>2021</td>\n",
       "      <td>12</td>\n",
       "      <td>VILLA GONZALEZ ORTEGA</td>\n",
       "      <td>2439</td>\n",
       "      <td>BAJÍO</td>\n",
       "      <td>3</td>\n",
       "      <td>zacatecas</td>\n",
       "      <td>2021-12-01</td>\n",
       "    </tr>\n",
       "    <tr>\n",
       "      <th>29826</th>\n",
       "      <td>-</td>\n",
       "      <td>Fijo</td>\n",
       "      <td>$/mes</td>\n",
       "      <td>478.51</td>\n",
       "      <td>2021</td>\n",
       "      <td>12</td>\n",
       "      <td>VILLA HIDALGO</td>\n",
       "      <td>2440</td>\n",
       "      <td>BAJÍO</td>\n",
       "      <td>3</td>\n",
       "      <td>zacatecas</td>\n",
       "      <td>2021-12-01</td>\n",
       "    </tr>\n",
       "    <tr>\n",
       "      <th>29827</th>\n",
       "      <td>-</td>\n",
       "      <td>Fijo</td>\n",
       "      <td>$/mes</td>\n",
       "      <td>478.51</td>\n",
       "      <td>2021</td>\n",
       "      <td>12</td>\n",
       "      <td>VILLANUEVA</td>\n",
       "      <td>2441</td>\n",
       "      <td>BAJÍO</td>\n",
       "      <td>3</td>\n",
       "      <td>zacatecas</td>\n",
       "      <td>2021-12-01</td>\n",
       "    </tr>\n",
       "    <tr>\n",
       "      <th>29828</th>\n",
       "      <td>-</td>\n",
       "      <td>Fijo</td>\n",
       "      <td>$/mes</td>\n",
       "      <td>478.51</td>\n",
       "      <td>2021</td>\n",
       "      <td>12</td>\n",
       "      <td>ZACATECAS</td>\n",
       "      <td>2442</td>\n",
       "      <td>BAJÍO</td>\n",
       "      <td>3</td>\n",
       "      <td>zacatecas</td>\n",
       "      <td>2021-12-01</td>\n",
       "    </tr>\n",
       "  </tbody>\n",
       "</table>\n",
       "<p>29829 rows × 12 columns</p>\n",
       "</div>"
      ],
      "text/plain": [
       "      Int. Horario Cargo Unidades   Valor  year  month                  state  \\\n",
       "0                -  Fijo    $/mes  478.51  2021      1         AGUASCALIENTES   \n",
       "1                -  Fijo    $/mes  478.51  2021      1               ASIENTOS   \n",
       "2                -  Fijo    $/mes  478.51  2021      1               CALVILLO   \n",
       "3                -  Fijo    $/mes  478.51  2021      1                  COSIO   \n",
       "4                -  Fijo    $/mes  478.51  2021      1               EL LLANO   \n",
       "...            ...   ...      ...     ...   ...    ...                    ...   \n",
       "29824            -  Fijo    $/mes  478.51  2021     12           VILLA GARCIA   \n",
       "29825            -  Fijo    $/mes  478.51  2021     12  VILLA GONZALEZ ORTEGA   \n",
       "29826            -  Fijo    $/mes  478.51  2021     12          VILLA HIDALGO   \n",
       "29827            -  Fijo    $/mes  478.51  2021     12             VILLANUEVA   \n",
       "29828            -  Fijo    $/mes  478.51  2021     12              ZACATECAS   \n",
       "\n",
       "       municipality division  division_value          estado       date  \n",
       "0                 1    BAJÍO               3  aguascalientes 2021-01-01  \n",
       "1                 2    BAJÍO               3  aguascalientes 2021-01-01  \n",
       "2                 3    BAJÍO               3  aguascalientes 2021-01-01  \n",
       "3                 4    BAJÍO               3  aguascalientes 2021-01-01  \n",
       "4                 5    BAJÍO               3  aguascalientes 2021-01-01  \n",
       "...             ...      ...             ...             ...        ...  \n",
       "29824          2438    BAJÍO               3       zacatecas 2021-12-01  \n",
       "29825          2439    BAJÍO               3       zacatecas 2021-12-01  \n",
       "29826          2440    BAJÍO               3       zacatecas 2021-12-01  \n",
       "29827          2441    BAJÍO               3       zacatecas 2021-12-01  \n",
       "29828          2442    BAJÍO               3       zacatecas 2021-12-01  \n",
       "\n",
       "[29829 rows x 12 columns]"
      ]
     },
     "execution_count": 8,
     "metadata": {},
     "output_type": "execute_result"
    }
   ],
   "source": [
    "cargo_fijo = data_2021[(data_2021.division.isin(division_oficial))&(data_2021.Cargo=='Fijo')]\n",
    "cargo_fijo.reset_index(drop=True, inplace=True)\n",
    "cargo_fijo"
   ]
  },
  {
   "cell_type": "code",
   "execution_count": 9,
   "metadata": {},
   "outputs": [],
   "source": [
    "def get_max_min(data, division):\n",
    "    for div in division:\n",
    "        max = data[data.division==div].Valor.max()\n",
    "        min = data[data.division==div].Valor.min()\n",
    "        print(max- min)\n",
    "        print(div)\n",
    "        print(60*\"-\")"
   ]
  },
  {
   "cell_type": "code",
   "execution_count": 10,
   "metadata": {},
   "outputs": [
    {
     "name": "stdout",
     "output_type": "stream",
     "text": [
      "0.0\n",
      "BAJA CALIFORNIA\n",
      "------------------------------------------------------------\n",
      "0.0\n",
      "BAJA CALIFORNIA SUR\n",
      "------------------------------------------------------------\n",
      "0.0\n",
      "BAJÍO\n",
      "------------------------------------------------------------\n",
      "0.0\n",
      "CENTRO OCCIDENTE\n",
      "------------------------------------------------------------\n",
      "0.0\n",
      "CENTRO ORIENTE\n",
      "------------------------------------------------------------\n",
      "0.0\n",
      "CENTRO SUR\n",
      "------------------------------------------------------------\n",
      "0.0\n",
      "GOLFO CENTRO\n",
      "------------------------------------------------------------\n",
      "0.0\n",
      "GOLFO NORTE\n",
      "------------------------------------------------------------\n",
      "0.0\n",
      "JALISCO\n",
      "------------------------------------------------------------\n",
      "0.0\n",
      "NOROESTE\n",
      "------------------------------------------------------------\n",
      "0.0\n",
      "NORTE\n",
      "------------------------------------------------------------\n",
      "0.0\n",
      "ORIENTE\n",
      "------------------------------------------------------------\n",
      "0.0\n",
      "PENINSULAR\n",
      "------------------------------------------------------------\n",
      "0.0\n",
      "SURESTE\n",
      "------------------------------------------------------------\n",
      "0.0\n",
      "VALLE DE MÉXICO CENTRO\n",
      "------------------------------------------------------------\n",
      "0.0\n",
      "VALLE DE MÉXICO NORTE\n",
      "------------------------------------------------------------\n",
      "0.0\n",
      "VALLE DE MÉXICO SUR\n",
      "------------------------------------------------------------\n"
     ]
    }
   ],
   "source": [
    "get_max_min(cargo_fijo, division_oficial)"
   ]
  },
  {
   "cell_type": "code",
   "execution_count": 11,
   "metadata": {},
   "outputs": [],
   "source": [
    "def get_cargo_variacion(data, anio, division_oficial, tipo_cargo, etiqueta = 'Cargo fijo ($/mes)'):\n",
    "    cargo = data[(data.division.isin(division_oficial))&(data.Cargo==tipo_cargo)]\n",
    "    cargo.reset_index(drop=True, inplace=True)\n",
    "    fig = px.line(cargo, x='date', y='Valor', color='division', line_group = 'estado',\n",
    "        title='Variación de la tarifa de cargo {} por division durante el año {}'.format(tipo_cargo,anio),\n",
    "        labels={'date':'Fecha por mes', 'Valor':etiqueta}, width=1200, height=650, markers=True,\n",
    "        color_discrete_sequence=px.colors.qualitative.Alphabet)\n",
    "    #fig.update_xaxes(rangeslider_visible=True)\n",
    "    return fig"
   ]
  },
  {
   "cell_type": "code",
   "execution_count": 12,
   "metadata": {},
   "outputs": [],
   "source": [
    "cargo_fijo_2020 = get_cargo_variacion(data_2020, 2020, division_oficial, 'Fijo', 'Cargo fijo ($/mes)')\n",
    "save_html_png(cargo_fijo_2020, 'cargo_fijo_2020')\n",
    "\n",
    "cargo_fijo_2021 = get_cargo_variacion(data_2021, 2021, division_oficial, 'Fijo', 'Cargo fijo ($/mes)')\n",
    "save_html_png(cargo_fijo_2021, 'cargo_fijo_2021')\n",
    "\n",
    "cargo_fijo_2022 = get_cargo_variacion(data_2022, 2022, division_oficial, 'Fijo', 'Cargo fijo ($/mes)')\n",
    "save_html_png(cargo_fijo_2022, 'cargo_fijo_2022')"
   ]
  },
  {
   "cell_type": "code",
   "execution_count": 13,
   "metadata": {},
   "outputs": [],
   "source": [
    "cargo_dist_2020 = get_cargo_variacion(data_2020,2020,division_oficial,'Distribución','Distribución ($/kW)')\n",
    "save_html_png(cargo_dist_2020, 'distribucion_2020')\n",
    "\n",
    "cargo_dist_2021 = get_cargo_variacion(data_2021,2021,division_oficial,'Distribución','Distribución ($/kW)')\n",
    "save_html_png(cargo_dist_2021, 'distribucion_2021')\n",
    "\n",
    "cargo_dist_2022 = get_cargo_variacion(data_2022,2022,division_oficial,'Distribución','Distribución ($/kW)')\n",
    "save_html_png(cargo_dist_2022, 'distribucion_2022')"
   ]
  },
  {
   "cell_type": "code",
   "execution_count": 14,
   "metadata": {},
   "outputs": [],
   "source": [
    "cargo_cap_2020 = get_cargo_variacion(data_2020,2020,division_oficial,'Capacidad','Capacidad ($/kW)')\n",
    "save_html_png(cargo_cap_2020, 'capacidad_2020')\n",
    "\n",
    "cargo_cap_2021 = get_cargo_variacion(data_2021,2021,division_oficial,'Capacidad','Capacidad ($/kW)')\n",
    "save_html_png(cargo_cap_2021, 'capacidad_2021')\n",
    "\n",
    "cargo_cap_2022 = get_cargo_variacion(data_2022,2022,division_oficial,'Capacidad','Capacidad ($/kW)')\n",
    "save_html_png(cargo_cap_2022, 'capacidad_2022')"
   ]
  },
  {
   "cell_type": "code",
   "execution_count": 111,
   "metadata": {},
   "outputs": [],
   "source": [
    "def get_violin_plot(data, anio, division_oficial):\n",
    "    cargo = data[(data.division.isin(division_oficial))&(data.Cargo=='Capacidad')]\n",
    "    cargo.reset_index(drop=True, inplace=True)\n",
    "    fig = px.violin(cargo, y=\"Valor\", color=\"division\", box=True, points='suspectedoutliers',\n",
    "        title='Distribución de la tarifa de cargo capacidad por division durante el año {}'.format(anio),\n",
    "        labels={'Valor':'Capacidad ($/kW)'}, width=1200, height=650,\n",
    "        color_discrete_sequence=px.colors.qualitative.Alphabet)\n",
    "    return fig\n",
    "\n",
    "def get_boxplots(data, anio, division_oficial, tipo='Capacidad'):\n",
    "    if tipo == 'Capacidad':\n",
    "        cargo = data[(data.division.isin(division_oficial))&(data.Cargo=='Capacidad')]\n",
    "        fig_title = 'Estadística de la distribución de la tarifa de cargo capacidad por division durante el año {}'.format(anio)\n",
    "        lbl = 'Capacidad ($/kW)'\n",
    "\n",
    "    else:\n",
    "        cargo = data[(data.division.isin(division_oficial))&(data['Int. Horario']==tipo)]\n",
    "        fig_title = 'Estadística de la distribución de la tarifa int. horario {} por division durante el año {}'.format(tipo, anio)\n",
    "        lbl = 'Capacidad ($/kWh)'\n",
    "\n",
    "    cargo.reset_index(drop=True, inplace=True)\n",
    "    grouped_data = cargo[['Valor', 'division', 'date']].groupby(['division','date']).mean()#agg([np.mean, np.std])\n",
    "    grouped_data_std = cargo[['Valor', 'division', 'date']].groupby(['division','date']).std()\n",
    "    grouped_data.reset_index(inplace=True)\n",
    "    grouped_data_std.reset_index(inplace=True)\n",
    "\n",
    "    if grouped_data_std.Valor.sum() == 0:\n",
    "        fig = px.box(grouped_data, y=\"Valor\", color=\"division\", points='suspectedoutliers',\n",
    "            labels={'Valor':lbl}, width=1200, height=650,\n",
    "            title=fig_title,\n",
    "            color_discrete_sequence=px.colors.qualitative.Alphabet)\n",
    "        return fig\n",
    "    else:\n",
    "        print('Hay variaciones en la tarifa de capacidad intraregión revisar')\n",
    "        return None"
   ]
  },
  {
   "cell_type": "code",
   "execution_count": 16,
   "metadata": {},
   "outputs": [],
   "source": [
    "violin_cap_2020 = get_violin_plot(data_2020,2020,division_oficial)\n",
    "save_html_png(violin_cap_2020, 'violin_capacidad_2020')\n",
    "\n",
    "violin_cap_2021 = get_violin_plot(data_2021,2021,division_oficial)\n",
    "save_html_png(violin_cap_2021, 'violin_capacidad_2021')\n",
    "\n",
    "violin_cap_2022 = get_violin_plot(data_2022,2022,division_oficial)\n",
    "save_html_png(violin_cap_2022, 'violin_capacidad_2022')"
   ]
  },
  {
   "cell_type": "code",
   "execution_count": 91,
   "metadata": {},
   "outputs": [],
   "source": [
    "box_cap_2020 = get_boxplots(data_2020,2020,division_oficial)\n",
    "save_html_png(box_cap_2020, 'boxplot_capacidad_2020')\n",
    "\n",
    "box_cap_2021 = get_boxplots(data_2021,2021,division_oficial)\n",
    "save_html_png(box_cap_2021, 'boxplot_capacidad_2021')\n",
    "\n",
    "box_cap_2022 = get_boxplots(data_2022,2022,division_oficial)\n",
    "save_html_png(box_cap_2022, 'boxplot_capacidad_2022')"
   ]
  },
  {
   "cell_type": "code",
   "execution_count": 17,
   "metadata": {},
   "outputs": [],
   "source": [
    "def get_variacion_tarifas(data, anio, division_oficial, tarifa_horario, rango_y = [0.5, 2.1]):\n",
    "    croped_data = data[(data['Int. Horario'] == tarifa_horario)&(data['division'].isin(division_oficial))]\n",
    "    croped_data.reset_index(drop=True, inplace=True)\n",
    "    croped_data = croped_data[['Valor','month', 'division', 'date']].groupby(['division','date']).agg([np.mean, np.std])\n",
    "    croped_data.reset_index(inplace=True)\n",
    "\n",
    "    if croped_data.Valor['std'].sum() == 0.0:\n",
    "        croped_data = croped_data.pivot(index='date', columns='division', values=('Valor', 'mean'))\n",
    "        fig = px.area(croped_data, facet_col=\"division\", facet_col_wrap=6, markers=True, range_y=rango_y,\n",
    "              title='Variación de la tarifa de int. horario {} por division durante el año {}'.format(tarifa_horario, anio), width=1800, height=650,\n",
    "              labels={'date':'Mes', 'value':'$/kWh'}, color_discrete_sequence=px.colors.qualitative.Alphabet)\n",
    "        return fig\n",
    "    else:\n",
    "        print('Hay algo extraño con los datos, existen variaciones en la tarifa de interés por mes y region, revisar')\n",
    "        return None\n"
   ]
  },
  {
   "cell_type": "code",
   "execution_count": 116,
   "metadata": {},
   "outputs": [],
   "source": [
    "tarifa_base_2020 = get_variacion_tarifas(data_2020,2020,division_oficial,'Base')\n",
    "box_base_2020 = get_boxplots(data_2020,2020,division_oficial,'Base')\n",
    "save_html_png(tarifa_base_2020, 'tarifa_base_2020')\n",
    "save_html_png(box_base_2020, 'boxplot_base_2020')\n",
    "\n",
    "tarifa_inter_2020 = get_variacion_tarifas(data_2020,2020,division_oficial,'Intermedia', [0,2.6])\n",
    "box_inter_2020 = get_boxplots(data_2020,2020,division_oficial,'Intermedia')\n",
    "save_html_png(tarifa_inter_2020, 'tarifa_inter_2020')\n",
    "save_html_png(box_inter_2020, 'boxplot_inter_2020')\n",
    "\n",
    "tarifa_punta_2020 = get_variacion_tarifas(data_2020,2020,division_oficial,'Punta', [0,3.6])\n",
    "box_punta_2020 = get_boxplots(data_2020,2020,division_oficial,'Punta')\n",
    "save_html_png(tarifa_punta_2020, 'tarifa_punta_2020')\n",
    "save_html_png(box_punta_2020, 'boxplot_punta_2020')"
   ]
  },
  {
   "cell_type": "code",
   "execution_count": 115,
   "metadata": {},
   "outputs": [],
   "source": [
    "tarifa_base_2021 = get_variacion_tarifas(data_2021,2021,division_oficial,'Base')\n",
    "box_base_2021 = get_boxplots(data_2021,2021,division_oficial,'Base')\n",
    "save_html_png(tarifa_base_2021, 'tarifa_base_2021')\n",
    "save_html_png(box_base_2021, 'boxplot_base_2021')\n",
    "\n",
    "tarifa_inter_2021 = get_variacion_tarifas(data_2021,2021,division_oficial,'Intermedia', [0,2.6])\n",
    "box_inter_2021 = get_boxplots(data_2021,2021,division_oficial,'Intermedia')\n",
    "save_html_png(tarifa_inter_2021, 'tarifa_inter_2021')\n",
    "save_html_png(box_inter_2021, 'boxplot_inter_2021')\n",
    "\n",
    "tarifa_punta_2021 = get_variacion_tarifas(data_2021,2021,division_oficial,'Punta', [0,3.6])\n",
    "box_punta_2021 = get_boxplots(data_2021,2021,division_oficial,'Punta')\n",
    "save_html_png(tarifa_punta_2021, 'tarifa_punta_2021')\n",
    "save_html_png(box_punta_2021, 'boxplot_punta_2021')"
   ]
  },
  {
   "cell_type": "code",
   "execution_count": 114,
   "metadata": {},
   "outputs": [],
   "source": [
    "tarifa_base_2022 = get_variacion_tarifas(data_2022,2022,division_oficial,'Base')\n",
    "box_base_2022 = get_boxplots(data_2022,2022,division_oficial,'Base')\n",
    "save_html_png(tarifa_base_2022, 'tarifa_base_2022')\n",
    "save_html_png(box_base_2022, 'boxplot_base_2022')\n",
    "\n",
    "tarifa_inter_2022 = get_variacion_tarifas(data_2022,2022,division_oficial,'Intermedia', [0,2.6])\n",
    "box_inter_2022 = get_boxplots(data_2022,2022,division_oficial,'Intermedia')\n",
    "save_html_png(tarifa_inter_2022, 'tarifa_inter_2022')\n",
    "save_html_png(box_inter_2022, 'boxplot_inter_2022')\n",
    "\n",
    "tarifa_punta_2022 = get_variacion_tarifas(data_2022,2022,division_oficial,'Punta', [0,3.6])\n",
    "box_punta_2022 = get_boxplots(data_2022,2022,division_oficial,'Punta')\n",
    "save_html_png(tarifa_punta_2022, 'tarifa_punta_2022')\n",
    "save_html_png(box_punta_2022, 'boxplot_punta_2022')"
   ]
  },
  {
   "cell_type": "code",
   "execution_count": 125,
   "metadata": {},
   "outputs": [],
   "source": [
    "croped_data = data_2022[(data_2022['Int. Horario'] == 'Punta')&(data_2022['division'].isin(division_oficial))]\n",
    "croped_data.reset_index(drop=True, inplace=True)\n",
    "croped_data = croped_data[['Valor','month', 'division', 'date']].groupby(['division','date']).mean()\n",
    "#croped_data.reset_index(inplace=True)"
   ]
  },
  {
   "cell_type": "code",
   "execution_count": 126,
   "metadata": {},
   "outputs": [
    {
     "data": {
      "text/html": [
       "<div>\n",
       "<style scoped>\n",
       "    .dataframe tbody tr th:only-of-type {\n",
       "        vertical-align: middle;\n",
       "    }\n",
       "\n",
       "    .dataframe tbody tr th {\n",
       "        vertical-align: top;\n",
       "    }\n",
       "\n",
       "    .dataframe thead th {\n",
       "        text-align: right;\n",
       "    }\n",
       "</style>\n",
       "<table border=\"1\" class=\"dataframe\">\n",
       "  <thead>\n",
       "    <tr style=\"text-align: right;\">\n",
       "      <th></th>\n",
       "      <th>Valor</th>\n",
       "      <th>month</th>\n",
       "    </tr>\n",
       "  </thead>\n",
       "  <tbody>\n",
       "    <tr>\n",
       "      <th>Valor</th>\n",
       "      <td>1.000000</td>\n",
       "      <td>0.092798</td>\n",
       "    </tr>\n",
       "    <tr>\n",
       "      <th>month</th>\n",
       "      <td>0.092798</td>\n",
       "      <td>1.000000</td>\n",
       "    </tr>\n",
       "  </tbody>\n",
       "</table>\n",
       "</div>"
      ],
      "text/plain": [
       "          Valor     month\n",
       "Valor  1.000000  0.092798\n",
       "month  0.092798  1.000000"
      ]
     },
     "execution_count": 126,
     "metadata": {},
     "output_type": "execute_result"
    }
   ],
   "source": [
    "croped_data.corr()"
   ]
  },
  {
   "cell_type": "code",
   "execution_count": 127,
   "metadata": {},
   "outputs": [
    {
     "data": {
      "text/html": [
       "<div>\n",
       "<style scoped>\n",
       "    .dataframe tbody tr th:only-of-type {\n",
       "        vertical-align: middle;\n",
       "    }\n",
       "\n",
       "    .dataframe tbody tr th {\n",
       "        vertical-align: top;\n",
       "    }\n",
       "\n",
       "    .dataframe thead th {\n",
       "        text-align: right;\n",
       "    }\n",
       "</style>\n",
       "<table border=\"1\" class=\"dataframe\">\n",
       "  <thead>\n",
       "    <tr style=\"text-align: right;\">\n",
       "      <th></th>\n",
       "      <th></th>\n",
       "      <th>Valor</th>\n",
       "      <th>month</th>\n",
       "    </tr>\n",
       "    <tr>\n",
       "      <th>division</th>\n",
       "      <th>date</th>\n",
       "      <th></th>\n",
       "      <th></th>\n",
       "    </tr>\n",
       "  </thead>\n",
       "  <tbody>\n",
       "    <tr>\n",
       "      <th rowspan=\"5\" valign=\"top\">BAJA CALIFORNIA</th>\n",
       "      <th>2022-01-01</th>\n",
       "      <td>1.1566</td>\n",
       "      <td>1.0</td>\n",
       "    </tr>\n",
       "    <tr>\n",
       "      <th>2022-02-01</th>\n",
       "      <td>1.1649</td>\n",
       "      <td>2.0</td>\n",
       "    </tr>\n",
       "    <tr>\n",
       "      <th>2022-03-01</th>\n",
       "      <td>1.1649</td>\n",
       "      <td>3.0</td>\n",
       "    </tr>\n",
       "    <tr>\n",
       "      <th>2022-04-01</th>\n",
       "      <td>1.1942</td>\n",
       "      <td>4.0</td>\n",
       "    </tr>\n",
       "    <tr>\n",
       "      <th>2022-05-01</th>\n",
       "      <td>1.2169</td>\n",
       "      <td>5.0</td>\n",
       "    </tr>\n",
       "    <tr>\n",
       "      <th>...</th>\n",
       "      <th>...</th>\n",
       "      <td>...</td>\n",
       "      <td>...</td>\n",
       "    </tr>\n",
       "    <tr>\n",
       "      <th rowspan=\"5\" valign=\"top\">VALLE DE MÉXICO SUR</th>\n",
       "      <th>2022-06-01</th>\n",
       "      <td>1.9802</td>\n",
       "      <td>6.0</td>\n",
       "    </tr>\n",
       "    <tr>\n",
       "      <th>2022-07-01</th>\n",
       "      <td>2.0320</td>\n",
       "      <td>7.0</td>\n",
       "    </tr>\n",
       "    <tr>\n",
       "      <th>2022-08-01</th>\n",
       "      <td>2.0424</td>\n",
       "      <td>8.0</td>\n",
       "    </tr>\n",
       "    <tr>\n",
       "      <th>2022-09-01</th>\n",
       "      <td>2.0529</td>\n",
       "      <td>9.0</td>\n",
       "    </tr>\n",
       "    <tr>\n",
       "      <th>2022-10-01</th>\n",
       "      <td>2.0603</td>\n",
       "      <td>10.0</td>\n",
       "    </tr>\n",
       "  </tbody>\n",
       "</table>\n",
       "<p>170 rows × 2 columns</p>\n",
       "</div>"
      ],
      "text/plain": [
       "                                 Valor  month\n",
       "division            date                     \n",
       "BAJA CALIFORNIA     2022-01-01  1.1566    1.0\n",
       "                    2022-02-01  1.1649    2.0\n",
       "                    2022-03-01  1.1649    3.0\n",
       "                    2022-04-01  1.1942    4.0\n",
       "                    2022-05-01  1.2169    5.0\n",
       "...                                ...    ...\n",
       "VALLE DE MÉXICO SUR 2022-06-01  1.9802    6.0\n",
       "                    2022-07-01  2.0320    7.0\n",
       "                    2022-08-01  2.0424    8.0\n",
       "                    2022-09-01  2.0529    9.0\n",
       "                    2022-10-01  2.0603   10.0\n",
       "\n",
       "[170 rows x 2 columns]"
      ]
     },
     "execution_count": 127,
     "metadata": {},
     "output_type": "execute_result"
    }
   ],
   "source": [
    "croped_data"
   ]
  },
  {
   "cell_type": "markdown",
   "metadata": {},
   "source": [
    "# Join years 2020, 2021 and 2022"
   ]
  },
  {
   "cell_type": "code",
   "execution_count": 150,
   "metadata": {},
   "outputs": [],
   "source": [
    "data = pd.concat([data_2020, data_2021, data_2022], ignore_index=True)"
   ]
  },
  {
   "cell_type": "code",
   "execution_count": 144,
   "metadata": {},
   "outputs": [
    {
     "name": "stdout",
     "output_type": "stream",
     "text": [
      "Hay algo extraño con los datos, existen variaciones en la tarifa de interés por mes y region, revisar\n"
     ]
    },
    {
     "name": "stderr",
     "output_type": "stream",
     "text": [
      "C:\\Users\\roker\\AppData\\Local\\Temp\\ipykernel_6384\\13227024.py:4: FutureWarning:\n",
      "\n",
      "Comparison of Timestamp with datetime.date is deprecated in order to match the standard library behavior. In a future version these will be considered non-comparable. Use 'ts == pd.Timestamp(date)' or 'ts.date() == date' instead.\n",
      "\n"
     ]
    }
   ],
   "source": [
    "get_variacion_tarifas(data,2020,division_oficial,'Base')"
   ]
  },
  {
   "cell_type": "code",
   "execution_count": 159,
   "metadata": {},
   "outputs": [
    {
     "data": {
      "application/vnd.plotly.v1+json": {
       "config": {
        "plotlyServerURL": "https://plot.ly"
       },
       "data": [
        {
         "hovertemplate": "division=BAJA CALIFORNIA<br>Mes=%{x}<br>$/kWh=%{y}<extra></extra>",
         "legendgroup": "BAJA CALIFORNIA",
         "line": {
          "color": "#AA0DFE",
          "dash": "solid"
         },
         "marker": {
          "symbol": "circle"
         },
         "mode": "markers+lines",
         "name": "BAJA CALIFORNIA",
         "orientation": "v",
         "showlegend": true,
         "type": "scatter",
         "x": [
          "2020-01-01T00:00:00",
          "2020-02-01T00:00:00",
          "2020-03-01T00:00:00",
          "2020-04-01T00:00:00",
          "2020-05-01T00:00:00",
          "2020-06-01T00:00:00",
          "2020-07-01T00:00:00",
          "2020-08-01T00:00:00",
          "2020-09-01T00:00:00",
          "2020-10-01T00:00:00",
          "2020-11-01T00:00:00",
          "2020-12-01T00:00:00",
          "2021-01-01T00:00:00",
          "2021-02-01T00:00:00",
          "2021-03-01T00:00:00",
          "2021-04-01T00:00:00",
          "2021-05-01T00:00:00",
          "2021-06-01T00:00:00",
          "2021-07-01T00:00:00",
          "2021-08-01T00:00:00",
          "2021-09-01T00:00:00",
          "2021-10-01T00:00:00",
          "2021-11-01T00:00:00",
          "2021-12-01T00:00:00",
          "2022-01-01T00:00:00",
          "2022-02-01T00:00:00",
          "2022-03-01T00:00:00",
          "2022-04-01T00:00:00",
          "2022-05-01T00:00:00",
          "2022-06-01T00:00:00",
          "2022-07-01T00:00:00",
          "2022-08-01T00:00:00",
          "2022-09-01T00:00:00",
          "2022-10-01T00:00:00"
         ],
         "xaxis": "x",
         "y": [
          0.8473,
          0.8423,
          0.8465999999999999,
          0.8508000000000001,
          0.8435,
          0.8372,
          0.8215,
          0.8119,
          0.7939,
          0.7939999999999999,
          0.7942,
          0.7934,
          0.8069,
          0.8111,
          0.8126,
          0.836,
          0.8393,
          0.8643,
          0.8563,
          0.8549999999999999,
          0.8397,
          0.838,
          0.8441,
          0.8524,
          0.8610999999999999,
          0.8669,
          0.8669,
          0.8872,
          0.9029999999999999,
          0.8807,
          0.9007,
          0.9047,
          0.9087,
          0.9116
         ],
         "yaxis": "y"
        },
        {
         "hovertemplate": "division=BAJA CALIFORNIA SUR<br>Mes=%{x}<br>$/kWh=%{y}<extra></extra>",
         "legendgroup": "BAJA CALIFORNIA SUR",
         "line": {
          "color": "#3283FE",
          "dash": "solid"
         },
         "marker": {
          "symbol": "circle"
         },
         "mode": "markers+lines",
         "name": "BAJA CALIFORNIA SUR",
         "orientation": "v",
         "showlegend": true,
         "type": "scatter",
         "x": [
          "2020-01-01T00:00:00",
          "2020-02-01T00:00:00",
          "2020-03-01T00:00:00",
          "2020-04-01T00:00:00",
          "2020-05-01T00:00:00",
          "2020-06-01T00:00:00",
          "2020-07-01T00:00:00",
          "2020-08-01T00:00:00",
          "2020-09-01T00:00:00",
          "2020-10-01T00:00:00",
          "2020-11-01T00:00:00",
          "2020-12-01T00:00:00",
          "2021-01-01T00:00:00",
          "2021-02-01T00:00:00",
          "2021-03-01T00:00:00",
          "2021-04-01T00:00:00",
          "2021-05-01T00:00:00",
          "2021-06-01T00:00:00",
          "2021-07-01T00:00:00",
          "2021-08-01T00:00:00",
          "2021-09-01T00:00:00",
          "2021-10-01T00:00:00",
          "2021-11-01T00:00:00",
          "2021-12-01T00:00:00",
          "2022-01-01T00:00:00",
          "2022-02-01T00:00:00",
          "2022-03-01T00:00:00",
          "2022-04-01T00:00:00",
          "2022-05-01T00:00:00",
          "2022-06-01T00:00:00",
          "2022-07-01T00:00:00",
          "2022-08-01T00:00:00",
          "2022-09-01T00:00:00",
          "2022-10-01T00:00:00"
         ],
         "xaxis": "x",
         "y": [
          2.3535,
          2.3372,
          2.3512,
          2.365,
          2.3414,
          2.3207,
          2.2696,
          2.238,
          2.1795,
          2.1799,
          2.1804,
          2.1778,
          2.2075,
          2.221,
          2.2258,
          2.3022,
          2.3132,
          2.3947,
          2.3686,
          2.3644,
          2.3144,
          2.3088,
          2.3286,
          2.3558,
          2.3812,
          2.4,
          2.4001,
          2.4665,
          2.5179,
          2.4451,
          2.5104,
          2.5235,
          2.5367,
          2.5461
         ],
         "yaxis": "y"
        },
        {
         "hovertemplate": "division=BAJÍO<br>Mes=%{x}<br>$/kWh=%{y}<extra></extra>",
         "legendgroup": "BAJÍO",
         "line": {
          "color": "#85660D",
          "dash": "solid"
         },
         "marker": {
          "symbol": "circle"
         },
         "mode": "markers+lines",
         "name": "BAJÍO",
         "orientation": "v",
         "showlegend": true,
         "type": "scatter",
         "x": [
          "2020-01-01T00:00:00",
          "2020-02-01T00:00:00",
          "2020-03-01T00:00:00",
          "2020-04-01T00:00:00",
          "2020-05-01T00:00:00",
          "2020-06-01T00:00:00",
          "2020-07-01T00:00:00",
          "2020-08-01T00:00:00",
          "2020-09-01T00:00:00",
          "2020-10-01T00:00:00",
          "2020-11-01T00:00:00",
          "2020-12-01T00:00:00",
          "2021-01-01T00:00:00",
          "2021-02-01T00:00:00",
          "2021-03-01T00:00:00",
          "2021-04-01T00:00:00",
          "2021-05-01T00:00:00",
          "2021-06-01T00:00:00",
          "2021-07-01T00:00:00",
          "2021-08-01T00:00:00",
          "2021-09-01T00:00:00",
          "2021-10-01T00:00:00",
          "2021-11-01T00:00:00",
          "2021-12-01T00:00:00",
          "2022-01-01T00:00:00",
          "2022-02-01T00:00:00",
          "2022-03-01T00:00:00",
          "2022-04-01T00:00:00",
          "2022-05-01T00:00:00",
          "2022-06-01T00:00:00",
          "2022-07-01T00:00:00",
          "2022-08-01T00:00:00",
          "2022-09-01T00:00:00",
          "2022-10-01T00:00:00"
         ],
         "xaxis": "x",
         "y": [
          1.6606,
          1.6495,
          1.659,
          1.6684,
          1.6523,
          1.6383,
          1.6035,
          1.582,
          1.5421,
          1.5424000000000002,
          1.5426999999999997,
          1.541,
          1.5632,
          1.5724,
          1.5757000000000003,
          1.6277,
          1.6352,
          1.6907,
          1.6729000000000003,
          1.6701000000000001,
          1.636,
          1.6322,
          1.6457,
          1.6641999999999997,
          1.6819,
          1.6947,
          1.6948000000000003,
          1.7399999999999998,
          1.775,
          1.7255,
          1.7699,
          1.7788,
          1.7878,
          1.7942
         ],
         "yaxis": "y"
        },
        {
         "hovertemplate": "division=CENTRO OCCIDENTE<br>Mes=%{x}<br>$/kWh=%{y}<extra></extra>",
         "legendgroup": "CENTRO OCCIDENTE",
         "line": {
          "color": "#782AB6",
          "dash": "solid"
         },
         "marker": {
          "symbol": "circle"
         },
         "mode": "markers+lines",
         "name": "CENTRO OCCIDENTE",
         "orientation": "v",
         "showlegend": true,
         "type": "scatter",
         "x": [
          "2020-01-01T00:00:00",
          "2020-02-01T00:00:00",
          "2020-03-01T00:00:00",
          "2020-04-01T00:00:00",
          "2020-05-01T00:00:00",
          "2020-06-01T00:00:00",
          "2020-07-01T00:00:00",
          "2020-08-01T00:00:00",
          "2020-09-01T00:00:00",
          "2020-10-01T00:00:00",
          "2020-11-01T00:00:00",
          "2020-12-01T00:00:00",
          "2021-01-01T00:00:00",
          "2021-02-01T00:00:00",
          "2021-03-01T00:00:00",
          "2021-04-01T00:00:00",
          "2021-05-01T00:00:00",
          "2021-06-01T00:00:00",
          "2021-07-01T00:00:00",
          "2021-08-01T00:00:00",
          "2021-09-01T00:00:00",
          "2021-10-01T00:00:00",
          "2021-11-01T00:00:00",
          "2021-12-01T00:00:00",
          "2022-01-01T00:00:00",
          "2022-02-01T00:00:00",
          "2022-03-01T00:00:00",
          "2022-04-01T00:00:00",
          "2022-05-01T00:00:00",
          "2022-06-01T00:00:00",
          "2022-07-01T00:00:00",
          "2022-08-01T00:00:00",
          "2022-09-01T00:00:00",
          "2022-10-01T00:00:00"
         ],
         "xaxis": "x",
         "y": [
          1.6629,
          1.6518,
          1.6613,
          1.6707,
          1.6546,
          1.6405,
          1.6057,
          1.5841,
          1.5442,
          1.5445,
          1.5448,
          1.5431,
          1.5654,
          1.5746,
          1.5778,
          1.6299,
          1.6374,
          1.693,
          1.6752,
          1.6724,
          1.6383,
          1.6344,
          1.648,
          1.6665,
          1.6842,
          1.6971,
          1.6971,
          1.7424,
          1.7775,
          1.7278,
          1.7724000000000002,
          1.7812999999999999,
          1.7903,
          1.7967
         ],
         "yaxis": "y"
        },
        {
         "hovertemplate": "division=CENTRO ORIENTE<br>Mes=%{x}<br>$/kWh=%{y}<extra></extra>",
         "legendgroup": "CENTRO ORIENTE",
         "line": {
          "color": "#565656",
          "dash": "solid"
         },
         "marker": {
          "symbol": "circle"
         },
         "mode": "markers+lines",
         "name": "CENTRO ORIENTE",
         "orientation": "v",
         "showlegend": true,
         "type": "scatter",
         "x": [
          "2020-01-01T00:00:00",
          "2020-02-01T00:00:00",
          "2020-03-01T00:00:00",
          "2020-04-01T00:00:00",
          "2020-05-01T00:00:00",
          "2020-06-01T00:00:00",
          "2020-07-01T00:00:00",
          "2020-08-01T00:00:00",
          "2020-09-01T00:00:00",
          "2020-10-01T00:00:00",
          "2020-11-01T00:00:00",
          "2020-12-01T00:00:00",
          "2021-01-01T00:00:00",
          "2021-02-01T00:00:00",
          "2021-03-01T00:00:00",
          "2021-04-01T00:00:00",
          "2021-05-01T00:00:00",
          "2021-06-01T00:00:00",
          "2021-07-01T00:00:00",
          "2021-08-01T00:00:00",
          "2021-09-01T00:00:00",
          "2021-10-01T00:00:00",
          "2021-11-01T00:00:00",
          "2021-12-01T00:00:00",
          "2022-01-01T00:00:00",
          "2022-02-01T00:00:00",
          "2022-03-01T00:00:00",
          "2022-04-01T00:00:00",
          "2022-05-01T00:00:00",
          "2022-06-01T00:00:00",
          "2022-07-01T00:00:00",
          "2022-08-01T00:00:00",
          "2022-09-01T00:00:00",
          "2022-10-01T00:00:00"
         ],
         "xaxis": "x",
         "y": [
          1.6636,
          1.6526,
          1.6621,
          1.6715,
          1.6554,
          1.6413,
          1.6064,
          1.5849,
          1.5449,
          1.5452,
          1.5456,
          1.5438,
          1.5661,
          1.5753,
          1.5785,
          1.6307,
          1.6382,
          1.6938,
          1.676,
          1.6731,
          1.639,
          1.6352,
          1.6487,
          1.6672,
          1.685,
          1.6979,
          1.6979,
          1.7432,
          1.7783,
          1.7285999999999997,
          1.7732,
          1.7821,
          1.7910999999999997,
          1.7975
         ],
         "yaxis": "y"
        },
        {
         "hovertemplate": "division=CENTRO SUR<br>Mes=%{x}<br>$/kWh=%{y}<extra></extra>",
         "legendgroup": "CENTRO SUR",
         "line": {
          "color": "#1C8356",
          "dash": "solid"
         },
         "marker": {
          "symbol": "circle"
         },
         "mode": "markers+lines",
         "name": "CENTRO SUR",
         "orientation": "v",
         "showlegend": true,
         "type": "scatter",
         "x": [
          "2020-01-01T00:00:00",
          "2020-02-01T00:00:00",
          "2020-03-01T00:00:00",
          "2020-04-01T00:00:00",
          "2020-05-01T00:00:00",
          "2020-06-01T00:00:00",
          "2020-07-01T00:00:00",
          "2020-08-01T00:00:00",
          "2020-09-01T00:00:00",
          "2020-10-01T00:00:00",
          "2020-11-01T00:00:00",
          "2020-12-01T00:00:00",
          "2021-01-01T00:00:00",
          "2021-02-01T00:00:00",
          "2021-03-01T00:00:00",
          "2021-04-01T00:00:00",
          "2021-05-01T00:00:00",
          "2021-06-01T00:00:00",
          "2021-07-01T00:00:00",
          "2021-08-01T00:00:00",
          "2021-09-01T00:00:00",
          "2021-10-01T00:00:00",
          "2021-11-01T00:00:00",
          "2021-12-01T00:00:00",
          "2022-01-01T00:00:00",
          "2022-02-01T00:00:00",
          "2022-03-01T00:00:00",
          "2022-04-01T00:00:00",
          "2022-05-01T00:00:00",
          "2022-06-01T00:00:00",
          "2022-07-01T00:00:00",
          "2022-08-01T00:00:00",
          "2022-09-01T00:00:00",
          "2022-10-01T00:00:00"
         ],
         "xaxis": "x",
         "y": [
          1.5121,
          1.5021,
          1.5107,
          1.5192,
          1.5047,
          1.492,
          1.4607,
          1.4414,
          1.4055,
          1.4057,
          1.4061,
          1.4045,
          1.4251,
          1.4334,
          1.4363,
          1.4831,
          1.4899,
          1.5398,
          1.5238,
          1.5213,
          1.4906,
          1.4872,
          1.4994,
          1.516,
          1.5321,
          1.5436,
          1.5436,
          1.5842999999999998,
          1.6158,
          1.5712,
          1.6112000000000002,
          1.6192,
          1.6273,
          1.6331
         ],
         "yaxis": "y"
        },
        {
         "hovertemplate": "division=GOLFO CENTRO<br>Mes=%{x}<br>$/kWh=%{y}<extra></extra>",
         "legendgroup": "GOLFO CENTRO",
         "line": {
          "color": "#16FF32",
          "dash": "solid"
         },
         "marker": {
          "symbol": "circle"
         },
         "mode": "markers+lines",
         "name": "GOLFO CENTRO",
         "orientation": "v",
         "showlegend": true,
         "type": "scatter",
         "x": [
          "2020-01-01T00:00:00",
          "2020-02-01T00:00:00",
          "2020-03-01T00:00:00",
          "2020-04-01T00:00:00",
          "2020-05-01T00:00:00",
          "2020-06-01T00:00:00",
          "2020-07-01T00:00:00",
          "2020-08-01T00:00:00",
          "2020-09-01T00:00:00",
          "2020-10-01T00:00:00",
          "2020-11-01T00:00:00",
          "2020-12-01T00:00:00",
          "2021-01-01T00:00:00",
          "2021-02-01T00:00:00",
          "2021-03-01T00:00:00",
          "2021-04-01T00:00:00",
          "2021-05-01T00:00:00",
          "2021-06-01T00:00:00",
          "2021-07-01T00:00:00",
          "2021-08-01T00:00:00",
          "2021-09-01T00:00:00",
          "2021-10-01T00:00:00",
          "2021-11-01T00:00:00",
          "2021-12-01T00:00:00",
          "2022-01-01T00:00:00",
          "2022-02-01T00:00:00",
          "2022-03-01T00:00:00",
          "2022-04-01T00:00:00",
          "2022-05-01T00:00:00",
          "2022-06-01T00:00:00",
          "2022-07-01T00:00:00",
          "2022-08-01T00:00:00",
          "2022-09-01T00:00:00",
          "2022-10-01T00:00:00"
         ],
         "xaxis": "x",
         "y": [
          1.5004,
          1.4906,
          1.499,
          1.5074,
          1.4931,
          1.4805,
          1.4495,
          1.4303,
          1.3948,
          1.395,
          1.3953,
          1.3938,
          1.4143,
          1.4225,
          1.4254,
          1.4718,
          1.4785,
          1.528,
          1.5121,
          1.5096,
          1.4792,
          1.4758,
          1.4879,
          1.5043,
          1.5203,
          1.5317,
          1.5317,
          1.5721,
          1.6033,
          1.5591,
          1.5987,
          1.6067,
          1.6147,
          1.6204
         ],
         "yaxis": "y"
        },
        {
         "hovertemplate": "division=GOLFO NORTE<br>Mes=%{x}<br>$/kWh=%{y}<extra></extra>",
         "legendgroup": "GOLFO NORTE",
         "line": {
          "color": "#F7E1A0",
          "dash": "solid"
         },
         "marker": {
          "symbol": "circle"
         },
         "mode": "markers+lines",
         "name": "GOLFO NORTE",
         "orientation": "v",
         "showlegend": true,
         "type": "scatter",
         "x": [
          "2020-01-01T00:00:00",
          "2020-02-01T00:00:00",
          "2020-03-01T00:00:00",
          "2020-04-01T00:00:00",
          "2020-05-01T00:00:00",
          "2020-06-01T00:00:00",
          "2020-07-01T00:00:00",
          "2020-08-01T00:00:00",
          "2020-09-01T00:00:00",
          "2020-10-01T00:00:00",
          "2020-11-01T00:00:00",
          "2020-12-01T00:00:00",
          "2021-01-01T00:00:00",
          "2021-02-01T00:00:00",
          "2021-03-01T00:00:00",
          "2021-04-01T00:00:00",
          "2021-05-01T00:00:00",
          "2021-06-01T00:00:00",
          "2021-07-01T00:00:00",
          "2021-08-01T00:00:00",
          "2021-09-01T00:00:00",
          "2021-10-01T00:00:00",
          "2021-11-01T00:00:00",
          "2021-12-01T00:00:00",
          "2022-01-01T00:00:00",
          "2022-02-01T00:00:00",
          "2022-03-01T00:00:00",
          "2022-04-01T00:00:00",
          "2022-05-01T00:00:00",
          "2022-06-01T00:00:00",
          "2022-07-01T00:00:00",
          "2022-08-01T00:00:00",
          "2022-09-01T00:00:00",
          "2022-10-01T00:00:00"
         ],
         "xaxis": "x",
         "y": [
          1.4067,
          1.3975,
          1.4054,
          1.4132,
          1.3999,
          1.3882,
          1.3594,
          1.3416,
          1.3085,
          1.3088,
          1.3091,
          1.3076,
          1.3271,
          1.3348,
          1.3375,
          1.3806,
          1.3868,
          1.4327,
          1.418,
          1.4157,
          1.3875,
          1.3843,
          1.3955,
          1.4108,
          1.4257,
          1.4363,
          1.4363,
          1.4738,
          1.5027999999999997,
          1.4618000000000002,
          1.4986,
          1.506,
          1.5134000000000003,
          1.5187
         ],
         "yaxis": "y"
        },
        {
         "hovertemplate": "division=JALISCO<br>Mes=%{x}<br>$/kWh=%{y}<extra></extra>",
         "legendgroup": "JALISCO",
         "line": {
          "color": "#E2E2E2",
          "dash": "solid"
         },
         "marker": {
          "symbol": "circle"
         },
         "mode": "markers+lines",
         "name": "JALISCO",
         "orientation": "v",
         "showlegend": true,
         "type": "scatter",
         "x": [
          "2020-01-01T00:00:00",
          "2020-02-01T00:00:00",
          "2020-03-01T00:00:00",
          "2020-04-01T00:00:00",
          "2020-05-01T00:00:00",
          "2020-06-01T00:00:00",
          "2020-07-01T00:00:00",
          "2020-08-01T00:00:00",
          "2020-09-01T00:00:00",
          "2020-10-01T00:00:00",
          "2020-11-01T00:00:00",
          "2020-12-01T00:00:00",
          "2021-01-01T00:00:00",
          "2021-02-01T00:00:00",
          "2021-03-01T00:00:00",
          "2021-04-01T00:00:00",
          "2021-05-01T00:00:00",
          "2021-06-01T00:00:00",
          "2021-07-01T00:00:00",
          "2021-08-01T00:00:00",
          "2021-09-01T00:00:00",
          "2021-10-01T00:00:00",
          "2021-11-01T00:00:00",
          "2021-12-01T00:00:00",
          "2022-01-01T00:00:00",
          "2022-02-01T00:00:00",
          "2022-03-01T00:00:00",
          "2022-04-01T00:00:00",
          "2022-05-01T00:00:00",
          "2022-06-01T00:00:00",
          "2022-07-01T00:00:00",
          "2022-08-01T00:00:00",
          "2022-09-01T00:00:00",
          "2022-10-01T00:00:00"
         ],
         "xaxis": "x",
         "y": [
          1.6044000000000003,
          1.5938,
          1.6029,
          1.612,
          1.5965,
          1.583,
          1.5495,
          1.5288,
          1.4904,
          1.4907,
          1.4911,
          1.4894,
          1.5110000000000001,
          1.5199000000000003,
          1.523,
          1.573,
          1.5803,
          1.6336,
          1.6165,
          1.6138,
          1.5810999999999997,
          1.5774,
          1.5904,
          1.6080999999999999,
          1.6253,
          1.6376000000000002,
          1.6376000000000002,
          1.6811,
          1.7148,
          1.6671,
          1.7099,
          1.7185,
          1.7271,
          1.7333
         ],
         "yaxis": "y"
        },
        {
         "hovertemplate": "division=NOROESTE<br>Mes=%{x}<br>$/kWh=%{y}<extra></extra>",
         "legendgroup": "NOROESTE",
         "line": {
          "color": "#1CBE4F",
          "dash": "solid"
         },
         "marker": {
          "symbol": "circle"
         },
         "mode": "markers+lines",
         "name": "NOROESTE",
         "orientation": "v",
         "showlegend": true,
         "type": "scatter",
         "x": [
          "2020-01-01T00:00:00",
          "2020-02-01T00:00:00",
          "2020-03-01T00:00:00",
          "2020-04-01T00:00:00",
          "2020-05-01T00:00:00",
          "2020-06-01T00:00:00",
          "2020-07-01T00:00:00",
          "2020-08-01T00:00:00",
          "2020-09-01T00:00:00",
          "2020-10-01T00:00:00",
          "2020-11-01T00:00:00",
          "2020-12-01T00:00:00",
          "2021-01-01T00:00:00",
          "2021-02-01T00:00:00",
          "2021-03-01T00:00:00",
          "2021-04-01T00:00:00",
          "2021-05-01T00:00:00",
          "2021-06-01T00:00:00",
          "2021-07-01T00:00:00",
          "2021-08-01T00:00:00",
          "2021-09-01T00:00:00",
          "2021-10-01T00:00:00",
          "2021-11-01T00:00:00",
          "2021-12-01T00:00:00",
          "2022-01-01T00:00:00",
          "2022-02-01T00:00:00",
          "2022-03-01T00:00:00",
          "2022-04-01T00:00:00",
          "2022-05-01T00:00:00",
          "2022-06-01T00:00:00",
          "2022-07-01T00:00:00",
          "2022-08-01T00:00:00",
          "2022-09-01T00:00:00",
          "2022-10-01T00:00:00"
         ],
         "xaxis": "x",
         "y": [
          1.3794,
          1.3704,
          1.3781,
          1.3858,
          1.3727,
          1.3613,
          1.3331,
          1.3157,
          1.2834,
          1.2836,
          1.284,
          1.2825,
          1.3018,
          1.3092,
          1.3118,
          1.354,
          1.3601,
          1.405,
          1.3906,
          1.3883,
          1.3607,
          1.3576,
          1.3686,
          1.3835,
          1.3981,
          1.4085,
          1.4085,
          1.4452,
          1.4735,
          1.4334,
          1.4694,
          1.4766,
          1.4839,
          1.4891
         ],
         "yaxis": "y"
        },
        {
         "hovertemplate": "division=NORTE<br>Mes=%{x}<br>$/kWh=%{y}<extra></extra>",
         "legendgroup": "NORTE",
         "line": {
          "color": "#C4451C",
          "dash": "solid"
         },
         "marker": {
          "symbol": "circle"
         },
         "mode": "markers+lines",
         "name": "NORTE",
         "orientation": "v",
         "showlegend": true,
         "type": "scatter",
         "x": [
          "2020-01-01T00:00:00",
          "2020-02-01T00:00:00",
          "2020-03-01T00:00:00",
          "2020-04-01T00:00:00",
          "2020-05-01T00:00:00",
          "2020-06-01T00:00:00",
          "2020-07-01T00:00:00",
          "2020-08-01T00:00:00",
          "2020-09-01T00:00:00",
          "2020-10-01T00:00:00",
          "2020-11-01T00:00:00",
          "2020-12-01T00:00:00",
          "2021-01-01T00:00:00",
          "2021-02-01T00:00:00",
          "2021-03-01T00:00:00",
          "2021-04-01T00:00:00",
          "2021-05-01T00:00:00",
          "2021-06-01T00:00:00",
          "2021-07-01T00:00:00",
          "2021-08-01T00:00:00",
          "2021-09-01T00:00:00",
          "2021-10-01T00:00:00",
          "2021-11-01T00:00:00",
          "2021-12-01T00:00:00",
          "2022-01-01T00:00:00",
          "2022-02-01T00:00:00",
          "2022-03-01T00:00:00",
          "2022-04-01T00:00:00",
          "2022-05-01T00:00:00",
          "2022-06-01T00:00:00",
          "2022-07-01T00:00:00",
          "2022-08-01T00:00:00",
          "2022-09-01T00:00:00",
          "2022-10-01T00:00:00"
         ],
         "xaxis": "x",
         "y": [
          1.4412,
          1.4318000000000002,
          1.4399,
          1.4479,
          1.4342,
          1.4222,
          1.3926,
          1.3743,
          1.3403,
          1.3404999999999998,
          1.3408,
          1.3393,
          1.3592,
          1.3671,
          1.3697999999999997,
          1.4141,
          1.4205,
          1.4678,
          1.4526999999999999,
          1.4502,
          1.4213,
          1.418,
          1.4294999999999998,
          1.4452,
          1.4605,
          1.4715,
          1.4715,
          1.51,
          1.5398,
          1.4976,
          1.5355,
          1.543,
          1.5507,
          1.5561000000000003
         ],
         "yaxis": "y"
        },
        {
         "hovertemplate": "division=ORIENTE<br>Mes=%{x}<br>$/kWh=%{y}<extra></extra>",
         "legendgroup": "ORIENTE",
         "line": {
          "color": "#DEA0FD",
          "dash": "solid"
         },
         "marker": {
          "symbol": "circle"
         },
         "mode": "markers+lines",
         "name": "ORIENTE",
         "orientation": "v",
         "showlegend": true,
         "type": "scatter",
         "x": [
          "2020-01-01T00:00:00",
          "2020-02-01T00:00:00",
          "2020-03-01T00:00:00",
          "2020-04-01T00:00:00",
          "2020-05-01T00:00:00",
          "2020-06-01T00:00:00",
          "2020-07-01T00:00:00",
          "2020-08-01T00:00:00",
          "2020-09-01T00:00:00",
          "2020-10-01T00:00:00",
          "2020-11-01T00:00:00",
          "2020-12-01T00:00:00",
          "2021-01-01T00:00:00",
          "2021-02-01T00:00:00",
          "2021-03-01T00:00:00",
          "2021-04-01T00:00:00",
          "2021-05-01T00:00:00",
          "2021-06-01T00:00:00",
          "2021-07-01T00:00:00",
          "2021-08-01T00:00:00",
          "2021-09-01T00:00:00",
          "2021-10-01T00:00:00",
          "2021-11-01T00:00:00",
          "2021-12-01T00:00:00",
          "2022-01-01T00:00:00",
          "2022-02-01T00:00:00",
          "2022-03-01T00:00:00",
          "2022-04-01T00:00:00",
          "2022-05-01T00:00:00",
          "2022-06-01T00:00:00",
          "2022-07-01T00:00:00",
          "2022-08-01T00:00:00",
          "2022-09-01T00:00:00",
          "2022-10-01T00:00:00"
         ],
         "xaxis": "x",
         "y": [
          1.4493,
          1.4399,
          1.448,
          1.4561,
          1.4423,
          1.4302,
          1.4004,
          1.3819,
          1.3478,
          1.348,
          1.3483,
          1.3468,
          1.3668,
          1.3747,
          1.3775,
          1.4221,
          1.4285,
          1.4761,
          1.4608,
          1.4584,
          1.4292,
          1.4259,
          1.4375,
          1.4533,
          1.4687,
          1.4797,
          1.4797,
          1.5185,
          1.5485,
          1.5061,
          1.5442,
          1.5518,
          1.5595,
          1.565
         ],
         "yaxis": "y"
        },
        {
         "hovertemplate": "division=PENINSULAR<br>Mes=%{x}<br>$/kWh=%{y}<extra></extra>",
         "legendgroup": "PENINSULAR",
         "line": {
          "color": "#FE00FA",
          "dash": "solid"
         },
         "marker": {
          "symbol": "circle"
         },
         "mode": "markers+lines",
         "name": "PENINSULAR",
         "orientation": "v",
         "showlegend": true,
         "type": "scatter",
         "x": [
          "2020-01-01T00:00:00",
          "2020-02-01T00:00:00",
          "2020-03-01T00:00:00",
          "2020-04-01T00:00:00",
          "2020-05-01T00:00:00",
          "2020-06-01T00:00:00",
          "2020-07-01T00:00:00",
          "2020-08-01T00:00:00",
          "2020-09-01T00:00:00",
          "2020-10-01T00:00:00",
          "2020-11-01T00:00:00",
          "2020-12-01T00:00:00",
          "2021-01-01T00:00:00",
          "2021-02-01T00:00:00",
          "2021-03-01T00:00:00",
          "2021-04-01T00:00:00",
          "2021-05-01T00:00:00",
          "2021-06-01T00:00:00",
          "2021-07-01T00:00:00",
          "2021-08-01T00:00:00",
          "2021-09-01T00:00:00",
          "2021-10-01T00:00:00",
          "2021-11-01T00:00:00",
          "2021-12-01T00:00:00",
          "2022-01-01T00:00:00",
          "2022-02-01T00:00:00",
          "2022-03-01T00:00:00",
          "2022-04-01T00:00:00",
          "2022-05-01T00:00:00",
          "2022-06-01T00:00:00",
          "2022-07-01T00:00:00",
          "2022-08-01T00:00:00",
          "2022-09-01T00:00:00",
          "2022-10-01T00:00:00"
         ],
         "xaxis": "x",
         "y": [
          1.8401,
          1.8276,
          1.8383,
          1.8489,
          1.8308,
          1.815,
          1.776,
          1.7519,
          1.7072,
          1.7075,
          1.7079,
          1.7059,
          1.7301,
          1.7404,
          1.7441,
          1.8024,
          1.8108,
          1.873,
          1.8531,
          1.8499,
          1.8117,
          1.8074,
          1.8226,
          1.8433,
          1.863,
          1.8774,
          1.8774,
          1.9282,
          1.9674,
          1.9119,
          1.9617,
          1.9717,
          1.9818,
          1.9889
         ],
         "yaxis": "y"
        },
        {
         "hovertemplate": "division=SURESTE<br>Mes=%{x}<br>$/kWh=%{y}<extra></extra>",
         "legendgroup": "SURESTE",
         "line": {
          "color": "#325A9B",
          "dash": "solid"
         },
         "marker": {
          "symbol": "circle"
         },
         "mode": "markers+lines",
         "name": "SURESTE",
         "orientation": "v",
         "showlegend": true,
         "type": "scatter",
         "x": [
          "2020-01-01T00:00:00",
          "2020-02-01T00:00:00",
          "2020-03-01T00:00:00",
          "2020-04-01T00:00:00",
          "2020-05-01T00:00:00",
          "2020-06-01T00:00:00",
          "2020-07-01T00:00:00",
          "2020-08-01T00:00:00",
          "2020-09-01T00:00:00",
          "2020-10-01T00:00:00",
          "2020-11-01T00:00:00",
          "2020-12-01T00:00:00",
          "2021-01-01T00:00:00",
          "2021-02-01T00:00:00",
          "2021-03-01T00:00:00",
          "2021-04-01T00:00:00",
          "2021-05-01T00:00:00",
          "2021-06-01T00:00:00",
          "2021-07-01T00:00:00",
          "2021-08-01T00:00:00",
          "2021-09-01T00:00:00",
          "2021-10-01T00:00:00",
          "2021-11-01T00:00:00",
          "2021-12-01T00:00:00",
          "2022-01-01T00:00:00",
          "2022-02-01T00:00:00",
          "2022-03-01T00:00:00",
          "2022-04-01T00:00:00",
          "2022-05-01T00:00:00",
          "2022-06-01T00:00:00",
          "2022-07-01T00:00:00",
          "2022-08-01T00:00:00",
          "2022-09-01T00:00:00",
          "2022-10-01T00:00:00"
         ],
         "xaxis": "x",
         "y": [
          1.5557999999999998,
          1.5455000000000003,
          1.5544,
          1.5631,
          1.5481,
          1.5351,
          1.5026999999999997,
          1.4827,
          1.4457,
          1.446,
          1.4463,
          1.4447,
          1.4658,
          1.4743,
          1.4774000000000003,
          1.5257,
          1.5327,
          1.5842,
          1.5677,
          1.5651,
          1.5334,
          1.5299,
          1.5424,
          1.5596,
          1.5762,
          1.5881000000000003,
          1.5881000000000003,
          1.6300999999999999,
          1.6627000000000003,
          1.6166,
          1.6579,
          1.6662,
          1.6746000000000003,
          1.6804999999999999
         ],
         "yaxis": "y"
        },
        {
         "hovertemplate": "division=VALLE DE MÉXICO CENTRO<br>Mes=%{x}<br>$/kWh=%{y}<extra></extra>",
         "legendgroup": "VALLE DE MÉXICO CENTRO",
         "line": {
          "color": "#FEAF16",
          "dash": "solid"
         },
         "marker": {
          "symbol": "circle"
         },
         "mode": "markers+lines",
         "name": "VALLE DE MÉXICO CENTRO",
         "orientation": "v",
         "showlegend": true,
         "type": "scatter",
         "x": [
          "2020-01-01T00:00:00",
          "2020-02-01T00:00:00",
          "2020-03-01T00:00:00",
          "2020-04-01T00:00:00",
          "2020-05-01T00:00:00",
          "2020-06-01T00:00:00",
          "2020-07-01T00:00:00",
          "2020-08-01T00:00:00",
          "2020-09-01T00:00:00",
          "2020-10-01T00:00:00",
          "2020-11-01T00:00:00",
          "2020-12-01T00:00:00",
          "2021-01-01T00:00:00",
          "2021-02-01T00:00:00",
          "2021-03-01T00:00:00",
          "2021-04-01T00:00:00",
          "2021-05-01T00:00:00",
          "2021-06-01T00:00:00",
          "2021-07-01T00:00:00",
          "2021-08-01T00:00:00",
          "2021-09-01T00:00:00",
          "2021-10-01T00:00:00",
          "2021-11-01T00:00:00",
          "2021-12-01T00:00:00",
          "2022-01-01T00:00:00",
          "2022-02-01T00:00:00",
          "2022-03-01T00:00:00",
          "2022-04-01T00:00:00",
          "2022-05-01T00:00:00",
          "2022-06-01T00:00:00",
          "2022-07-01T00:00:00",
          "2022-08-01T00:00:00",
          "2022-09-01T00:00:00",
          "2022-10-01T00:00:00"
         ],
         "xaxis": "x",
         "y": [
          1.6218999999999997,
          1.6111,
          1.6204,
          1.6296,
          1.6139,
          1.6002000000000003,
          1.5663,
          1.5454,
          1.5065,
          1.5068,
          1.5072,
          1.5054,
          1.5273,
          1.5362,
          1.5394,
          1.5901,
          1.5974,
          1.6514,
          1.6341,
          1.6313,
          1.5982,
          1.5944,
          1.6076000000000001,
          1.6256,
          1.6429000000000002,
          1.6553999999999998,
          1.6553999999999998,
          1.6995,
          1.7335999999999998,
          1.6853000000000002,
          1.7285999999999997,
          1.7373,
          1.746,
          1.7521999999999998
         ],
         "yaxis": "y"
        },
        {
         "hovertemplate": "division=VALLE DE MÉXICO NORTE<br>Mes=%{x}<br>$/kWh=%{y}<extra></extra>",
         "legendgroup": "VALLE DE MÉXICO NORTE",
         "line": {
          "color": "#F8A19F",
          "dash": "solid"
         },
         "marker": {
          "symbol": "circle"
         },
         "mode": "markers+lines",
         "name": "VALLE DE MÉXICO NORTE",
         "orientation": "v",
         "showlegend": true,
         "type": "scatter",
         "x": [
          "2020-01-01T00:00:00",
          "2020-02-01T00:00:00",
          "2020-03-01T00:00:00",
          "2020-04-01T00:00:00",
          "2020-05-01T00:00:00",
          "2020-06-01T00:00:00",
          "2020-07-01T00:00:00",
          "2020-08-01T00:00:00",
          "2020-09-01T00:00:00",
          "2020-10-01T00:00:00",
          "2020-11-01T00:00:00",
          "2020-12-01T00:00:00",
          "2021-01-01T00:00:00",
          "2021-02-01T00:00:00",
          "2021-03-01T00:00:00",
          "2021-04-01T00:00:00",
          "2021-05-01T00:00:00",
          "2021-06-01T00:00:00",
          "2021-07-01T00:00:00",
          "2021-08-01T00:00:00",
          "2021-09-01T00:00:00",
          "2021-10-01T00:00:00",
          "2021-11-01T00:00:00",
          "2021-12-01T00:00:00",
          "2022-01-01T00:00:00",
          "2022-02-01T00:00:00",
          "2022-03-01T00:00:00",
          "2022-04-01T00:00:00",
          "2022-05-01T00:00:00",
          "2022-06-01T00:00:00",
          "2022-07-01T00:00:00",
          "2022-08-01T00:00:00",
          "2022-09-01T00:00:00",
          "2022-10-01T00:00:00"
         ],
         "xaxis": "x",
         "y": [
          1.6107,
          1.6,
          1.6092,
          1.6183,
          1.6027,
          1.5892,
          1.5555,
          1.5347,
          1.4962,
          1.4965,
          1.4968,
          1.4951,
          1.5169,
          1.5257,
          1.5289,
          1.5792,
          1.5864,
          1.64,
          1.6229,
          1.6201,
          1.5872,
          1.5835,
          1.5966,
          1.6144,
          1.6316,
          1.644,
          1.644,
          1.6877,
          1.7216,
          1.6737,
          1.7166,
          1.7252,
          1.7339,
          1.7401
         ],
         "yaxis": "y"
        },
        {
         "hovertemplate": "division=VALLE DE MÉXICO SUR<br>Mes=%{x}<br>$/kWh=%{y}<extra></extra>",
         "legendgroup": "VALLE DE MÉXICO SUR",
         "line": {
          "color": "#90AD1C",
          "dash": "solid"
         },
         "marker": {
          "symbol": "circle"
         },
         "mode": "markers+lines",
         "name": "VALLE DE MÉXICO SUR",
         "orientation": "v",
         "showlegend": true,
         "type": "scatter",
         "x": [
          "2020-01-01T00:00:00",
          "2020-02-01T00:00:00",
          "2020-03-01T00:00:00",
          "2020-04-01T00:00:00",
          "2020-05-01T00:00:00",
          "2020-06-01T00:00:00",
          "2020-07-01T00:00:00",
          "2020-08-01T00:00:00",
          "2020-09-01T00:00:00",
          "2020-10-01T00:00:00",
          "2020-11-01T00:00:00",
          "2020-12-01T00:00:00",
          "2021-01-01T00:00:00",
          "2021-02-01T00:00:00",
          "2021-03-01T00:00:00",
          "2021-04-01T00:00:00",
          "2021-05-01T00:00:00",
          "2021-06-01T00:00:00",
          "2021-07-01T00:00:00",
          "2021-08-01T00:00:00",
          "2021-09-01T00:00:00",
          "2021-10-01T00:00:00",
          "2021-11-01T00:00:00",
          "2021-12-01T00:00:00",
          "2022-01-01T00:00:00",
          "2022-02-01T00:00:00",
          "2022-03-01T00:00:00",
          "2022-04-01T00:00:00",
          "2022-05-01T00:00:00",
          "2022-06-01T00:00:00",
          "2022-07-01T00:00:00",
          "2022-08-01T00:00:00",
          "2022-09-01T00:00:00",
          "2022-10-01T00:00:00"
         ],
         "xaxis": "x",
         "y": [
          1.6312999999999998,
          1.6204,
          1.6297999999999997,
          1.639,
          1.6232,
          1.6094,
          1.5753,
          1.5542,
          1.5151000000000001,
          1.5153999999999999,
          1.5158,
          1.514,
          1.536,
          1.5449999999999997,
          1.5482,
          1.5992,
          1.6065000000000003,
          1.6609,
          1.6434999999999997,
          1.6406999999999998,
          1.6073,
          1.6036,
          1.6168,
          1.6348999999999998,
          1.6523,
          1.6649,
          1.6649,
          1.7092999999999998,
          1.7436,
          1.695,
          1.7386,
          1.7473,
          1.7561,
          1.7623999999999997
         ],
         "yaxis": "y"
        }
       ],
       "layout": {
        "height": 650,
        "legend": {
         "title": {
          "text": "division"
         },
         "tracegroupgap": 0
        },
        "template": {
         "data": {
          "bar": [
           {
            "error_x": {
             "color": "#2a3f5f"
            },
            "error_y": {
             "color": "#2a3f5f"
            },
            "marker": {
             "line": {
              "color": "white",
              "width": 0.5
             },
             "pattern": {
              "fillmode": "overlay",
              "size": 10,
              "solidity": 0.2
             }
            },
            "type": "bar"
           }
          ],
          "barpolar": [
           {
            "marker": {
             "line": {
              "color": "white",
              "width": 0.5
             },
             "pattern": {
              "fillmode": "overlay",
              "size": 10,
              "solidity": 0.2
             }
            },
            "type": "barpolar"
           }
          ],
          "carpet": [
           {
            "aaxis": {
             "endlinecolor": "#2a3f5f",
             "gridcolor": "#C8D4E3",
             "linecolor": "#C8D4E3",
             "minorgridcolor": "#C8D4E3",
             "startlinecolor": "#2a3f5f"
            },
            "baxis": {
             "endlinecolor": "#2a3f5f",
             "gridcolor": "#C8D4E3",
             "linecolor": "#C8D4E3",
             "minorgridcolor": "#C8D4E3",
             "startlinecolor": "#2a3f5f"
            },
            "type": "carpet"
           }
          ],
          "choropleth": [
           {
            "colorbar": {
             "outlinewidth": 0,
             "ticks": ""
            },
            "type": "choropleth"
           }
          ],
          "contour": [
           {
            "colorbar": {
             "outlinewidth": 0,
             "ticks": ""
            },
            "colorscale": [
             [
              0,
              "#0d0887"
             ],
             [
              0.1111111111111111,
              "#46039f"
             ],
             [
              0.2222222222222222,
              "#7201a8"
             ],
             [
              0.3333333333333333,
              "#9c179e"
             ],
             [
              0.4444444444444444,
              "#bd3786"
             ],
             [
              0.5555555555555556,
              "#d8576b"
             ],
             [
              0.6666666666666666,
              "#ed7953"
             ],
             [
              0.7777777777777778,
              "#fb9f3a"
             ],
             [
              0.8888888888888888,
              "#fdca26"
             ],
             [
              1,
              "#f0f921"
             ]
            ],
            "type": "contour"
           }
          ],
          "contourcarpet": [
           {
            "colorbar": {
             "outlinewidth": 0,
             "ticks": ""
            },
            "type": "contourcarpet"
           }
          ],
          "heatmap": [
           {
            "colorbar": {
             "outlinewidth": 0,
             "ticks": ""
            },
            "colorscale": [
             [
              0,
              "#0d0887"
             ],
             [
              0.1111111111111111,
              "#46039f"
             ],
             [
              0.2222222222222222,
              "#7201a8"
             ],
             [
              0.3333333333333333,
              "#9c179e"
             ],
             [
              0.4444444444444444,
              "#bd3786"
             ],
             [
              0.5555555555555556,
              "#d8576b"
             ],
             [
              0.6666666666666666,
              "#ed7953"
             ],
             [
              0.7777777777777778,
              "#fb9f3a"
             ],
             [
              0.8888888888888888,
              "#fdca26"
             ],
             [
              1,
              "#f0f921"
             ]
            ],
            "type": "heatmap"
           }
          ],
          "heatmapgl": [
           {
            "colorbar": {
             "outlinewidth": 0,
             "ticks": ""
            },
            "colorscale": [
             [
              0,
              "#0d0887"
             ],
             [
              0.1111111111111111,
              "#46039f"
             ],
             [
              0.2222222222222222,
              "#7201a8"
             ],
             [
              0.3333333333333333,
              "#9c179e"
             ],
             [
              0.4444444444444444,
              "#bd3786"
             ],
             [
              0.5555555555555556,
              "#d8576b"
             ],
             [
              0.6666666666666666,
              "#ed7953"
             ],
             [
              0.7777777777777778,
              "#fb9f3a"
             ],
             [
              0.8888888888888888,
              "#fdca26"
             ],
             [
              1,
              "#f0f921"
             ]
            ],
            "type": "heatmapgl"
           }
          ],
          "histogram": [
           {
            "marker": {
             "pattern": {
              "fillmode": "overlay",
              "size": 10,
              "solidity": 0.2
             }
            },
            "type": "histogram"
           }
          ],
          "histogram2d": [
           {
            "colorbar": {
             "outlinewidth": 0,
             "ticks": ""
            },
            "colorscale": [
             [
              0,
              "#0d0887"
             ],
             [
              0.1111111111111111,
              "#46039f"
             ],
             [
              0.2222222222222222,
              "#7201a8"
             ],
             [
              0.3333333333333333,
              "#9c179e"
             ],
             [
              0.4444444444444444,
              "#bd3786"
             ],
             [
              0.5555555555555556,
              "#d8576b"
             ],
             [
              0.6666666666666666,
              "#ed7953"
             ],
             [
              0.7777777777777778,
              "#fb9f3a"
             ],
             [
              0.8888888888888888,
              "#fdca26"
             ],
             [
              1,
              "#f0f921"
             ]
            ],
            "type": "histogram2d"
           }
          ],
          "histogram2dcontour": [
           {
            "colorbar": {
             "outlinewidth": 0,
             "ticks": ""
            },
            "colorscale": [
             [
              0,
              "#0d0887"
             ],
             [
              0.1111111111111111,
              "#46039f"
             ],
             [
              0.2222222222222222,
              "#7201a8"
             ],
             [
              0.3333333333333333,
              "#9c179e"
             ],
             [
              0.4444444444444444,
              "#bd3786"
             ],
             [
              0.5555555555555556,
              "#d8576b"
             ],
             [
              0.6666666666666666,
              "#ed7953"
             ],
             [
              0.7777777777777778,
              "#fb9f3a"
             ],
             [
              0.8888888888888888,
              "#fdca26"
             ],
             [
              1,
              "#f0f921"
             ]
            ],
            "type": "histogram2dcontour"
           }
          ],
          "mesh3d": [
           {
            "colorbar": {
             "outlinewidth": 0,
             "ticks": ""
            },
            "type": "mesh3d"
           }
          ],
          "parcoords": [
           {
            "line": {
             "colorbar": {
              "outlinewidth": 0,
              "ticks": ""
             }
            },
            "type": "parcoords"
           }
          ],
          "pie": [
           {
            "automargin": true,
            "type": "pie"
           }
          ],
          "scatter": [
           {
            "fillpattern": {
             "fillmode": "overlay",
             "size": 10,
             "solidity": 0.2
            },
            "type": "scatter"
           }
          ],
          "scatter3d": [
           {
            "line": {
             "colorbar": {
              "outlinewidth": 0,
              "ticks": ""
             }
            },
            "marker": {
             "colorbar": {
              "outlinewidth": 0,
              "ticks": ""
             }
            },
            "type": "scatter3d"
           }
          ],
          "scattercarpet": [
           {
            "marker": {
             "colorbar": {
              "outlinewidth": 0,
              "ticks": ""
             }
            },
            "type": "scattercarpet"
           }
          ],
          "scattergeo": [
           {
            "marker": {
             "colorbar": {
              "outlinewidth": 0,
              "ticks": ""
             }
            },
            "type": "scattergeo"
           }
          ],
          "scattergl": [
           {
            "marker": {
             "colorbar": {
              "outlinewidth": 0,
              "ticks": ""
             }
            },
            "type": "scattergl"
           }
          ],
          "scattermapbox": [
           {
            "marker": {
             "colorbar": {
              "outlinewidth": 0,
              "ticks": ""
             }
            },
            "type": "scattermapbox"
           }
          ],
          "scatterpolar": [
           {
            "marker": {
             "colorbar": {
              "outlinewidth": 0,
              "ticks": ""
             }
            },
            "type": "scatterpolar"
           }
          ],
          "scatterpolargl": [
           {
            "marker": {
             "colorbar": {
              "outlinewidth": 0,
              "ticks": ""
             }
            },
            "type": "scatterpolargl"
           }
          ],
          "scatterternary": [
           {
            "marker": {
             "colorbar": {
              "outlinewidth": 0,
              "ticks": ""
             }
            },
            "type": "scatterternary"
           }
          ],
          "surface": [
           {
            "colorbar": {
             "outlinewidth": 0,
             "ticks": ""
            },
            "colorscale": [
             [
              0,
              "#0d0887"
             ],
             [
              0.1111111111111111,
              "#46039f"
             ],
             [
              0.2222222222222222,
              "#7201a8"
             ],
             [
              0.3333333333333333,
              "#9c179e"
             ],
             [
              0.4444444444444444,
              "#bd3786"
             ],
             [
              0.5555555555555556,
              "#d8576b"
             ],
             [
              0.6666666666666666,
              "#ed7953"
             ],
             [
              0.7777777777777778,
              "#fb9f3a"
             ],
             [
              0.8888888888888888,
              "#fdca26"
             ],
             [
              1,
              "#f0f921"
             ]
            ],
            "type": "surface"
           }
          ],
          "table": [
           {
            "cells": {
             "fill": {
              "color": "#EBF0F8"
             },
             "line": {
              "color": "white"
             }
            },
            "header": {
             "fill": {
              "color": "#C8D4E3"
             },
             "line": {
              "color": "white"
             }
            },
            "type": "table"
           }
          ]
         },
         "layout": {
          "annotationdefaults": {
           "arrowcolor": "#2a3f5f",
           "arrowhead": 0,
           "arrowwidth": 1
          },
          "autotypenumbers": "strict",
          "coloraxis": {
           "colorbar": {
            "outlinewidth": 0,
            "ticks": ""
           }
          },
          "colorscale": {
           "diverging": [
            [
             0,
             "#8e0152"
            ],
            [
             0.1,
             "#c51b7d"
            ],
            [
             0.2,
             "#de77ae"
            ],
            [
             0.3,
             "#f1b6da"
            ],
            [
             0.4,
             "#fde0ef"
            ],
            [
             0.5,
             "#f7f7f7"
            ],
            [
             0.6,
             "#e6f5d0"
            ],
            [
             0.7,
             "#b8e186"
            ],
            [
             0.8,
             "#7fbc41"
            ],
            [
             0.9,
             "#4d9221"
            ],
            [
             1,
             "#276419"
            ]
           ],
           "sequential": [
            [
             0,
             "#0d0887"
            ],
            [
             0.1111111111111111,
             "#46039f"
            ],
            [
             0.2222222222222222,
             "#7201a8"
            ],
            [
             0.3333333333333333,
             "#9c179e"
            ],
            [
             0.4444444444444444,
             "#bd3786"
            ],
            [
             0.5555555555555556,
             "#d8576b"
            ],
            [
             0.6666666666666666,
             "#ed7953"
            ],
            [
             0.7777777777777778,
             "#fb9f3a"
            ],
            [
             0.8888888888888888,
             "#fdca26"
            ],
            [
             1,
             "#f0f921"
            ]
           ],
           "sequentialminus": [
            [
             0,
             "#0d0887"
            ],
            [
             0.1111111111111111,
             "#46039f"
            ],
            [
             0.2222222222222222,
             "#7201a8"
            ],
            [
             0.3333333333333333,
             "#9c179e"
            ],
            [
             0.4444444444444444,
             "#bd3786"
            ],
            [
             0.5555555555555556,
             "#d8576b"
            ],
            [
             0.6666666666666666,
             "#ed7953"
            ],
            [
             0.7777777777777778,
             "#fb9f3a"
            ],
            [
             0.8888888888888888,
             "#fdca26"
            ],
            [
             1,
             "#f0f921"
            ]
           ]
          },
          "colorway": [
           "#636efa",
           "#EF553B",
           "#00cc96",
           "#ab63fa",
           "#FFA15A",
           "#19d3f3",
           "#FF6692",
           "#B6E880",
           "#FF97FF",
           "#FECB52"
          ],
          "font": {
           "color": "#2a3f5f"
          },
          "geo": {
           "bgcolor": "white",
           "lakecolor": "white",
           "landcolor": "white",
           "showlakes": true,
           "showland": true,
           "subunitcolor": "#C8D4E3"
          },
          "hoverlabel": {
           "align": "left"
          },
          "hovermode": "closest",
          "mapbox": {
           "style": "light"
          },
          "paper_bgcolor": "white",
          "plot_bgcolor": "white",
          "polar": {
           "angularaxis": {
            "gridcolor": "#EBF0F8",
            "linecolor": "#EBF0F8",
            "ticks": ""
           },
           "bgcolor": "white",
           "radialaxis": {
            "gridcolor": "#EBF0F8",
            "linecolor": "#EBF0F8",
            "ticks": ""
           }
          },
          "scene": {
           "xaxis": {
            "backgroundcolor": "white",
            "gridcolor": "#DFE8F3",
            "gridwidth": 2,
            "linecolor": "#EBF0F8",
            "showbackground": true,
            "ticks": "",
            "zerolinecolor": "#EBF0F8"
           },
           "yaxis": {
            "backgroundcolor": "white",
            "gridcolor": "#DFE8F3",
            "gridwidth": 2,
            "linecolor": "#EBF0F8",
            "showbackground": true,
            "ticks": "",
            "zerolinecolor": "#EBF0F8"
           },
           "zaxis": {
            "backgroundcolor": "white",
            "gridcolor": "#DFE8F3",
            "gridwidth": 2,
            "linecolor": "#EBF0F8",
            "showbackground": true,
            "ticks": "",
            "zerolinecolor": "#EBF0F8"
           }
          },
          "shapedefaults": {
           "line": {
            "color": "#2a3f5f"
           }
          },
          "ternary": {
           "aaxis": {
            "gridcolor": "#DFE8F3",
            "linecolor": "#A2B1C6",
            "ticks": ""
           },
           "baxis": {
            "gridcolor": "#DFE8F3",
            "linecolor": "#A2B1C6",
            "ticks": ""
           },
           "bgcolor": "white",
           "caxis": {
            "gridcolor": "#DFE8F3",
            "linecolor": "#A2B1C6",
            "ticks": ""
           }
          },
          "title": {
           "x": 0.05
          },
          "xaxis": {
           "automargin": true,
           "gridcolor": "#EBF0F8",
           "linecolor": "#EBF0F8",
           "ticks": "",
           "title": {
            "standoff": 15
           },
           "zerolinecolor": "#EBF0F8",
           "zerolinewidth": 2
          },
          "yaxis": {
           "automargin": true,
           "gridcolor": "#EBF0F8",
           "linecolor": "#EBF0F8",
           "ticks": "",
           "title": {
            "standoff": 15
           },
           "zerolinecolor": "#EBF0F8",
           "zerolinewidth": 2
          }
         }
        },
        "title": {
         "text": "Variación de la tarifa de int. horario tarifa_horario por division durante el año anio"
        },
        "width": 1800,
        "xaxis": {
         "anchor": "y",
         "domain": [
          0,
          1
         ],
         "title": {
          "text": "Mes"
         }
        },
        "yaxis": {
         "anchor": "x",
         "domain": [
          0,
          1
         ],
         "range": [
          0,
          2
         ],
         "title": {
          "text": "$/kWh"
         }
        }
       }
      }
     },
     "metadata": {},
     "output_type": "display_data"
    }
   ],
   "source": [
    "croped_data = data[(data['Int. Horario'] == 'Intermedia')&(data['division'].isin(division_oficial))]\n",
    "croped_data.reset_index(drop=True, inplace=True)\n",
    "croped_data = croped_data[['Valor','month', 'division', 'date']].groupby(['division','date']).agg([np.mean, np.std])\n",
    "croped_data.reset_index(inplace=True)\n",
    "croped_data = croped_data.pivot(index='date', columns='division', values=('Valor', 'mean'))\n",
    "fig = px.line(croped_data, color=\"division\", markers=True, range_y=[0,2],\n",
    "        title='Variación de la tarifa de int. horario {} por division durante el año {}'.format('tarifa_horario', 'anio'), width=1800, height=650,\n",
    "        labels={'date':'Mes', 'value':'$/kWh'}, color_discrete_sequence=px.colors.qualitative.Alphabet)\n",
    "fig"
   ]
  },
  {
   "cell_type": "code",
   "execution_count": 146,
   "metadata": {},
   "outputs": [
    {
     "data": {
      "text/html": [
       "<div>\n",
       "<style scoped>\n",
       "    .dataframe tbody tr th:only-of-type {\n",
       "        vertical-align: middle;\n",
       "    }\n",
       "\n",
       "    .dataframe tbody tr th {\n",
       "        vertical-align: top;\n",
       "    }\n",
       "\n",
       "    .dataframe thead tr th {\n",
       "        text-align: left;\n",
       "    }\n",
       "</style>\n",
       "<table border=\"1\" class=\"dataframe\">\n",
       "  <thead>\n",
       "    <tr>\n",
       "      <th></th>\n",
       "      <th>division</th>\n",
       "      <th>date</th>\n",
       "      <th colspan=\"2\" halign=\"left\">Valor</th>\n",
       "      <th colspan=\"2\" halign=\"left\">month</th>\n",
       "    </tr>\n",
       "    <tr>\n",
       "      <th></th>\n",
       "      <th></th>\n",
       "      <th></th>\n",
       "      <th>mean</th>\n",
       "      <th>std</th>\n",
       "      <th>mean</th>\n",
       "      <th>std</th>\n",
       "    </tr>\n",
       "  </thead>\n",
       "  <tbody>\n",
       "    <tr>\n",
       "      <th>0</th>\n",
       "      <td>BAJA CALIFORNIA</td>\n",
       "      <td>2020-01-01</td>\n",
       "      <td>0.549200</td>\n",
       "      <td>0.000000</td>\n",
       "      <td>1.00000</td>\n",
       "      <td>0.000000</td>\n",
       "    </tr>\n",
       "    <tr>\n",
       "      <th>1</th>\n",
       "      <td>BAJA CALIFORNIA</td>\n",
       "      <td>2020-02-01</td>\n",
       "      <td>0.546400</td>\n",
       "      <td>0.000000</td>\n",
       "      <td>2.00000</td>\n",
       "      <td>0.000000</td>\n",
       "    </tr>\n",
       "    <tr>\n",
       "      <th>2</th>\n",
       "      <td>BAJA CALIFORNIA</td>\n",
       "      <td>2020-03-01</td>\n",
       "      <td>0.548800</td>\n",
       "      <td>0.000000</td>\n",
       "      <td>3.00000</td>\n",
       "      <td>0.000000</td>\n",
       "    </tr>\n",
       "    <tr>\n",
       "      <th>3</th>\n",
       "      <td>BAJA CALIFORNIA</td>\n",
       "      <td>2020-04-01</td>\n",
       "      <td>0.551200</td>\n",
       "      <td>0.000000</td>\n",
       "      <td>4.00000</td>\n",
       "      <td>0.000000</td>\n",
       "    </tr>\n",
       "    <tr>\n",
       "      <th>4</th>\n",
       "      <td>BAJA CALIFORNIA</td>\n",
       "      <td>2020-05-01</td>\n",
       "      <td>0.547100</td>\n",
       "      <td>0.000000</td>\n",
       "      <td>5.00000</td>\n",
       "      <td>0.000000</td>\n",
       "    </tr>\n",
       "    <tr>\n",
       "      <th>...</th>\n",
       "      <td>...</td>\n",
       "      <td>...</td>\n",
       "      <td>...</td>\n",
       "      <td>...</td>\n",
       "      <td>...</td>\n",
       "      <td>...</td>\n",
       "    </tr>\n",
       "    <tr>\n",
       "      <th>594</th>\n",
       "      <td>VALLE DE MÉXICO SUR</td>\n",
       "      <td>2021-10-01</td>\n",
       "      <td>1.056660</td>\n",
       "      <td>0.011387</td>\n",
       "      <td>4.80000</td>\n",
       "      <td>0.774597</td>\n",
       "    </tr>\n",
       "    <tr>\n",
       "      <th>595</th>\n",
       "      <td>VALLE DE MÉXICO SUR</td>\n",
       "      <td>2021-11-01</td>\n",
       "      <td>0.988000</td>\n",
       "      <td>0.000000</td>\n",
       "      <td>11.00000</td>\n",
       "      <td>0.000000</td>\n",
       "    </tr>\n",
       "    <tr>\n",
       "      <th>596</th>\n",
       "      <td>VALLE DE MÉXICO SUR</td>\n",
       "      <td>2021-11-01</td>\n",
       "      <td>1.033868</td>\n",
       "      <td>0.025325</td>\n",
       "      <td>3.04000</td>\n",
       "      <td>1.946792</td>\n",
       "    </tr>\n",
       "    <tr>\n",
       "      <th>597</th>\n",
       "      <td>VALLE DE MÉXICO SUR</td>\n",
       "      <td>2021-12-01</td>\n",
       "      <td>0.998100</td>\n",
       "      <td>0.000000</td>\n",
       "      <td>12.00000</td>\n",
       "      <td>0.000000</td>\n",
       "    </tr>\n",
       "    <tr>\n",
       "      <th>598</th>\n",
       "      <td>VALLE DE MÉXICO SUR</td>\n",
       "      <td>2021-12-01</td>\n",
       "      <td>1.021883</td>\n",
       "      <td>0.011446</td>\n",
       "      <td>3.73913</td>\n",
       "      <td>2.434924</td>\n",
       "    </tr>\n",
       "  </tbody>\n",
       "</table>\n",
       "<p>599 rows × 6 columns</p>\n",
       "</div>"
      ],
      "text/plain": [
       "                division       date     Valor               month          \n",
       "                                         mean       std      mean       std\n",
       "0        BAJA CALIFORNIA 2020-01-01  0.549200  0.000000   1.00000  0.000000\n",
       "1        BAJA CALIFORNIA 2020-02-01  0.546400  0.000000   2.00000  0.000000\n",
       "2        BAJA CALIFORNIA 2020-03-01  0.548800  0.000000   3.00000  0.000000\n",
       "3        BAJA CALIFORNIA 2020-04-01  0.551200  0.000000   4.00000  0.000000\n",
       "4        BAJA CALIFORNIA 2020-05-01  0.547100  0.000000   5.00000  0.000000\n",
       "..                   ...        ...       ...       ...       ...       ...\n",
       "594  VALLE DE MÉXICO SUR 2021-10-01  1.056660  0.011387   4.80000  0.774597\n",
       "595  VALLE DE MÉXICO SUR 2021-11-01  0.988000  0.000000  11.00000  0.000000\n",
       "596  VALLE DE MÉXICO SUR 2021-11-01  1.033868  0.025325   3.04000  1.946792\n",
       "597  VALLE DE MÉXICO SUR 2021-12-01  0.998100  0.000000  12.00000  0.000000\n",
       "598  VALLE DE MÉXICO SUR 2021-12-01  1.021883  0.011446   3.73913  2.434924\n",
       "\n",
       "[599 rows x 6 columns]"
      ]
     },
     "execution_count": 146,
     "metadata": {},
     "output_type": "execute_result"
    }
   ],
   "source": [
    "croped_data"
   ]
  }
 ],
 "metadata": {
  "kernelspec": {
   "display_name": "Python 3.9.13 ('base')",
   "language": "python",
   "name": "python3"
  },
  "language_info": {
   "codemirror_mode": {
    "name": "ipython",
    "version": 3
   },
   "file_extension": ".py",
   "mimetype": "text/x-python",
   "name": "python",
   "nbconvert_exporter": "python",
   "pygments_lexer": "ipython3",
   "version": "3.9.13"
  },
  "orig_nbformat": 4,
  "vscode": {
   "interpreter": {
    "hash": "ad2bdc8ecc057115af97d19610ffacc2b4e99fae6737bb82f5d7fb13d2f2c186"
   }
  }
 },
 "nbformat": 4,
 "nbformat_minor": 2
}
