{
 "cells": [
  {
   "cell_type": "code",
   "execution_count": 1,
   "metadata": {},
   "outputs": [],
   "source": [
    "import pandas as pd\n",
    "import numpy as np\n",
    "import matplotlib.pyplot as plt\n",
    "import seaborn as sns\n",
    "import plotly.express as px\n",
    "import glob\n",
    "import os\n",
    "import unidecode\n",
    "import plotly.io as pio\n",
    "pio.kaleido.scope.mathjax = None\n",
    "pio.templates.default = \"plotly_white\"\n",
    "from statsmodels.tsa.statespace.sarimax import SARIMAX\n",
    "from statsmodels.tsa.api import ExponentialSmoothing"
   ]
  },
  {
   "cell_type": "code",
   "execution_count": 2,
   "metadata": {},
   "outputs": [],
   "source": [
    "def read_csvs(path):\n",
    "    \"\"\"Function to read all csv files in diferent folders and return a dataframe\n",
    "\n",
    "    Args:\n",
    "        path (str): path to the folder with the csv files\n",
    "\n",
    "    Returns:\n",
    "        pd.DataFrame: dataframe with all the data\n",
    "    \"\"\"\n",
    "    folders = []\n",
    "    directory = os.path.join(path)\n",
    "    for root,dirs,files in os.walk(directory):\n",
    "        folders.append(root)\n",
    "    del folders[0]\n",
    "\n",
    "    data_final = []\n",
    "    for folder in folders:\n",
    "        df = pd.concat(map(pd.read_csv, glob.glob(os.path.join(folder + \"/*.csv\"))))\n",
    "        state_name = folder.split(\"/\")[-1]\n",
    "        state_name = unidecode.unidecode(state_name.lower())\n",
    "        state_name = state_name.replace(\" \", \"_\")\n",
    "        df['estado'] = state_name\n",
    "        data_final.append(df)\n",
    "    \n",
    "    concat_data = pd.concat(data_final,ignore_index=True)\n",
    "    return concat_data\n",
    "\n",
    "def save_html_png(figure, name):\n",
    "    \"\"\"Function to save a plotly figure as html and png\n",
    "\n",
    "    Args:\n",
    "        figure (plotly fig): plotly figure\n",
    "        name (str): name of the file\n",
    "    \"\"\"\n",
    "    figure.write_html('./assets/images/html/' + name + '.html')\n",
    "    figure.write_image('./assets/images/png/' + name + '.png')"
   ]
  },
  {
   "cell_type": "code",
   "execution_count": 3,
   "metadata": {},
   "outputs": [
    {
     "data": {
      "text/plain": [
       "Int. Horario      0\n",
       "Cargo             0\n",
       "Unidades          0\n",
       "Valor             0\n",
       "year              0\n",
       "month             0\n",
       "state             0\n",
       "municipality      0\n",
       "division          0\n",
       "division_value    0\n",
       "estado            0\n",
       "date              0\n",
       "dtype: int64"
      ]
     },
     "execution_count": 3,
     "metadata": {},
     "output_type": "execute_result"
    }
   ],
   "source": [
    "#read scraped data from year 2022 and count nan values\n",
    "data_2022 = read_csvs(\"./scraped_data_2022/\")\n",
    "data_2022.drop(['Descripción', 'Tarifa'], axis=1, inplace=True)\n",
    "data_2022['date'] = pd.to_datetime(data_2022.year.astype(str) + '/' + data_2022.month.astype(str))\n",
    "data_2022.isna().sum()"
   ]
  },
  {
   "cell_type": "code",
   "execution_count": 4,
   "metadata": {},
   "outputs": [
    {
     "data": {
      "text/plain": [
       "Int. Horario      0\n",
       "Cargo             0\n",
       "Unidades          0\n",
       "Valor             0\n",
       "year              0\n",
       "month             0\n",
       "state             0\n",
       "municipality      0\n",
       "division          0\n",
       "division_value    0\n",
       "estado            0\n",
       "date              0\n",
       "dtype: int64"
      ]
     },
     "execution_count": 4,
     "metadata": {},
     "output_type": "execute_result"
    }
   ],
   "source": [
    "#read scraped data from year 2021 and count nan values\n",
    "data_2021 = read_csvs(\"./scraped_data_2021/\")\n",
    "data_2021.drop(['Descripción', 'Tarifa'], axis=1, inplace=True)\n",
    "data_2021['date'] = pd.to_datetime(data_2021.year.astype(str) + '/' + data_2021.month.astype(str))\n",
    "data_2021.isna().sum()"
   ]
  },
  {
   "cell_type": "code",
   "execution_count": 5,
   "metadata": {},
   "outputs": [
    {
     "data": {
      "text/plain": [
       "Int. Horario      0\n",
       "Cargo             0\n",
       "Unidades          0\n",
       "Valor             0\n",
       "year              0\n",
       "month             0\n",
       "state             0\n",
       "municipality      0\n",
       "division          0\n",
       "division_value    0\n",
       "estado            0\n",
       "date              0\n",
       "dtype: int64"
      ]
     },
     "execution_count": 5,
     "metadata": {},
     "output_type": "execute_result"
    }
   ],
   "source": [
    "#read scraped data from year 2020 and count nan values\n",
    "data_2020 = read_csvs(\"./scraped_data_2020/\")\n",
    "data_2020.drop(['Descripción', 'Tarifa'], axis=1, inplace=True)\n",
    "data_2020['date'] = pd.to_datetime(data_2020.year.astype(str) + '/' + data_2020.month.astype(str))\n",
    "data_2020.isna().sum()"
   ]
  },
  {
   "cell_type": "code",
   "execution_count": 6,
   "metadata": {},
   "outputs": [
    {
     "data": {
      "text/plain": [
       "array(['BAJA CALIFORNIA', 'BAJA CALIFORNIA SUR', 'BAJÍO',\n",
       "       'BAJÍO Y GOLFO CENTRO', 'BAJÍO Y GOLFO NORTE',\n",
       "       'BAJÍO Y GOLFO NORTE Y NORTE', 'BAJÍO Y NORTE', 'CENTRO OCCIDENTE',\n",
       "       'CENTRO OCCIDENTE Y JALISCO', 'CENTRO ORIENTE', 'CENTRO SUR',\n",
       "       'GOLFO CENTRO', 'GOLFO CENTRO Y GOLFO NORTE',\n",
       "       'GOLFO CENTRO Y ORIENTE', 'GOLFO NORTE', 'GOLFO NORTE Y NORTE',\n",
       "       'JALISCO', 'NOROESTE', 'NOROESTE Y NORTE', 'NORTE', 'ORIENTE',\n",
       "       'PENINSULAR', 'SURESTE', 'VALLE DE MÉXICO CENTRO',\n",
       "       'VALLE DE MÉXICO CENTRO Y SUR', 'VALLE DE MÉXICO NORTE',\n",
       "       'VALLE DE MÉXICO NORTE Y CENTRO',\n",
       "       'VALLE DE MÉXICO NORTE, CENTRO Y SUR', 'VALLE DE MÉXICO SUR',\n",
       "       'VALLE DE MÉXICO SUR Y CENTRO ORIENTE'], dtype=object)"
      ]
     },
     "execution_count": 6,
     "metadata": {},
     "output_type": "execute_result"
    }
   ],
   "source": [
    "#get unique divisiones in the 2020s data\n",
    "data_2020.sort_values(by='division').division.unique()"
   ]
  },
  {
   "cell_type": "code",
   "execution_count": 7,
   "metadata": {},
   "outputs": [
    {
     "name": "stdout",
     "output_type": "stream",
     "text": [
      "La cantidad de divisiones oficiales es: 17\n"
     ]
    }
   ],
   "source": [
    "#list with the divisiones to be analyzed ( CFE oficiales)\n",
    "division_oficial = ['BAJA CALIFORNIA', 'BAJA CALIFORNIA SUR', 'BAJÍO',\n",
    "    'CENTRO OCCIDENTE', 'CENTRO ORIENTE', 'CENTRO SUR', 'GOLFO CENTRO','GOLFO NORTE',\n",
    "    'JALISCO', 'NOROESTE', 'NORTE', 'ORIENTE', 'PENINSULAR', 'SURESTE', \n",
    "    'VALLE DE MÉXICO CENTRO', 'VALLE DE MÉXICO NORTE', 'VALLE DE MÉXICO SUR']\n",
    "\n",
    "print(\"La cantidad de divisiones oficiales es:\", len(division_oficial))"
   ]
  },
  {
   "cell_type": "code",
   "execution_count": 8,
   "metadata": {},
   "outputs": [],
   "source": [
    "def get_cargo_variacion(data, anio, division_oficial, tipo_cargo, etiqueta = 'Cargo fijo ($/mes)'):\n",
    "    \"\"\"Function to get the cargo fijo and variacion for a given year and division\n",
    "\n",
    "    Args:\n",
    "        data (pd.DataFrame): dataframe with the data of specific year\n",
    "        anio (str or int): year to be analyzed\n",
    "        division_oficial (list): list with the divisiones to be analyzed\n",
    "        tipo_cargo (str): type of cargo to be analyzed\n",
    "        etiqueta (str, optional): label for the cargo. Defaults to 'Cargo fijo ($/mes)'.\n",
    "\n",
    "    Returns:\n",
    "        plotly fig: plotly figure with the cargo fijo and variacion for a given year and division\n",
    "    \"\"\"\n",
    "    cargo = data[(data.division.isin(division_oficial))&(data.Cargo==tipo_cargo)]\n",
    "    cargo.reset_index(drop=True, inplace=True)\n",
    "    fig = px.line(cargo, x='date', y='Valor', color='division', line_group = 'estado',\n",
    "        title='Variación de la tarifa de cargo {} por division durante el año {}'.format(tipo_cargo,anio),\n",
    "        labels={'date':'Fecha por mes', 'Valor':etiqueta}, width=1200, height=650, markers=True,\n",
    "        color_discrete_sequence=px.colors.qualitative.Alphabet)\n",
    "    return fig"
   ]
  },
  {
   "cell_type": "markdown",
   "metadata": {},
   "source": [
    "### Save figs with all possible variarions (carho fijo, distribucion, capacidad)"
   ]
  },
  {
   "cell_type": "code",
   "execution_count": 9,
   "metadata": {},
   "outputs": [],
   "source": [
    "cargo_fijo_2020 = get_cargo_variacion(data_2020, 2020, division_oficial, 'Fijo', 'Cargo fijo ($/mes)')\n",
    "save_html_png(cargo_fijo_2020, 'cargo_fijo_2020')\n",
    "\n",
    "cargo_fijo_2021 = get_cargo_variacion(data_2021, 2021, division_oficial, 'Fijo', 'Cargo fijo ($/mes)')\n",
    "save_html_png(cargo_fijo_2021, 'cargo_fijo_2021')\n",
    "\n",
    "cargo_fijo_2022 = get_cargo_variacion(data_2022, 2022, division_oficial, 'Fijo', 'Cargo fijo ($/mes)')\n",
    "save_html_png(cargo_fijo_2022, 'cargo_fijo_2022')"
   ]
  },
  {
   "cell_type": "code",
   "execution_count": 10,
   "metadata": {},
   "outputs": [],
   "source": [
    "cargo_dist_2020 = get_cargo_variacion(data_2020,2020,division_oficial,'Distribución','Distribución ($/kW)')\n",
    "save_html_png(cargo_dist_2020, 'distribucion_2020')\n",
    "\n",
    "cargo_dist_2021 = get_cargo_variacion(data_2021,2021,division_oficial,'Distribución','Distribución ($/kW)')\n",
    "save_html_png(cargo_dist_2021, 'distribucion_2021')\n",
    "\n",
    "cargo_dist_2022 = get_cargo_variacion(data_2022,2022,division_oficial,'Distribución','Distribución ($/kW)')\n",
    "save_html_png(cargo_dist_2022, 'distribucion_2022')"
   ]
  },
  {
   "cell_type": "code",
   "execution_count": 11,
   "metadata": {},
   "outputs": [],
   "source": [
    "cargo_cap_2020 = get_cargo_variacion(data_2020,2020,division_oficial,'Capacidad','Capacidad ($/kW)')\n",
    "save_html_png(cargo_cap_2020, 'capacidad_2020')\n",
    "\n",
    "cargo_cap_2021 = get_cargo_variacion(data_2021,2021,division_oficial,'Capacidad','Capacidad ($/kW)')\n",
    "save_html_png(cargo_cap_2021, 'capacidad_2021')\n",
    "\n",
    "cargo_cap_2022 = get_cargo_variacion(data_2022,2022,division_oficial,'Capacidad','Capacidad ($/kW)')\n",
    "save_html_png(cargo_cap_2022, 'capacidad_2022')"
   ]
  },
  {
   "cell_type": "code",
   "execution_count": 12,
   "metadata": {},
   "outputs": [],
   "source": [
    "def get_violin_plot(data, anio, division_oficial):\n",
    "    \"\"\"Function to get the violin plot for a given year and division\n",
    "\n",
    "    Args:\n",
    "        data (pd.DataFrame): dataframe with the data of specific year\n",
    "        anio (strr or int): year to be analyzed\n",
    "        division_oficial (list): list with the divisiones to be analyzed\n",
    "\n",
    "    Returns:\n",
    "        plotly fig: plotly figure with the violin plot for a given year and division\n",
    "    \"\"\"\n",
    "    cargo = data[(data.division.isin(division_oficial))&(data.Cargo=='Capacidad')]\n",
    "    cargo.reset_index(drop=True, inplace=True)\n",
    "    fig = px.violin(cargo, y=\"Valor\", color=\"division\", box=True, points='suspectedoutliers',\n",
    "        title='Distribución de la tarifa de cargo capacidad por division durante el año {}'.format(anio),\n",
    "        labels={'Valor':'Capacidad ($/kW)'}, width=1200, height=650,\n",
    "        color_discrete_sequence=px.colors.qualitative.Alphabet)\n",
    "    return fig\n",
    "\n",
    "def get_boxplots(data, anio, division_oficial, tipo='Capacidad'):\n",
    "    \"\"\"Function to get the boxplots for a given year and division\n",
    "\n",
    "    Args:\n",
    "        data (pd.DataFrame): dataframe with the data of specific year\n",
    "        anio (str or int): year to be analyzed\n",
    "        division_oficial (list): list with the divisiones to be analyzed\n",
    "        tipo (str, optional): type of value to be analyzed. Defaults to 'Capacidad'.\n",
    "\n",
    "    Returns:\n",
    "        plotly fig: plotly figure with the boxplots for a given year and division\n",
    "    \"\"\"\n",
    "    if tipo == 'Capacidad':\n",
    "        cargo = data[(data.division.isin(division_oficial))&(data.Cargo=='Capacidad')]\n",
    "        fig_title = 'Estadística de la distribución de la tarifa de cargo capacidad por division durante el año {}'.format(anio)\n",
    "        lbl = 'Capacidad ($/kW)'\n",
    "\n",
    "    else:\n",
    "        cargo = data[(data.division.isin(division_oficial))&(data['Int. Horario']==tipo)]\n",
    "        fig_title = 'Estadística de la distribución de la tarifa int. horario {} por division durante el año {}'.format(tipo, anio)\n",
    "        lbl = 'Capacidad ($/kWh)'\n",
    "\n",
    "    cargo.reset_index(drop=True, inplace=True)\n",
    "    grouped_data = cargo[['Valor', 'division', 'date']].groupby(['division','date']).mean()#agg([np.mean, np.std])\n",
    "    grouped_data_std = cargo[['Valor', 'division', 'date']].groupby(['division','date']).std()\n",
    "    grouped_data.reset_index(inplace=True)\n",
    "    grouped_data_std.reset_index(inplace=True)\n",
    "\n",
    "    if grouped_data_std.Valor.sum() == 0:\n",
    "        fig = px.box(grouped_data, y=\"Valor\", color=\"division\", points='suspectedoutliers',\n",
    "            labels={'Valor':lbl}, width=1200, height=650,\n",
    "            title=fig_title,\n",
    "            color_discrete_sequence=px.colors.qualitative.Alphabet)\n",
    "        return fig\n",
    "    else:\n",
    "        print('Hay variaciones en la tarifa de capacidad intraregión revisar')\n",
    "        return None"
   ]
  },
  {
   "cell_type": "markdown",
   "metadata": {},
   "source": [
    "### Save violin and boxplot of cargo capacidad per year"
   ]
  },
  {
   "cell_type": "code",
   "execution_count": 13,
   "metadata": {},
   "outputs": [],
   "source": [
    "violin_cap_2020 = get_violin_plot(data_2020,2020,division_oficial)\n",
    "save_html_png(violin_cap_2020, 'violin_capacidad_2020')\n",
    "\n",
    "violin_cap_2021 = get_violin_plot(data_2021,2021,division_oficial)\n",
    "save_html_png(violin_cap_2021, 'violin_capacidad_2021')\n",
    "\n",
    "violin_cap_2022 = get_violin_plot(data_2022,2022,division_oficial)\n",
    "save_html_png(violin_cap_2022, 'violin_capacidad_2022')"
   ]
  },
  {
   "cell_type": "code",
   "execution_count": 14,
   "metadata": {},
   "outputs": [],
   "source": [
    "box_cap_2020 = get_boxplots(data_2020,2020,division_oficial)\n",
    "save_html_png(box_cap_2020, 'boxplot_capacidad_2020')\n",
    "\n",
    "box_cap_2021 = get_boxplots(data_2021,2021,division_oficial)\n",
    "save_html_png(box_cap_2021, 'boxplot_capacidad_2021')\n",
    "\n",
    "box_cap_2022 = get_boxplots(data_2022,2022,division_oficial)\n",
    "save_html_png(box_cap_2022, 'boxplot_capacidad_2022')"
   ]
  },
  {
   "cell_type": "code",
   "execution_count": 15,
   "metadata": {},
   "outputs": [],
   "source": [
    "def get_variacion_tarifas(data, anio, division_oficial, tarifa_horario, rango_y = [0.5, 2.1], type_plot='area'):\n",
    "    \"\"\"Function to get the variation of the tarifas for a given year and division\n",
    "\n",
    "    Args:\n",
    "        data (pd.DataFrame): dataframe with the data of specific year\n",
    "        anio (str or int): year to be analyzed\n",
    "        division_oficial (list): list with the divisiones to be analyzed\n",
    "        tarifa_horario (str): type of tarifa to be analyzed\n",
    "        rango_y (list, optional): range of the y axis. Defaults to [0.5, 2.1].\n",
    "        type_plot (str, optional): type of plot to be used. Defaults to 'area'.\n",
    "    Returns:\n",
    "        plotly fig: plotly figure with the variation of the tarifas for a given year, division and type of tarifa\n",
    "    \"\"\"\n",
    "    croped_data = data[(data['Int. Horario'] == tarifa_horario)&(data['division'].isin(division_oficial))]\n",
    "    croped_data.reset_index(drop=True, inplace=True)\n",
    "    croped_data = croped_data[['Valor','month', 'division', 'date']].groupby(['division','date']).agg([np.mean, np.std])\n",
    "    croped_data.reset_index(inplace=True)\n",
    "\n",
    "    if croped_data.Valor['std'].sum() == 0.0:\n",
    "        croped_data = croped_data.pivot(index='date', columns='division', values=('Valor', 'mean'))\n",
    "\n",
    "        if type_plot == 'area':\n",
    "            fig = px.area(croped_data, facet_col=\"division\", facet_col_wrap=6, markers=True, range_y=rango_y,\n",
    "                title='Variación de la tarifa de int. horario {} por division durante el año {}'.format(tarifa_horario, anio), width=1800, height=650,\n",
    "                labels={'date':'Mes', 'value':'$/kWh'}, color_discrete_sequence=px.colors.qualitative.Alphabet)\n",
    "        else:\n",
    "            fig = px.line(croped_data, color=\"division\", markers=True, range_y=rango_y,\n",
    "                title='Variación de la tarifa de int. horario {} por division durante el año {}'.format(tarifa_horario, anio), width=1800, height=650,\n",
    "                labels={'date':'Mes', 'value':'$/kWh'}, color_discrete_sequence=px.colors.qualitative.Alphabet)\n",
    "            \n",
    "        return fig\n",
    "    else:\n",
    "        print('Hay algo extraño con los datos, existen variaciones en la tarifa de interés por mes y region, revisar')\n",
    "        return None\n"
   ]
  },
  {
   "cell_type": "markdown",
   "metadata": {},
   "source": [
    "### Save variation of the tariff per year also get boxplot"
   ]
  },
  {
   "cell_type": "code",
   "execution_count": 16,
   "metadata": {},
   "outputs": [],
   "source": [
    "tarifa_base_2020 = get_variacion_tarifas(data_2020,2020,division_oficial,'Base')\n",
    "box_base_2020 = get_boxplots(data_2020,2020,division_oficial,'Base')\n",
    "save_html_png(tarifa_base_2020, 'tarifa_base_2020')\n",
    "save_html_png(box_base_2020, 'boxplot_base_2020')\n",
    "\n",
    "tarifa_inter_2020 = get_variacion_tarifas(data_2020,2020,division_oficial,'Intermedia', [0,2.6])\n",
    "box_inter_2020 = get_boxplots(data_2020,2020,division_oficial,'Intermedia')\n",
    "save_html_png(tarifa_inter_2020, 'tarifa_inter_2020')\n",
    "save_html_png(box_inter_2020, 'boxplot_inter_2020')\n",
    "\n",
    "tarifa_punta_2020 = get_variacion_tarifas(data_2020,2020,division_oficial,'Punta', [0,3.6])\n",
    "box_punta_2020 = get_boxplots(data_2020,2020,division_oficial,'Punta')\n",
    "save_html_png(tarifa_punta_2020, 'tarifa_punta_2020')\n",
    "save_html_png(box_punta_2020, 'boxplot_punta_2020')"
   ]
  },
  {
   "cell_type": "code",
   "execution_count": 17,
   "metadata": {},
   "outputs": [],
   "source": [
    "tarifa_base_2021 = get_variacion_tarifas(data_2021,2021,division_oficial,'Base')\n",
    "box_base_2021 = get_boxplots(data_2021,2021,division_oficial,'Base')\n",
    "save_html_png(tarifa_base_2021, 'tarifa_base_2021')\n",
    "save_html_png(box_base_2021, 'boxplot_base_2021')\n",
    "\n",
    "tarifa_inter_2021 = get_variacion_tarifas(data_2021,2021,division_oficial,'Intermedia', [0,2.6])\n",
    "box_inter_2021 = get_boxplots(data_2021,2021,division_oficial,'Intermedia')\n",
    "save_html_png(tarifa_inter_2021, 'tarifa_inter_2021')\n",
    "save_html_png(box_inter_2021, 'boxplot_inter_2021')\n",
    "\n",
    "tarifa_punta_2021 = get_variacion_tarifas(data_2021,2021,division_oficial,'Punta', [0,3.6])\n",
    "box_punta_2021 = get_boxplots(data_2021,2021,division_oficial,'Punta')\n",
    "save_html_png(tarifa_punta_2021, 'tarifa_punta_2021')\n",
    "save_html_png(box_punta_2021, 'boxplot_punta_2021')"
   ]
  },
  {
   "cell_type": "code",
   "execution_count": 18,
   "metadata": {},
   "outputs": [],
   "source": [
    "tarifa_base_2022 = get_variacion_tarifas(data_2022,2022,division_oficial,'Base')\n",
    "box_base_2022 = get_boxplots(data_2022,2022,division_oficial,'Base')\n",
    "save_html_png(tarifa_base_2022, 'tarifa_base_2022')\n",
    "save_html_png(box_base_2022, 'boxplot_base_2022')\n",
    "\n",
    "tarifa_inter_2022 = get_variacion_tarifas(data_2022,2022,division_oficial,'Intermedia', [0,2.6])\n",
    "box_inter_2022 = get_boxplots(data_2022,2022,division_oficial,'Intermedia')\n",
    "save_html_png(tarifa_inter_2022, 'tarifa_inter_2022')\n",
    "save_html_png(box_inter_2022, 'boxplot_inter_2022')\n",
    "\n",
    "tarifa_punta_2022 = get_variacion_tarifas(data_2022,2022,division_oficial,'Punta', [0,3.6])\n",
    "box_punta_2022 = get_boxplots(data_2022,2022,division_oficial,'Punta')\n",
    "save_html_png(tarifa_punta_2022, 'tarifa_punta_2022')\n",
    "save_html_png(box_punta_2022, 'boxplot_punta_2022')"
   ]
  },
  {
   "cell_type": "markdown",
   "metadata": {},
   "source": [
    "# Join years 2020, 2021 and 2022"
   ]
  },
  {
   "cell_type": "code",
   "execution_count": 19,
   "metadata": {},
   "outputs": [],
   "source": [
    "data = pd.concat([data_2020, data_2021, data_2022], ignore_index=True)"
   ]
  },
  {
   "cell_type": "markdown",
   "metadata": {},
   "source": [
    "### Get time series of the tariff for all the years"
   ]
  },
  {
   "cell_type": "code",
   "execution_count": 20,
   "metadata": {},
   "outputs": [],
   "source": [
    "tarifa_base_all = get_variacion_tarifas(data,'2020, 2021 y 2022',division_oficial,'Base', rango_y=[0.5, 2.01] ,type_plot='line')\n",
    "save_html_png(tarifa_base_all, 'tarifa_base_all')\n",
    "\n",
    "tarifa_intermedia_all = get_variacion_tarifas(data,'2020, 2021 y 2022',division_oficial,'Intermedia', rango_y=[0.6, 2.6] ,type_plot='line')\n",
    "save_html_png(tarifa_intermedia_all, 'tarifa_intermedia_all')\n",
    "\n",
    "tarifa_punta_all = get_variacion_tarifas(data,'2020, 2021 y 2022',division_oficial,'Punta', rango_y=[-0.1, 3.6] ,type_plot='line')\n",
    "save_html_png(tarifa_punta_all, 'tarifa_punta_all')"
   ]
  },
  {
   "cell_type": "code",
   "execution_count": 21,
   "metadata": {},
   "outputs": [],
   "source": [
    "cargo_cap_all = get_cargo_variacion(data, '2020, 2021 y 2022', division_oficial, 'Capacidad', 'Capacidad ($/kW)')\n",
    "save_html_png(cargo_cap_all, 'capacidad_all')\n",
    "\n",
    "cargo_dist_all = get_cargo_variacion(data,'2020, 2021 y 2022',division_oficial,'Distribución','Distribución ($/kW)')\n",
    "save_html_png(cargo_dist_all, 'distribucion_all')\n",
    "\n",
    "\n",
    "cargo_fijo_all = get_cargo_variacion(data, '2020, 2021 y 2022', division_oficial, 'Fijo', 'Cargo fijo ($/mes)')\n",
    "save_html_png(cargo_fijo_all, 'cargo_fijo_all')"
   ]
  },
  {
   "cell_type": "markdown",
   "metadata": {},
   "source": [
    "# Modelo de forecasting"
   ]
  },
  {
   "cell_type": "code",
   "execution_count": 22,
   "metadata": {},
   "outputs": [],
   "source": [
    "#select division of golfo centro and get the values of tarifa intermedia per month for 2020, 2021 and 2022\n",
    "croped_data = data[(data['Int. Horario'] == 'Intermedia')&(data['division']=='GOLFO CENTRO')]\n",
    "croped_data.reset_index(drop=True, inplace=True)\n",
    "croped_data = croped_data[['Int. Horario', 'Valor', 'date']].groupby(['date']).mean(numeric_only=True)\n",
    "croped_data.reset_index(inplace=True)"
   ]
  },
  {
   "cell_type": "code",
   "execution_count": 23,
   "metadata": {},
   "outputs": [],
   "source": [
    "#calculate the variation of the tarifa intermedia per month for 2020, 2021 and 2022 this is for statistical analysis (stationarity)\n",
    "croped_data['z_data'] = (croped_data['Valor'] - croped_data['Valor'].rolling(window=12).mean()) / croped_data['Valor'].rolling(window=12).std()\n",
    "croped_data['zp_data'] = croped_data['z_data'] - croped_data['z_data'].shift(12)"
   ]
  },
  {
   "cell_type": "code",
   "execution_count": 24,
   "metadata": {},
   "outputs": [
    {
     "name": "stdout",
     "output_type": "stream",
     "text": [
      " > Is the data stationary ?\n",
      "Test statistic = -0.031\n",
      "P-value = 0.956\n",
      "Critical values :\n",
      "\t1%: -3.6461350877925254 - The data is not stationary with 99% confidence\n",
      "\t5%: -2.954126991123355 - The data is not stationary with 95% confidence\n",
      "\t10%: -2.6159676124885216 - The data is not stationary with 90% confidence\n",
      "\n",
      " > Is the de-trended data stationary ?\n",
      "Test statistic = -2.814\n",
      "P-value = 0.056\n",
      "Critical values :\n",
      "\t1%: -3.769732625845229 - The data is not stationary with 99% confidence\n",
      "\t5%: -3.005425537190083 - The data is not stationary with 95% confidence\n",
      "\t10%: -2.6425009917355373 - The data is  stationary with 90% confidence\n",
      "\n",
      " > Is the 12-lag differenced de-trended data stationary ?\n",
      "Test statistic = -1.760\n",
      "P-value = 0.401\n",
      "Critical values :\n",
      "\t1%: -4.331573 - The data is not stationary with 99% confidence\n",
      "\t5%: -3.23295 - The data is not stationary with 95% confidence\n",
      "\t10%: -2.7487 - The data is not stationary with 90% confidence\n"
     ]
    }
   ],
   "source": [
    "#Dickey-Fuller test for stationarity\n",
    "from statsmodels.tsa.stattools import adfuller\n",
    "\n",
    "print(\" > Is the data stationary ?\")\n",
    "dftest = adfuller(croped_data.Valor, autolag='AIC')\n",
    "print(\"Test statistic = {:.3f}\".format(dftest[0]))\n",
    "print(\"P-value = {:.3f}\".format(dftest[1]))\n",
    "print(\"Critical values :\")\n",
    "for k, v in dftest[4].items():\n",
    "    print(\"\\t{}: {} - The data is {} stationary with {}% confidence\".format(k, v, \"not\" if v<dftest[0] else \"\", 100-int(k[:-1])))\n",
    "    \n",
    "print(\"\\n > Is the de-trended data stationary ?\")\n",
    "dftest = adfuller(croped_data.z_data.dropna(), autolag='AIC')\n",
    "print(\"Test statistic = {:.3f}\".format(dftest[0]))\n",
    "print(\"P-value = {:.3f}\".format(dftest[1]))\n",
    "print(\"Critical values :\")\n",
    "for k, v in dftest[4].items():\n",
    "    print(\"\\t{}: {} - The data is {} stationary with {}% confidence\".format(k, v, \"not\" if v<dftest[0] else \"\", 100-int(k[:-1])))\n",
    "    \n",
    "print(\"\\n > Is the 12-lag differenced de-trended data stationary ?\")\n",
    "dftest = adfuller(croped_data.zp_data.dropna(), autolag='AIC')\n",
    "print(\"Test statistic = {:.3f}\".format(dftest[0]))\n",
    "print(\"P-value = {:.3f}\".format(dftest[1]))\n",
    "print(\"Critical values :\")\n",
    "for k, v in dftest[4].items():\n",
    "    print(\"\\t{}: {} - The data is {} stationary with {}% confidence\".format(k, v, \"not\" if v<dftest[0] else \"\", 100-int(k[:-1])))"
   ]
  },
  {
   "cell_type": "markdown",
   "metadata": {},
   "source": [
    "### Time series is not stationary, so we need to use exponential smoothing"
   ]
  },
  {
   "cell_type": "code",
   "execution_count": 25,
   "metadata": {},
   "outputs": [],
   "source": [
    "#divide the data in train and test for forecasting\n",
    "train = croped_data.loc[:30, ['date', 'Valor']]\n",
    "test = croped_data.loc[30:, ['date', 'Valor']]"
   ]
  },
  {
   "cell_type": "code",
   "execution_count": 26,
   "metadata": {},
   "outputs": [
    {
     "data": {
      "text/plain": [
       "array([1.60303275, 1.6068918 , 1.61013468, 1.61285675])"
      ]
     },
     "execution_count": 26,
     "metadata": {},
     "output_type": "execute_result"
    }
   ],
   "source": [
    "#exponential smoothing model for forecasting\n",
    "model2 = ExponentialSmoothing(np.asarray(train['Valor']), trend='mul', seasonal=None, damped_trend=True,\n",
    "                    use_boxcox=True)\n",
    "model2._index = train['date']\n",
    "#model fit\n",
    "fit2 = model2.fit()\n",
    "#model predict for test data\n",
    "pred2= fit2.forecast(len(test)-1)\n",
    "pred2"
   ]
  },
  {
   "cell_type": "code",
   "execution_count": 27,
   "metadata": {},
   "outputs": [
    {
     "data": {
      "image/png": "[encoded data removed]",
      "text/plain": [
       "<Figure size 1200x1200 with 1 Axes>"
      ]
     },
     "metadata": {},
     "output_type": "display_data"
    }
   ],
   "source": [
    "#plot the results and save the plot\n",
    "forecast_time = pd.Series(pd.date_range(start='2022-07-01', end='2023-02-01', freq=pd.offsets.MonthBegin()))\n",
    "plt.rcParams['figure.figsize'] = [12, 12]\n",
    "plt.plot(croped_data['date'], croped_data['Valor'], color = \"black\", marker = \"o\", label = \"Actual\", markersize=3)\n",
    "plt.plot(croped_data['date'][:31], fit2.fittedvalues, color = \"green\",linestyle='dashed', marker = \"+\", label = \"Forecasted\", markersize=3)\n",
    "plt.plot(forecast_time, fit2.forecast(7), color = \"red\",linestyle='dashdot', marker = \"o\", label = \"Predictions\", markersize=3)\n",
    "plt.ylabel('Valor ($/kWh)')\n",
    "plt.xlabel('Date')\n",
    "plt.xticks(rotation=45)\n",
    "plt.legend(loc=\"upper left\")\n",
    "plt.title(\"Train/Test split para la tarifa intermedia\")\n",
    "plt.savefig(\"./assets/images/png/forecast.png\")\n",
    "plt.show()"
   ]
  },
  {
   "cell_type": "code",
   "execution_count": 28,
   "metadata": {},
   "outputs": [
    {
     "name": "stdout",
     "output_type": "stream",
     "text": [
      "El valor de RMSE es 0.00491305034066036\n"
     ]
    }
   ],
   "source": [
    "#calculate the error of the model\n",
    "print('El valor de RMSE es {}'.format(np.sqrt(((test.Valor.values - pred2)**2).mean())))"
   ]
  }
 ],
 "metadata": {
  "kernelspec": {
   "display_name": "Python 3.9.13 ('base')",
   "language": "python",
   "name": "python3"
  },
  "language_info": {
   "codemirror_mode": {
    "name": "ipython",
    "version": 3
   },
   "file_extension": ".py",
   "mimetype": "text/x-python",
   "name": "python",
   "nbconvert_exporter": "python",
   "pygments_lexer": "ipython3",
   "version": "3.9.13"
  },
  "orig_nbformat": 4,
  "vscode": {
   "interpreter": {
    "hash": "ad2bdc8ecc057115af97d19610ffacc2b4e99fae6737bb82f5d7fb13d2f2c186"
   }
  }
 },
 "nbformat": 4,
 "nbformat_minor": 2
}
