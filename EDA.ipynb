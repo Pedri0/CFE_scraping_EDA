{
 "cells": [
  {
   "cell_type": "code",
   "execution_count": 1,
   "metadata": {},
   "outputs": [],
   "source": [
    "import pandas as pd\n",
    "import numpy as np\n",
    "import matplotlib.pyplot as plt\n",
    "import seaborn as sns\n",
    "import plotly.express as px\n",
    "import glob\n",
    "import os\n",
    "import unidecode\n",
    "import plotly.io as pio\n",
    "pio.kaleido.scope.mathjax = None\n",
    "pio.templates.default = \"plotly_white\"\n"
   ]
  },
  {
   "cell_type": "code",
   "execution_count": 2,
   "metadata": {},
   "outputs": [],
   "source": [
    "def read_csvs(path):\n",
    "    folders = []\n",
    "    directory = os.path.join(path)\n",
    "    for root,dirs,files in os.walk(directory):\n",
    "        folders.append(root)\n",
    "    del folders[0]\n",
    "\n",
    "    data_final = []\n",
    "    for folder in folders:\n",
    "        df = pd.concat(map(pd.read_csv, glob.glob(os.path.join(folder + \"/*.csv\"))))\n",
    "        state_name = folder.split(\"/\")[-1]\n",
    "        state_name = unidecode.unidecode(state_name.lower())\n",
    "        state_name = state_name.replace(\" \", \"_\")\n",
    "        df['estado'] = state_name\n",
    "        data_final.append(df)\n",
    "    \n",
    "    concat_data = pd.concat(data_final,ignore_index=True)\n",
    "    return concat_data"
   ]
  },
  {
   "cell_type": "code",
   "execution_count": 3,
   "metadata": {},
   "outputs": [
    {
     "data": {
      "text/plain": [
       "Int. Horario      0\n",
       "Cargo             0\n",
       "Unidades          0\n",
       "Valor             0\n",
       "year              0\n",
       "month             0\n",
       "state             0\n",
       "municipality      0\n",
       "division          0\n",
       "division_value    0\n",
       "estado            0\n",
       "date              0\n",
       "dtype: int64"
      ]
     },
     "execution_count": 3,
     "metadata": {},
     "output_type": "execute_result"
    }
   ],
   "source": [
    "data_2022 = read_csvs(\"./scraped_data_2022/\")\n",
    "data_2022.drop(['Descripción', 'Tarifa'], axis=1, inplace=True)\n",
    "data_2022['date'] = pd.to_datetime(data_2022.year.astype(str) + '/' + data_2022.month.astype(str))\n",
    "data_2022['date'] = data_2022.date.dt.date\n",
    "data_2022.isna().sum()"
   ]
  },
  {
   "cell_type": "code",
   "execution_count": 4,
   "metadata": {},
   "outputs": [
    {
     "data": {
      "text/html": [
       "<div>\n",
       "<style scoped>\n",
       "    .dataframe tbody tr th:only-of-type {\n",
       "        vertical-align: middle;\n",
       "    }\n",
       "\n",
       "    .dataframe tbody tr th {\n",
       "        vertical-align: top;\n",
       "    }\n",
       "\n",
       "    .dataframe thead th {\n",
       "        text-align: right;\n",
       "    }\n",
       "</style>\n",
       "<table border=\"1\" class=\"dataframe\">\n",
       "  <thead>\n",
       "    <tr style=\"text-align: right;\">\n",
       "      <th></th>\n",
       "      <th>Int. Horario</th>\n",
       "      <th>Cargo</th>\n",
       "      <th>Unidades</th>\n",
       "      <th>Valor</th>\n",
       "      <th>year</th>\n",
       "      <th>month</th>\n",
       "      <th>state</th>\n",
       "      <th>municipality</th>\n",
       "      <th>division</th>\n",
       "      <th>division_value</th>\n",
       "      <th>estado</th>\n",
       "      <th>date</th>\n",
       "    </tr>\n",
       "  </thead>\n",
       "  <tbody>\n",
       "    <tr>\n",
       "      <th>0</th>\n",
       "      <td>-</td>\n",
       "      <td>Fijo</td>\n",
       "      <td>$/mes</td>\n",
       "      <td>277.7600</td>\n",
       "      <td>2022</td>\n",
       "      <td>1</td>\n",
       "      <td>AGUASCALIENTES</td>\n",
       "      <td>1</td>\n",
       "      <td>BAJÍO</td>\n",
       "      <td>3</td>\n",
       "      <td>aguascalientes</td>\n",
       "      <td>2022-01-01</td>\n",
       "    </tr>\n",
       "    <tr>\n",
       "      <th>1</th>\n",
       "      <td>Base</td>\n",
       "      <td>Variable (Energía)</td>\n",
       "      <td>$/kWh</td>\n",
       "      <td>0.9541</td>\n",
       "      <td>2022</td>\n",
       "      <td>1</td>\n",
       "      <td>AGUASCALIENTES</td>\n",
       "      <td>1</td>\n",
       "      <td>BAJÍO</td>\n",
       "      <td>3</td>\n",
       "      <td>aguascalientes</td>\n",
       "      <td>2022-01-01</td>\n",
       "    </tr>\n",
       "    <tr>\n",
       "      <th>2</th>\n",
       "      <td>Intermedia</td>\n",
       "      <td>Variable (Energía)</td>\n",
       "      <td>$/kWh</td>\n",
       "      <td>1.6819</td>\n",
       "      <td>2022</td>\n",
       "      <td>1</td>\n",
       "      <td>AGUASCALIENTES</td>\n",
       "      <td>1</td>\n",
       "      <td>BAJÍO</td>\n",
       "      <td>3</td>\n",
       "      <td>aguascalientes</td>\n",
       "      <td>2022-01-01</td>\n",
       "    </tr>\n",
       "    <tr>\n",
       "      <th>3</th>\n",
       "      <td>Punta</td>\n",
       "      <td>Variable (Energía)</td>\n",
       "      <td>$/kWh</td>\n",
       "      <td>1.9140</td>\n",
       "      <td>2022</td>\n",
       "      <td>1</td>\n",
       "      <td>AGUASCALIENTES</td>\n",
       "      <td>1</td>\n",
       "      <td>BAJÍO</td>\n",
       "      <td>3</td>\n",
       "      <td>aguascalientes</td>\n",
       "      <td>2022-01-01</td>\n",
       "    </tr>\n",
       "    <tr>\n",
       "      <th>4</th>\n",
       "      <td>-</td>\n",
       "      <td>Distribución</td>\n",
       "      <td>$/kW</td>\n",
       "      <td>107.4500</td>\n",
       "      <td>2022</td>\n",
       "      <td>1</td>\n",
       "      <td>AGUASCALIENTES</td>\n",
       "      <td>1</td>\n",
       "      <td>BAJÍO</td>\n",
       "      <td>3</td>\n",
       "      <td>aguascalientes</td>\n",
       "      <td>2022-01-01</td>\n",
       "    </tr>\n",
       "    <tr>\n",
       "      <th>...</th>\n",
       "      <td>...</td>\n",
       "      <td>...</td>\n",
       "      <td>...</td>\n",
       "      <td>...</td>\n",
       "      <td>...</td>\n",
       "      <td>...</td>\n",
       "      <td>...</td>\n",
       "      <td>...</td>\n",
       "      <td>...</td>\n",
       "      <td>...</td>\n",
       "      <td>...</td>\n",
       "      <td>...</td>\n",
       "    </tr>\n",
       "    <tr>\n",
       "      <th>153703</th>\n",
       "      <td>Base</td>\n",
       "      <td>Variable (Energía)</td>\n",
       "      <td>$/kWh</td>\n",
       "      <td>1.0117</td>\n",
       "      <td>2022</td>\n",
       "      <td>10</td>\n",
       "      <td>ZACATECAS</td>\n",
       "      <td>2442</td>\n",
       "      <td>BAJÍO</td>\n",
       "      <td>3</td>\n",
       "      <td>zacatecas</td>\n",
       "      <td>2022-10-01</td>\n",
       "    </tr>\n",
       "    <tr>\n",
       "      <th>153704</th>\n",
       "      <td>Intermedia</td>\n",
       "      <td>Variable (Energía)</td>\n",
       "      <td>$/kWh</td>\n",
       "      <td>1.7942</td>\n",
       "      <td>2022</td>\n",
       "      <td>10</td>\n",
       "      <td>ZACATECAS</td>\n",
       "      <td>2442</td>\n",
       "      <td>BAJÍO</td>\n",
       "      <td>3</td>\n",
       "      <td>zacatecas</td>\n",
       "      <td>2022-10-01</td>\n",
       "    </tr>\n",
       "    <tr>\n",
       "      <th>153705</th>\n",
       "      <td>Punta</td>\n",
       "      <td>Variable (Energía)</td>\n",
       "      <td>$/kWh</td>\n",
       "      <td>2.0437</td>\n",
       "      <td>2022</td>\n",
       "      <td>10</td>\n",
       "      <td>ZACATECAS</td>\n",
       "      <td>2442</td>\n",
       "      <td>BAJÍO</td>\n",
       "      <td>3</td>\n",
       "      <td>zacatecas</td>\n",
       "      <td>2022-10-01</td>\n",
       "    </tr>\n",
       "    <tr>\n",
       "      <th>153706</th>\n",
       "      <td>-</td>\n",
       "      <td>Distribución</td>\n",
       "      <td>$/kW</td>\n",
       "      <td>107.4500</td>\n",
       "      <td>2022</td>\n",
       "      <td>10</td>\n",
       "      <td>ZACATECAS</td>\n",
       "      <td>2442</td>\n",
       "      <td>BAJÍO</td>\n",
       "      <td>3</td>\n",
       "      <td>zacatecas</td>\n",
       "      <td>2022-10-01</td>\n",
       "    </tr>\n",
       "    <tr>\n",
       "      <th>153707</th>\n",
       "      <td>-</td>\n",
       "      <td>Capacidad</td>\n",
       "      <td>$/kW</td>\n",
       "      <td>374.5600</td>\n",
       "      <td>2022</td>\n",
       "      <td>10</td>\n",
       "      <td>ZACATECAS</td>\n",
       "      <td>2442</td>\n",
       "      <td>BAJÍO</td>\n",
       "      <td>3</td>\n",
       "      <td>zacatecas</td>\n",
       "      <td>2022-10-01</td>\n",
       "    </tr>\n",
       "  </tbody>\n",
       "</table>\n",
       "<p>153708 rows × 12 columns</p>\n",
       "</div>"
      ],
      "text/plain": [
       "       Int. Horario               Cargo Unidades     Valor  year  month  \\\n",
       "0                 -                Fijo    $/mes  277.7600  2022      1   \n",
       "1              Base  Variable (Energía)    $/kWh    0.9541  2022      1   \n",
       "2        Intermedia  Variable (Energía)    $/kWh    1.6819  2022      1   \n",
       "3             Punta  Variable (Energía)    $/kWh    1.9140  2022      1   \n",
       "4                 -        Distribución     $/kW  107.4500  2022      1   \n",
       "...             ...                 ...      ...       ...   ...    ...   \n",
       "153703         Base  Variable (Energía)    $/kWh    1.0117  2022     10   \n",
       "153704   Intermedia  Variable (Energía)    $/kWh    1.7942  2022     10   \n",
       "153705        Punta  Variable (Energía)    $/kWh    2.0437  2022     10   \n",
       "153706            -        Distribución     $/kW  107.4500  2022     10   \n",
       "153707            -           Capacidad     $/kW  374.5600  2022     10   \n",
       "\n",
       "                 state  municipality division  division_value          estado  \\\n",
       "0       AGUASCALIENTES             1    BAJÍO               3  aguascalientes   \n",
       "1       AGUASCALIENTES             1    BAJÍO               3  aguascalientes   \n",
       "2       AGUASCALIENTES             1    BAJÍO               3  aguascalientes   \n",
       "3       AGUASCALIENTES             1    BAJÍO               3  aguascalientes   \n",
       "4       AGUASCALIENTES             1    BAJÍO               3  aguascalientes   \n",
       "...                ...           ...      ...             ...             ...   \n",
       "153703       ZACATECAS          2442    BAJÍO               3       zacatecas   \n",
       "153704       ZACATECAS          2442    BAJÍO               3       zacatecas   \n",
       "153705       ZACATECAS          2442    BAJÍO               3       zacatecas   \n",
       "153706       ZACATECAS          2442    BAJÍO               3       zacatecas   \n",
       "153707       ZACATECAS          2442    BAJÍO               3       zacatecas   \n",
       "\n",
       "              date  \n",
       "0       2022-01-01  \n",
       "1       2022-01-01  \n",
       "2       2022-01-01  \n",
       "3       2022-01-01  \n",
       "4       2022-01-01  \n",
       "...            ...  \n",
       "153703  2022-10-01  \n",
       "153704  2022-10-01  \n",
       "153705  2022-10-01  \n",
       "153706  2022-10-01  \n",
       "153707  2022-10-01  \n",
       "\n",
       "[153708 rows x 12 columns]"
      ]
     },
     "execution_count": 4,
     "metadata": {},
     "output_type": "execute_result"
    }
   ],
   "source": [
    "data_2022"
   ]
  },
  {
   "cell_type": "code",
   "execution_count": 10,
   "metadata": {},
   "outputs": [
    {
     "data": {
      "text/plain": [
       "Int. Horario      0\n",
       "Cargo             0\n",
       "Unidades          0\n",
       "Valor             0\n",
       "year              0\n",
       "month             0\n",
       "state             0\n",
       "municipality      0\n",
       "division          0\n",
       "division_value    0\n",
       "estado            0\n",
       "date              0\n",
       "dtype: int64"
      ]
     },
     "execution_count": 10,
     "metadata": {},
     "output_type": "execute_result"
    }
   ],
   "source": [
    "data_2021 = read_csvs(\"./scraped_data_2021/\")\n",
    "data_2021.drop(['Descripción', 'Tarifa'], axis=1, inplace=True)\n",
    "data_2021['date'] = pd.to_datetime(data_2021.year.astype(str) + '/' + data_2021.month.astype(str))\n",
    "#data_2021.dropna(subset=['Unidades'], inplace=True)\n",
    "data_2021.isna().sum()"
   ]
  },
  {
   "cell_type": "code",
   "execution_count": 6,
   "metadata": {},
   "outputs": [
    {
     "data": {
      "text/plain": [
       "Int. Horario      0\n",
       "Cargo             0\n",
       "Unidades          0\n",
       "Valor             0\n",
       "year              0\n",
       "month             0\n",
       "state             0\n",
       "municipality      0\n",
       "division          0\n",
       "division_value    0\n",
       "estado            0\n",
       "date              0\n",
       "dtype: int64"
      ]
     },
     "execution_count": 6,
     "metadata": {},
     "output_type": "execute_result"
    }
   ],
   "source": [
    "data_2020 = read_csvs(\"./scraped_data_2020/\")\n",
    "data_2020.drop(['Descripción', 'Tarifa'], axis=1, inplace=True)\n",
    "data_2020['date'] = pd.to_datetime(data_2020.year.astype(str) + '/' + data_2020.month.astype(str))\n",
    "data_2020.isna().sum()"
   ]
  },
  {
   "cell_type": "code",
   "execution_count": 8,
   "metadata": {},
   "outputs": [
    {
     "data": {
      "text/plain": [
       "array(['BAJA CALIFORNIA', 'BAJA CALIFORNIA SUR', 'BAJÍO',\n",
       "       'BAJÍO Y GOLFO CENTRO', 'BAJÍO Y GOLFO NORTE',\n",
       "       'BAJÍO Y GOLFO NORTE Y NORTE', 'BAJÍO Y NORTE', 'CENTRO OCCIDENTE',\n",
       "       'CENTRO OCCIDENTE Y JALISCO', 'CENTRO ORIENTE', 'CENTRO SUR',\n",
       "       'GOLFO CENTRO', 'GOLFO CENTRO Y GOLFO NORTE',\n",
       "       'GOLFO CENTRO Y ORIENTE', 'GOLFO NORTE', 'GOLFO NORTE Y NORTE',\n",
       "       'JALISCO', 'NOROESTE', 'NOROESTE Y NORTE', 'NORTE', 'ORIENTE',\n",
       "       'PENINSULAR', 'SURESTE', 'VALLE DE MÉXICO CENTRO',\n",
       "       'VALLE DE MÉXICO CENTRO Y SUR', 'VALLE DE MÉXICO NORTE',\n",
       "       'VALLE DE MÉXICO NORTE Y CENTRO',\n",
       "       'VALLE DE MÉXICO NORTE, CENTRO Y SUR', 'VALLE DE MÉXICO SUR',\n",
       "       'VALLE DE MÉXICO SUR Y CENTRO ORIENTE'], dtype=object)"
      ]
     },
     "execution_count": 8,
     "metadata": {},
     "output_type": "execute_result"
    }
   ],
   "source": [
    "data_2020.sort_values(by='division').division.unique()"
   ]
  },
  {
   "cell_type": "code",
   "execution_count": 5,
   "metadata": {},
   "outputs": [
    {
     "name": "stdout",
     "output_type": "stream",
     "text": [
      "La cantidad de divisiones oficiales es: 17\n"
     ]
    }
   ],
   "source": [
    "division_oficial = ['BAJA CALIFORNIA', 'BAJA CALIFORNIA SUR', 'BAJÍO',\n",
    "    'CENTRO OCCIDENTE', 'CENTRO ORIENTE', 'CENTRO SUR', 'GOLFO CENTRO','GOLFO NORTE',\n",
    "    'JALISCO', 'NOROESTE', 'NORTE', 'ORIENTE', 'PENINSULAR', 'SURESTE', \n",
    "    'VALLE DE MÉXICO CENTRO', 'VALLE DE MÉXICO NORTE', 'VALLE DE MÉXICO SUR']\n",
    "\n",
    "print(\"La cantidad de divisiones oficiales es:\", len(division_oficial))"
   ]
  },
  {
   "cell_type": "code",
   "execution_count": 11,
   "metadata": {},
   "outputs": [
    {
     "data": {
      "text/html": [
       "<div>\n",
       "<style scoped>\n",
       "    .dataframe tbody tr th:only-of-type {\n",
       "        vertical-align: middle;\n",
       "    }\n",
       "\n",
       "    .dataframe tbody tr th {\n",
       "        vertical-align: top;\n",
       "    }\n",
       "\n",
       "    .dataframe thead th {\n",
       "        text-align: right;\n",
       "    }\n",
       "</style>\n",
       "<table border=\"1\" class=\"dataframe\">\n",
       "  <thead>\n",
       "    <tr style=\"text-align: right;\">\n",
       "      <th></th>\n",
       "      <th>Int. Horario</th>\n",
       "      <th>Cargo</th>\n",
       "      <th>Unidades</th>\n",
       "      <th>Valor</th>\n",
       "      <th>year</th>\n",
       "      <th>month</th>\n",
       "      <th>state</th>\n",
       "      <th>municipality</th>\n",
       "      <th>division</th>\n",
       "      <th>division_value</th>\n",
       "      <th>estado</th>\n",
       "      <th>date</th>\n",
       "    </tr>\n",
       "  </thead>\n",
       "  <tbody>\n",
       "    <tr>\n",
       "      <th>0</th>\n",
       "      <td>-</td>\n",
       "      <td>Fijo</td>\n",
       "      <td>$/mes</td>\n",
       "      <td>478.51</td>\n",
       "      <td>2021</td>\n",
       "      <td>1</td>\n",
       "      <td>AGUASCALIENTES</td>\n",
       "      <td>1</td>\n",
       "      <td>BAJÍO</td>\n",
       "      <td>3</td>\n",
       "      <td>aguascalientes</td>\n",
       "      <td>2021-01-01</td>\n",
       "    </tr>\n",
       "    <tr>\n",
       "      <th>1</th>\n",
       "      <td>-</td>\n",
       "      <td>Fijo</td>\n",
       "      <td>$/mes</td>\n",
       "      <td>478.51</td>\n",
       "      <td>2021</td>\n",
       "      <td>1</td>\n",
       "      <td>ASIENTOS</td>\n",
       "      <td>2</td>\n",
       "      <td>BAJÍO</td>\n",
       "      <td>3</td>\n",
       "      <td>aguascalientes</td>\n",
       "      <td>2021-01-01</td>\n",
       "    </tr>\n",
       "    <tr>\n",
       "      <th>2</th>\n",
       "      <td>-</td>\n",
       "      <td>Fijo</td>\n",
       "      <td>$/mes</td>\n",
       "      <td>478.51</td>\n",
       "      <td>2021</td>\n",
       "      <td>1</td>\n",
       "      <td>CALVILLO</td>\n",
       "      <td>3</td>\n",
       "      <td>BAJÍO</td>\n",
       "      <td>3</td>\n",
       "      <td>aguascalientes</td>\n",
       "      <td>2021-01-01</td>\n",
       "    </tr>\n",
       "    <tr>\n",
       "      <th>3</th>\n",
       "      <td>-</td>\n",
       "      <td>Fijo</td>\n",
       "      <td>$/mes</td>\n",
       "      <td>478.51</td>\n",
       "      <td>2021</td>\n",
       "      <td>1</td>\n",
       "      <td>COSIO</td>\n",
       "      <td>4</td>\n",
       "      <td>BAJÍO</td>\n",
       "      <td>3</td>\n",
       "      <td>aguascalientes</td>\n",
       "      <td>2021-01-01</td>\n",
       "    </tr>\n",
       "    <tr>\n",
       "      <th>4</th>\n",
       "      <td>-</td>\n",
       "      <td>Fijo</td>\n",
       "      <td>$/mes</td>\n",
       "      <td>478.51</td>\n",
       "      <td>2021</td>\n",
       "      <td>1</td>\n",
       "      <td>EL LLANO</td>\n",
       "      <td>5</td>\n",
       "      <td>BAJÍO</td>\n",
       "      <td>3</td>\n",
       "      <td>aguascalientes</td>\n",
       "      <td>2021-01-01</td>\n",
       "    </tr>\n",
       "    <tr>\n",
       "      <th>...</th>\n",
       "      <td>...</td>\n",
       "      <td>...</td>\n",
       "      <td>...</td>\n",
       "      <td>...</td>\n",
       "      <td>...</td>\n",
       "      <td>...</td>\n",
       "      <td>...</td>\n",
       "      <td>...</td>\n",
       "      <td>...</td>\n",
       "      <td>...</td>\n",
       "      <td>...</td>\n",
       "      <td>...</td>\n",
       "    </tr>\n",
       "    <tr>\n",
       "      <th>29824</th>\n",
       "      <td>-</td>\n",
       "      <td>Fijo</td>\n",
       "      <td>$/mes</td>\n",
       "      <td>478.51</td>\n",
       "      <td>2021</td>\n",
       "      <td>12</td>\n",
       "      <td>VILLA GARCIA</td>\n",
       "      <td>2438</td>\n",
       "      <td>BAJÍO</td>\n",
       "      <td>3</td>\n",
       "      <td>zacatecas</td>\n",
       "      <td>2021-12-01</td>\n",
       "    </tr>\n",
       "    <tr>\n",
       "      <th>29825</th>\n",
       "      <td>-</td>\n",
       "      <td>Fijo</td>\n",
       "      <td>$/mes</td>\n",
       "      <td>478.51</td>\n",
       "      <td>2021</td>\n",
       "      <td>12</td>\n",
       "      <td>VILLA GONZALEZ ORTEGA</td>\n",
       "      <td>2439</td>\n",
       "      <td>BAJÍO</td>\n",
       "      <td>3</td>\n",
       "      <td>zacatecas</td>\n",
       "      <td>2021-12-01</td>\n",
       "    </tr>\n",
       "    <tr>\n",
       "      <th>29826</th>\n",
       "      <td>-</td>\n",
       "      <td>Fijo</td>\n",
       "      <td>$/mes</td>\n",
       "      <td>478.51</td>\n",
       "      <td>2021</td>\n",
       "      <td>12</td>\n",
       "      <td>VILLA HIDALGO</td>\n",
       "      <td>2440</td>\n",
       "      <td>BAJÍO</td>\n",
       "      <td>3</td>\n",
       "      <td>zacatecas</td>\n",
       "      <td>2021-12-01</td>\n",
       "    </tr>\n",
       "    <tr>\n",
       "      <th>29827</th>\n",
       "      <td>-</td>\n",
       "      <td>Fijo</td>\n",
       "      <td>$/mes</td>\n",
       "      <td>478.51</td>\n",
       "      <td>2021</td>\n",
       "      <td>12</td>\n",
       "      <td>VILLANUEVA</td>\n",
       "      <td>2441</td>\n",
       "      <td>BAJÍO</td>\n",
       "      <td>3</td>\n",
       "      <td>zacatecas</td>\n",
       "      <td>2021-12-01</td>\n",
       "    </tr>\n",
       "    <tr>\n",
       "      <th>29828</th>\n",
       "      <td>-</td>\n",
       "      <td>Fijo</td>\n",
       "      <td>$/mes</td>\n",
       "      <td>478.51</td>\n",
       "      <td>2021</td>\n",
       "      <td>12</td>\n",
       "      <td>ZACATECAS</td>\n",
       "      <td>2442</td>\n",
       "      <td>BAJÍO</td>\n",
       "      <td>3</td>\n",
       "      <td>zacatecas</td>\n",
       "      <td>2021-12-01</td>\n",
       "    </tr>\n",
       "  </tbody>\n",
       "</table>\n",
       "<p>29829 rows × 12 columns</p>\n",
       "</div>"
      ],
      "text/plain": [
       "      Int. Horario Cargo Unidades   Valor  year  month                  state  \\\n",
       "0                -  Fijo    $/mes  478.51  2021      1         AGUASCALIENTES   \n",
       "1                -  Fijo    $/mes  478.51  2021      1               ASIENTOS   \n",
       "2                -  Fijo    $/mes  478.51  2021      1               CALVILLO   \n",
       "3                -  Fijo    $/mes  478.51  2021      1                  COSIO   \n",
       "4                -  Fijo    $/mes  478.51  2021      1               EL LLANO   \n",
       "...            ...   ...      ...     ...   ...    ...                    ...   \n",
       "29824            -  Fijo    $/mes  478.51  2021     12           VILLA GARCIA   \n",
       "29825            -  Fijo    $/mes  478.51  2021     12  VILLA GONZALEZ ORTEGA   \n",
       "29826            -  Fijo    $/mes  478.51  2021     12          VILLA HIDALGO   \n",
       "29827            -  Fijo    $/mes  478.51  2021     12             VILLANUEVA   \n",
       "29828            -  Fijo    $/mes  478.51  2021     12              ZACATECAS   \n",
       "\n",
       "       municipality division  division_value          estado       date  \n",
       "0                 1    BAJÍO               3  aguascalientes 2021-01-01  \n",
       "1                 2    BAJÍO               3  aguascalientes 2021-01-01  \n",
       "2                 3    BAJÍO               3  aguascalientes 2021-01-01  \n",
       "3                 4    BAJÍO               3  aguascalientes 2021-01-01  \n",
       "4                 5    BAJÍO               3  aguascalientes 2021-01-01  \n",
       "...             ...      ...             ...             ...        ...  \n",
       "29824          2438    BAJÍO               3       zacatecas 2021-12-01  \n",
       "29825          2439    BAJÍO               3       zacatecas 2021-12-01  \n",
       "29826          2440    BAJÍO               3       zacatecas 2021-12-01  \n",
       "29827          2441    BAJÍO               3       zacatecas 2021-12-01  \n",
       "29828          2442    BAJÍO               3       zacatecas 2021-12-01  \n",
       "\n",
       "[29829 rows x 12 columns]"
      ]
     },
     "execution_count": 11,
     "metadata": {},
     "output_type": "execute_result"
    }
   ],
   "source": [
    "cargo_fijo = data_2021[(data_2021.division.isin(division_oficial))&(data_2021.Cargo=='Fijo')]\n",
    "cargo_fijo.reset_index(drop=True, inplace=True)\n",
    "cargo_fijo"
   ]
  },
  {
   "cell_type": "code",
   "execution_count": 12,
   "metadata": {},
   "outputs": [],
   "source": [
    "def get_max_min(data, division):\n",
    "    for div in division:\n",
    "        max = data[data.division==div].Valor.max()\n",
    "        min = data[data.division==div].Valor.min()\n",
    "        print(max- min)\n",
    "        print(div)\n",
    "        print(60*\"-\")"
   ]
  },
  {
   "cell_type": "code",
   "execution_count": 13,
   "metadata": {},
   "outputs": [
    {
     "name": "stdout",
     "output_type": "stream",
     "text": [
      "0.0\n",
      "BAJA CALIFORNIA\n",
      "------------------------------------------------------------\n",
      "0.0\n",
      "BAJA CALIFORNIA SUR\n",
      "------------------------------------------------------------\n",
      "0.0\n",
      "BAJÍO\n",
      "------------------------------------------------------------\n",
      "131.99\n",
      "CENTRO OCCIDENTE\n",
      "------------------------------------------------------------\n",
      "200.65999999999997\n",
      "CENTRO ORIENTE\n",
      "------------------------------------------------------------\n",
      "214.37\n",
      "CENTRO SUR\n",
      "------------------------------------------------------------\n",
      "42.75999999999999\n",
      "GOLFO CENTRO\n",
      "------------------------------------------------------------\n",
      "0.0\n",
      "GOLFO NORTE\n",
      "------------------------------------------------------------\n",
      "11.1099999999999\n",
      "JALISCO\n",
      "------------------------------------------------------------\n",
      "0.0\n",
      "NOROESTE\n",
      "------------------------------------------------------------\n",
      "0.0\n",
      "NORTE\n",
      "------------------------------------------------------------\n",
      "171.42999999999995\n",
      "ORIENTE\n",
      "------------------------------------------------------------\n",
      "0.0\n",
      "PENINSULAR\n",
      "------------------------------------------------------------\n",
      "516.2\n",
      "SURESTE\n",
      "------------------------------------------------------------\n",
      "102.29999999999995\n",
      "VALLE DE MÉXICO CENTRO\n",
      "------------------------------------------------------------\n",
      "0.0\n",
      "VALLE DE MÉXICO NORTE\n",
      "------------------------------------------------------------\n",
      "193.2199999999999\n",
      "VALLE DE MÉXICO SUR\n",
      "------------------------------------------------------------\n"
     ]
    }
   ],
   "source": [
    "get_max_min(cargo_fijo, division_oficial)"
   ]
  },
  {
   "cell_type": "code",
   "execution_count": 8,
   "metadata": {},
   "outputs": [
    {
     "name": "stdout",
     "output_type": "stream",
     "text": [
      "0.0\n",
      "BAJA CALIFORNIA\n",
      "------------------------------------------------------------\n",
      "0.0\n",
      "BAJA CALIFORNIA SUR\n",
      "------------------------------------------------------------\n",
      "390.35\n",
      "BAJÍO\n",
      "------------------------------------------------------------\n",
      "426.26\n",
      "CENTRO OCCIDENTE\n",
      "------------------------------------------------------------\n",
      "213.39\n",
      "CENTRO ORIENTE\n",
      "------------------------------------------------------------\n",
      "375.16\n",
      "CENTRO SUR\n",
      "------------------------------------------------------------\n",
      "0.0\n",
      "GOLFO CENTRO\n",
      "------------------------------------------------------------\n",
      "0.0\n",
      "GOLFO NORTE\n",
      "------------------------------------------------------------\n",
      "0.0\n",
      "JALISCO\n",
      "------------------------------------------------------------\n",
      "nan\n",
      "NOROESTE\n",
      "------------------------------------------------------------\n",
      "0.0\n",
      "NORTE\n",
      "------------------------------------------------------------\n",
      "0.0\n",
      "ORIENTE\n",
      "------------------------------------------------------------\n",
      "0.0\n",
      "PENINSULAR\n",
      "------------------------------------------------------------\n",
      "386.41\n",
      "SURESTE\n",
      "------------------------------------------------------------\n",
      "0.0\n",
      "VALLE DE MÉXICO CENTRO\n",
      "------------------------------------------------------------\n",
      "168.22000000000003\n",
      "VALLE DE MÉXICO NORTE\n",
      "------------------------------------------------------------\n",
      "0.0\n",
      "VALLE DE MÉXICO SUR\n",
      "------------------------------------------------------------\n"
     ]
    }
   ],
   "source": [
    "get_max_min(cargo_fijo, division_oficial)"
   ]
  },
  {
   "cell_type": "code",
   "execution_count": 55,
   "metadata": {},
   "outputs": [],
   "source": [
    "def get_cargo_variacion(data, anio, division_oficial, tipo_cargo, etiqueta = 'Cargo fijo ($/mes)'):\n",
    "    cargo = data[(data.division.isin(division_oficial))&(data.Cargo==tipo_cargo)]\n",
    "    cargo.reset_index(drop=True, inplace=True)\n",
    "    fig = px.line(cargo, x='date', y='Valor', color='division', line_group = 'estado',\n",
    "        title='Variación de la tarifa de cargo {} por division durante el año {}'.format(tipo_cargo,anio),\n",
    "        labels={'date':'Fecha por mes', 'Valor':etiqueta}, width=1200, height=650, markers=True)\n",
    "    #fig.update_xaxes(rangeslider_visible=True)\n",
    "    return fig"
   ]
  },
  {
   "cell_type": "code",
   "execution_count": 15,
   "metadata": {},
   "outputs": [],
   "source": [
    "cargo_fijo_2020 = get_cargo_variacion(data_2020, 2020, division_oficial, 'Fijo', 'Cargo fijo ($/mes)')\n",
    "cargo_fijo_2020.write_html(\"./assets/images/html/cargo_fijo_2020.html\")\n",
    "cargo_fijo_2020.write_image(\"./assets/images/png/cargo_fijo_2020.png\")\n",
    "\n",
    "cargo_fijo_2021 = get_cargo_variacion(data_2021, 2021, division_oficial, 'Fijo', 'Cargo fijo ($/mes)')\n",
    "cargo_fijo_2021.write_html(\"./assets/images/html/cargo_fijo_2021.html\")\n",
    "cargo_fijo_2021.write_image(\"./assets/images/png/cargo_fijo_2021.png\")\n",
    "\n",
    "cargo_fijo_2022 = get_cargo_variacion(data_2022, 2022, division_oficial, 'Fijo', 'Cargo fijo ($/mes)')\n",
    "cargo_fijo_2022.write_html(\"./assets/images/html/cargo_fijo_2022.html\")\n",
    "cargo_fijo_2022.write_image(\"./assets/images/png/cargo_fijo_2022.png\")"
   ]
  },
  {
   "cell_type": "code",
   "execution_count": 16,
   "metadata": {},
   "outputs": [],
   "source": [
    "cargo_dist_2020 = get_cargo_variacion(data_2020,2020,division_oficial,'Distribución','Distribución ($/kW)')\n",
    "cargo_dist_2020.write_html(\"./assets/images/html/distribucion_2020.html\")\n",
    "cargo_dist_2020.write_image(\"./assets/images/png/distribucion_2020.png\")\n",
    "\n",
    "cargo_dist_2021 = get_cargo_variacion(data_2021,2021,division_oficial,'Distribución','Distribución ($/kW)')\n",
    "cargo_dist_2021.write_html(\"./assets/images/html/distribucion_2021.html\")\n",
    "cargo_dist_2021.write_image(\"./assets/images/png/distribucion_2021.png\")\n",
    "\n",
    "cargo_dist_2022 = get_cargo_variacion(data_2022,2022,division_oficial,'Distribución','Distribución ($/kW)')\n",
    "cargo_dist_2022.write_html(\"./assets/images/html/distribucion_2022.html\")\n",
    "cargo_dist_2022.write_image(\"./assets/images/png/distribucion_2022.png\")"
   ]
  },
  {
   "cell_type": "code",
   "execution_count": 59,
   "metadata": {},
   "outputs": [],
   "source": [
    "cargo_cap_2020 = get_cargo_variacion(data_2020,2020,division_oficial,'Capacidad','Capacidad ($/kW)')\n",
    "cargo_cap_2020.write_html(\"./assets/images/html/capacidad_2020.html\")\n",
    "cargo_cap_2020.write_image(\"./assets/images/png/capacidad_2020.png\")\n",
    "\n",
    "cargo_cap_2021 = get_cargo_variacion(data_2021,2021,division_oficial,'Capacidad','Capacidad ($/kW)')\n",
    "cargo_cap_2021.write_html(\"./assets/images/html/capacidad_2021.html\")\n",
    "cargo_cap_2021.write_image(\"./assets/images/png/capacidad_2021.png\")\n",
    "\n",
    "cargo_cap_2022 = get_cargo_variacion(data_2022,2022,division_oficial,'Capacidad','Capacidad ($/kW)')\n",
    "cargo_cap_2022.write_html(\"./assets/images/html/capacidad_2022.html\")\n",
    "cargo_cap_2022.write_image(\"./assets/images/png/capacidad_2022.png\")"
   ]
  },
  {
   "cell_type": "code",
   "execution_count": 85,
   "metadata": {},
   "outputs": [],
   "source": [
    "def get_violin_plot(data, anio, division_oficial):\n",
    "    cargo = data[(data.division.isin(division_oficial))&(data.Cargo=='Capacidad')]\n",
    "    cargo.reset_index(drop=True, inplace=True)\n",
    "    fig = px.violin(cargo, y=\"Valor\", color=\"division\", box=True, points='suspectedoutliers',\n",
    "        title='Distribución de la tarifa de cargo capacidad por division durante el año {}'.format(anio),\n",
    "        labels={'Valor':'Capacidad ($/kW)'}, width=1200, height=650)\n",
    "    return fig"
   ]
  },
  {
   "cell_type": "code",
   "execution_count": 90,
   "metadata": {},
   "outputs": [],
   "source": [
    "violin_cap_2020 = get_violin_plot(data_2020,2020,division_oficial)\n",
    "violin_cap_2020.write_html(\"./assets/images/html/violin_capacidad_2020.html\")\n",
    "violin_cap_2020.write_image(\"./assets/images/png/violin_capacidad_2020.png\")\n",
    "\n",
    "violin_cap_2021 = get_violin_plot(data_2021,2021,division_oficial)\n",
    "violin_cap_2021.write_html(\"./assets/images/html/violin_capacidad_2021.html\")\n",
    "violin_cap_2021.write_image(\"./assets/images/png/violin_capacidad_2021.png\")\n",
    "\n",
    "violin_cap_2022 = get_violin_plot(data_2022,2022,division_oficial)\n",
    "violin_cap_2022.write_html(\"./assets/images/html/violin_capacidadd_2022.html\")\n",
    "violin_cap_2022.write_image(\"./assets/images/png/violin_capacidad_2022.png\")"
   ]
  },
  {
   "cell_type": "code",
   "execution_count": 83,
   "metadata": {},
   "outputs": [
    {
     "data": {
      "text/plain": [
       "<AxesSubplot:xlabel='Valor', ylabel='Count'>"
      ]
     },
     "execution_count": 83,
     "metadata": {},
     "output_type": "execute_result"
    },
    {
     "data": {
      "image/png": "[encoded data removed]",
      "text/plain": [
       "<Figure size 640x480 with 1 Axes>"
      ]
     },
     "metadata": {},
     "output_type": "display_data"
    }
   ],
   "source": [
    "sns.histplot(cargo[cargo.division=='VALLE DE MÉXICO NORTE'].Valor, kde=True)"
   ]
  },
  {
   "cell_type": "code",
   "execution_count": 156,
   "metadata": {},
   "outputs": [],
   "source": [
    "t = (data_2022[(data_2022['Int. Horario'] == 'Base')&(data_2022['division'].isin(division_oficial))])[['Valor','month', 'division', 'date']].groupby(['division','date']).agg([np.mean, np.std])\n",
    "t.reset_index(inplace=True)"
   ]
  },
  {
   "cell_type": "code",
   "execution_count": 158,
   "metadata": {},
   "outputs": [
    {
     "data": {
      "text/html": [
       "<div>\n",
       "<style scoped>\n",
       "    .dataframe tbody tr th:only-of-type {\n",
       "        vertical-align: middle;\n",
       "    }\n",
       "\n",
       "    .dataframe tbody tr th {\n",
       "        vertical-align: top;\n",
       "    }\n",
       "\n",
       "    .dataframe thead tr th {\n",
       "        text-align: left;\n",
       "    }\n",
       "</style>\n",
       "<table border=\"1\" class=\"dataframe\">\n",
       "  <thead>\n",
       "    <tr>\n",
       "      <th></th>\n",
       "      <th>division</th>\n",
       "      <th>date</th>\n",
       "      <th colspan=\"2\" halign=\"left\">Valor</th>\n",
       "      <th colspan=\"2\" halign=\"left\">month</th>\n",
       "    </tr>\n",
       "    <tr>\n",
       "      <th></th>\n",
       "      <th></th>\n",
       "      <th></th>\n",
       "      <th>mean</th>\n",
       "      <th>std</th>\n",
       "      <th>mean</th>\n",
       "      <th>std</th>\n",
       "    </tr>\n",
       "  </thead>\n",
       "  <tbody>\n",
       "    <tr>\n",
       "      <th>0</th>\n",
       "      <td>BAJA CALIFORNIA</td>\n",
       "      <td>2022-01-01</td>\n",
       "      <td>0.5603</td>\n",
       "      <td>0.0</td>\n",
       "      <td>1.0</td>\n",
       "      <td>0.0</td>\n",
       "    </tr>\n",
       "    <tr>\n",
       "      <th>1</th>\n",
       "      <td>BAJA CALIFORNIA</td>\n",
       "      <td>2022-02-01</td>\n",
       "      <td>0.5635</td>\n",
       "      <td>0.0</td>\n",
       "      <td>2.0</td>\n",
       "      <td>0.0</td>\n",
       "    </tr>\n",
       "    <tr>\n",
       "      <th>2</th>\n",
       "      <td>BAJA CALIFORNIA</td>\n",
       "      <td>2022-03-01</td>\n",
       "      <td>0.5635</td>\n",
       "      <td>0.0</td>\n",
       "      <td>3.0</td>\n",
       "      <td>0.0</td>\n",
       "    </tr>\n",
       "    <tr>\n",
       "      <th>3</th>\n",
       "      <td>BAJA CALIFORNIA</td>\n",
       "      <td>2022-04-01</td>\n",
       "      <td>0.5747</td>\n",
       "      <td>0.0</td>\n",
       "      <td>4.0</td>\n",
       "      <td>0.0</td>\n",
       "    </tr>\n",
       "    <tr>\n",
       "      <th>4</th>\n",
       "      <td>BAJA CALIFORNIA</td>\n",
       "      <td>2022-05-01</td>\n",
       "      <td>0.5834</td>\n",
       "      <td>0.0</td>\n",
       "      <td>5.0</td>\n",
       "      <td>0.0</td>\n",
       "    </tr>\n",
       "    <tr>\n",
       "      <th>...</th>\n",
       "      <td>...</td>\n",
       "      <td>...</td>\n",
       "      <td>...</td>\n",
       "      <td>...</td>\n",
       "      <td>...</td>\n",
       "      <td>...</td>\n",
       "    </tr>\n",
       "    <tr>\n",
       "      <th>165</th>\n",
       "      <td>VALLE DE MÉXICO SUR</td>\n",
       "      <td>2022-06-01</td>\n",
       "      <td>1.0324</td>\n",
       "      <td>0.0</td>\n",
       "      <td>6.0</td>\n",
       "      <td>0.0</td>\n",
       "    </tr>\n",
       "    <tr>\n",
       "      <th>166</th>\n",
       "      <td>VALLE DE MÉXICO SUR</td>\n",
       "      <td>2022-07-01</td>\n",
       "      <td>1.0568</td>\n",
       "      <td>0.0</td>\n",
       "      <td>7.0</td>\n",
       "      <td>0.0</td>\n",
       "    </tr>\n",
       "    <tr>\n",
       "      <th>167</th>\n",
       "      <td>VALLE DE MÉXICO SUR</td>\n",
       "      <td>2022-08-01</td>\n",
       "      <td>1.0616</td>\n",
       "      <td>0.0</td>\n",
       "      <td>8.0</td>\n",
       "      <td>0.0</td>\n",
       "    </tr>\n",
       "    <tr>\n",
       "      <th>168</th>\n",
       "      <td>VALLE DE MÉXICO SUR</td>\n",
       "      <td>2022-09-01</td>\n",
       "      <td>1.0666</td>\n",
       "      <td>0.0</td>\n",
       "      <td>9.0</td>\n",
       "      <td>0.0</td>\n",
       "    </tr>\n",
       "    <tr>\n",
       "      <th>169</th>\n",
       "      <td>VALLE DE MÉXICO SUR</td>\n",
       "      <td>2022-10-01</td>\n",
       "      <td>1.0701</td>\n",
       "      <td>0.0</td>\n",
       "      <td>10.0</td>\n",
       "      <td>0.0</td>\n",
       "    </tr>\n",
       "  </tbody>\n",
       "</table>\n",
       "<p>170 rows × 6 columns</p>\n",
       "</div>"
      ],
      "text/plain": [
       "                division        date   Valor      month     \n",
       "                                        mean  std  mean  std\n",
       "0        BAJA CALIFORNIA  2022-01-01  0.5603  0.0   1.0  0.0\n",
       "1        BAJA CALIFORNIA  2022-02-01  0.5635  0.0   2.0  0.0\n",
       "2        BAJA CALIFORNIA  2022-03-01  0.5635  0.0   3.0  0.0\n",
       "3        BAJA CALIFORNIA  2022-04-01  0.5747  0.0   4.0  0.0\n",
       "4        BAJA CALIFORNIA  2022-05-01  0.5834  0.0   5.0  0.0\n",
       "..                   ...         ...     ...  ...   ...  ...\n",
       "165  VALLE DE MÉXICO SUR  2022-06-01  1.0324  0.0   6.0  0.0\n",
       "166  VALLE DE MÉXICO SUR  2022-07-01  1.0568  0.0   7.0  0.0\n",
       "167  VALLE DE MÉXICO SUR  2022-08-01  1.0616  0.0   8.0  0.0\n",
       "168  VALLE DE MÉXICO SUR  2022-09-01  1.0666  0.0   9.0  0.0\n",
       "169  VALLE DE MÉXICO SUR  2022-10-01  1.0701  0.0  10.0  0.0\n",
       "\n",
       "[170 rows x 6 columns]"
      ]
     },
     "execution_count": 158,
     "metadata": {},
     "output_type": "execute_result"
    }
   ],
   "source": [
    "t"
   ]
  },
  {
   "cell_type": "code",
   "execution_count": 159,
   "metadata": {},
   "outputs": [
    {
     "data": {
      "text/plain": [
       "0"
      ]
     },
     "execution_count": 159,
     "metadata": {},
     "output_type": "execute_result"
    }
   ],
   "source": [
    "t.Valor['std'].isna().sum()"
   ]
  },
  {
   "cell_type": "code",
   "execution_count": 162,
   "metadata": {},
   "outputs": [],
   "source": [
    "croped_data = data_2022[(data_2022['Int. Horario'] == 'Base')&(data_2022['division'].isin(division_oficial))]\n",
    "croped_data.reset_index(drop=True, inplace=True)\n",
    "croped_data = croped_data[['Valor','month', 'division', 'date']].groupby(['division','date']).agg([np.mean, np.std])\n",
    "croped_data.reset_index(inplace=True)"
   ]
  },
  {
   "cell_type": "code",
   "execution_count": 164,
   "metadata": {},
   "outputs": [
    {
     "data": {
      "text/plain": [
       "0.0003267686915507382"
      ]
     },
     "execution_count": 164,
     "metadata": {},
     "output_type": "execute_result"
    }
   ],
   "source": [
    "croped_data.Valor['std'].sum()"
   ]
  },
  {
   "cell_type": "code",
   "execution_count": 166,
   "metadata": {},
   "outputs": [
    {
     "data": {
      "text/html": [
       "<div>\n",
       "<style scoped>\n",
       "    .dataframe tbody tr th:only-of-type {\n",
       "        vertical-align: middle;\n",
       "    }\n",
       "\n",
       "    .dataframe tbody tr th {\n",
       "        vertical-align: top;\n",
       "    }\n",
       "\n",
       "    .dataframe thead tr th {\n",
       "        text-align: left;\n",
       "    }\n",
       "</style>\n",
       "<table border=\"1\" class=\"dataframe\">\n",
       "  <thead>\n",
       "    <tr>\n",
       "      <th></th>\n",
       "      <th>division</th>\n",
       "      <th>date</th>\n",
       "      <th colspan=\"2\" halign=\"left\">Valor</th>\n",
       "      <th colspan=\"2\" halign=\"left\">month</th>\n",
       "    </tr>\n",
       "    <tr>\n",
       "      <th></th>\n",
       "      <th></th>\n",
       "      <th></th>\n",
       "      <th>mean</th>\n",
       "      <th>std</th>\n",
       "      <th>mean</th>\n",
       "      <th>std</th>\n",
       "    </tr>\n",
       "  </thead>\n",
       "  <tbody>\n",
       "    <tr>\n",
       "      <th>78</th>\n",
       "      <td>GOLFO NORTE</td>\n",
       "      <td>2022-09-01</td>\n",
       "      <td>0.976434</td>\n",
       "      <td>0.000327</td>\n",
       "      <td>9.0</td>\n",
       "      <td>0.0</td>\n",
       "    </tr>\n",
       "  </tbody>\n",
       "</table>\n",
       "</div>"
      ],
      "text/plain": [
       "       division        date     Valor           month     \n",
       "                                 mean       std  mean  std\n",
       "78  GOLFO NORTE  2022-09-01  0.976434  0.000327   9.0  0.0"
      ]
     },
     "execution_count": 166,
     "metadata": {},
     "output_type": "execute_result"
    }
   ],
   "source": [
    "croped_data[croped_data.Valor['std']!=0]"
   ]
  },
  {
   "cell_type": "code",
   "execution_count": 168,
   "metadata": {},
   "outputs": [
    {
     "name": "stderr",
     "output_type": "stream",
     "text": [
      "C:\\Users\\roker\\AppData\\Local\\Temp\\ipykernel_6368\\62364131.py:1: FutureWarning:\n",
      "\n",
      "['Int. Horario', 'Cargo', 'Unidades', 'state', 'division', 'estado'] did not aggregate successfully. If any error is raised this will raise in a future version of pandas. Drop these columns/ops to avoid this warning.\n",
      "\n"
     ]
    },
    {
     "data": {
      "text/html": [
       "<div>\n",
       "<style scoped>\n",
       "    .dataframe tbody tr th:only-of-type {\n",
       "        vertical-align: middle;\n",
       "    }\n",
       "\n",
       "    .dataframe tbody tr th {\n",
       "        vertical-align: top;\n",
       "    }\n",
       "\n",
       "    .dataframe thead tr th {\n",
       "        text-align: left;\n",
       "    }\n",
       "\n",
       "    .dataframe thead tr:last-of-type th {\n",
       "        text-align: right;\n",
       "    }\n",
       "</style>\n",
       "<table border=\"1\" class=\"dataframe\">\n",
       "  <thead>\n",
       "    <tr>\n",
       "      <th></th>\n",
       "      <th colspan=\"2\" halign=\"left\">Valor</th>\n",
       "      <th colspan=\"2\" halign=\"left\">year</th>\n",
       "      <th colspan=\"2\" halign=\"left\">month</th>\n",
       "      <th colspan=\"2\" halign=\"left\">municipality</th>\n",
       "      <th colspan=\"2\" halign=\"left\">division_value</th>\n",
       "    </tr>\n",
       "    <tr>\n",
       "      <th></th>\n",
       "      <th>mean</th>\n",
       "      <th>std</th>\n",
       "      <th>mean</th>\n",
       "      <th>std</th>\n",
       "      <th>mean</th>\n",
       "      <th>std</th>\n",
       "      <th>mean</th>\n",
       "      <th>std</th>\n",
       "      <th>mean</th>\n",
       "      <th>std</th>\n",
       "    </tr>\n",
       "    <tr>\n",
       "      <th>date</th>\n",
       "      <th></th>\n",
       "      <th></th>\n",
       "      <th></th>\n",
       "      <th></th>\n",
       "      <th></th>\n",
       "      <th></th>\n",
       "      <th></th>\n",
       "      <th></th>\n",
       "      <th></th>\n",
       "      <th></th>\n",
       "    </tr>\n",
       "  </thead>\n",
       "  <tbody>\n",
       "    <tr>\n",
       "      <th>2022-01-01</th>\n",
       "      <td>0.924300</td>\n",
       "      <td>0.000000</td>\n",
       "      <td>2022.0</td>\n",
       "      <td>0.0</td>\n",
       "      <td>1.0</td>\n",
       "      <td>0.0</td>\n",
       "      <td>849.932584</td>\n",
       "      <td>542.343144</td>\n",
       "      <td>15.0</td>\n",
       "      <td>0.0</td>\n",
       "    </tr>\n",
       "    <tr>\n",
       "      <th>2022-02-01</th>\n",
       "      <td>0.930600</td>\n",
       "      <td>0.000000</td>\n",
       "      <td>2022.0</td>\n",
       "      <td>0.0</td>\n",
       "      <td>2.0</td>\n",
       "      <td>0.0</td>\n",
       "      <td>851.077778</td>\n",
       "      <td>539.397088</td>\n",
       "      <td>15.0</td>\n",
       "      <td>0.0</td>\n",
       "    </tr>\n",
       "    <tr>\n",
       "      <th>2022-03-01</th>\n",
       "      <td>0.930600</td>\n",
       "      <td>0.000000</td>\n",
       "      <td>2022.0</td>\n",
       "      <td>0.0</td>\n",
       "      <td>3.0</td>\n",
       "      <td>0.0</td>\n",
       "      <td>851.077778</td>\n",
       "      <td>539.397088</td>\n",
       "      <td>15.0</td>\n",
       "      <td>0.0</td>\n",
       "    </tr>\n",
       "    <tr>\n",
       "      <th>2022-04-01</th>\n",
       "      <td>0.952900</td>\n",
       "      <td>0.000000</td>\n",
       "      <td>2022.0</td>\n",
       "      <td>0.0</td>\n",
       "      <td>4.0</td>\n",
       "      <td>0.0</td>\n",
       "      <td>851.077778</td>\n",
       "      <td>539.397088</td>\n",
       "      <td>15.0</td>\n",
       "      <td>0.0</td>\n",
       "    </tr>\n",
       "    <tr>\n",
       "      <th>2022-05-01</th>\n",
       "      <td>0.970100</td>\n",
       "      <td>0.000000</td>\n",
       "      <td>2022.0</td>\n",
       "      <td>0.0</td>\n",
       "      <td>5.0</td>\n",
       "      <td>0.0</td>\n",
       "      <td>851.077778</td>\n",
       "      <td>539.397088</td>\n",
       "      <td>15.0</td>\n",
       "      <td>0.0</td>\n",
       "    </tr>\n",
       "    <tr>\n",
       "      <th>2022-06-01</th>\n",
       "      <td>0.945700</td>\n",
       "      <td>0.000000</td>\n",
       "      <td>2022.0</td>\n",
       "      <td>0.0</td>\n",
       "      <td>6.0</td>\n",
       "      <td>0.0</td>\n",
       "      <td>851.077778</td>\n",
       "      <td>539.397088</td>\n",
       "      <td>15.0</td>\n",
       "      <td>0.0</td>\n",
       "    </tr>\n",
       "    <tr>\n",
       "      <th>2022-07-01</th>\n",
       "      <td>0.967600</td>\n",
       "      <td>0.000000</td>\n",
       "      <td>2022.0</td>\n",
       "      <td>0.0</td>\n",
       "      <td>7.0</td>\n",
       "      <td>0.0</td>\n",
       "      <td>851.077778</td>\n",
       "      <td>539.397088</td>\n",
       "      <td>15.0</td>\n",
       "      <td>0.0</td>\n",
       "    </tr>\n",
       "    <tr>\n",
       "      <th>2022-08-01</th>\n",
       "      <td>0.972000</td>\n",
       "      <td>0.000000</td>\n",
       "      <td>2022.0</td>\n",
       "      <td>0.0</td>\n",
       "      <td>8.0</td>\n",
       "      <td>0.0</td>\n",
       "      <td>850.112360</td>\n",
       "      <td>542.374984</td>\n",
       "      <td>15.0</td>\n",
       "      <td>0.0</td>\n",
       "    </tr>\n",
       "    <tr>\n",
       "      <th>2022-09-01</th>\n",
       "      <td>0.976434</td>\n",
       "      <td>0.000327</td>\n",
       "      <td>2022.0</td>\n",
       "      <td>0.0</td>\n",
       "      <td>9.0</td>\n",
       "      <td>0.0</td>\n",
       "      <td>851.077778</td>\n",
       "      <td>539.397088</td>\n",
       "      <td>15.0</td>\n",
       "      <td>0.0</td>\n",
       "    </tr>\n",
       "    <tr>\n",
       "      <th>2022-10-01</th>\n",
       "      <td>0.979500</td>\n",
       "      <td>0.000000</td>\n",
       "      <td>2022.0</td>\n",
       "      <td>0.0</td>\n",
       "      <td>10.0</td>\n",
       "      <td>0.0</td>\n",
       "      <td>851.077778</td>\n",
       "      <td>539.397088</td>\n",
       "      <td>15.0</td>\n",
       "      <td>0.0</td>\n",
       "    </tr>\n",
       "  </tbody>\n",
       "</table>\n",
       "</div>"
      ],
      "text/plain": [
       "               Valor              year      month      municipality  \\\n",
       "                mean       std    mean  std  mean  std         mean   \n",
       "date                                                                  \n",
       "2022-01-01  0.924300  0.000000  2022.0  0.0   1.0  0.0   849.932584   \n",
       "2022-02-01  0.930600  0.000000  2022.0  0.0   2.0  0.0   851.077778   \n",
       "2022-03-01  0.930600  0.000000  2022.0  0.0   3.0  0.0   851.077778   \n",
       "2022-04-01  0.952900  0.000000  2022.0  0.0   4.0  0.0   851.077778   \n",
       "2022-05-01  0.970100  0.000000  2022.0  0.0   5.0  0.0   851.077778   \n",
       "2022-06-01  0.945700  0.000000  2022.0  0.0   6.0  0.0   851.077778   \n",
       "2022-07-01  0.967600  0.000000  2022.0  0.0   7.0  0.0   851.077778   \n",
       "2022-08-01  0.972000  0.000000  2022.0  0.0   8.0  0.0   850.112360   \n",
       "2022-09-01  0.976434  0.000327  2022.0  0.0   9.0  0.0   851.077778   \n",
       "2022-10-01  0.979500  0.000000  2022.0  0.0  10.0  0.0   851.077778   \n",
       "\n",
       "                       division_value       \n",
       "                   std           mean  std  \n",
       "date                                        \n",
       "2022-01-01  542.343144           15.0  0.0  \n",
       "2022-02-01  539.397088           15.0  0.0  \n",
       "2022-03-01  539.397088           15.0  0.0  \n",
       "2022-04-01  539.397088           15.0  0.0  \n",
       "2022-05-01  539.397088           15.0  0.0  \n",
       "2022-06-01  539.397088           15.0  0.0  \n",
       "2022-07-01  539.397088           15.0  0.0  \n",
       "2022-08-01  542.374984           15.0  0.0  \n",
       "2022-09-01  539.397088           15.0  0.0  \n",
       "2022-10-01  539.397088           15.0  0.0  "
      ]
     },
     "execution_count": 168,
     "metadata": {},
     "output_type": "execute_result"
    }
   ],
   "source": [
    "data_2022[(data_2022['Int. Horario'] == 'Base')&(data_2022['division']=='GOLFO NORTE')].groupby(['date']).agg([np.mean, np.std])"
   ]
  },
  {
   "cell_type": "code",
   "execution_count": 171,
   "metadata": {},
   "outputs": [
    {
     "data": {
      "text/html": [
       "<div>\n",
       "<style scoped>\n",
       "    .dataframe tbody tr th:only-of-type {\n",
       "        vertical-align: middle;\n",
       "    }\n",
       "\n",
       "    .dataframe tbody tr th {\n",
       "        vertical-align: top;\n",
       "    }\n",
       "\n",
       "    .dataframe thead th {\n",
       "        text-align: right;\n",
       "    }\n",
       "</style>\n",
       "<table border=\"1\" class=\"dataframe\">\n",
       "  <thead>\n",
       "    <tr style=\"text-align: right;\">\n",
       "      <th></th>\n",
       "      <th>Int. Horario</th>\n",
       "      <th>Cargo</th>\n",
       "      <th>Unidades</th>\n",
       "      <th>Valor</th>\n",
       "      <th>year</th>\n",
       "      <th>month</th>\n",
       "      <th>state</th>\n",
       "      <th>municipality</th>\n",
       "      <th>division</th>\n",
       "      <th>division_value</th>\n",
       "      <th>estado</th>\n",
       "      <th>date</th>\n",
       "    </tr>\n",
       "  </thead>\n",
       "  <tbody>\n",
       "    <tr>\n",
       "      <th>61813</th>\n",
       "      <td>Base</td>\n",
       "      <td>Variable (Energía)</td>\n",
       "      <td>$/kWh</td>\n",
       "      <td>0.9795</td>\n",
       "      <td>2022</td>\n",
       "      <td>9</td>\n",
       "      <td>GRAL. ZARAGOZA</td>\n",
       "      <td>954</td>\n",
       "      <td>GOLFO NORTE</td>\n",
       "      <td>15</td>\n",
       "      <td>nuevo_leon</td>\n",
       "      <td>2022-09-01</td>\n",
       "    </tr>\n",
       "  </tbody>\n",
       "</table>\n",
       "</div>"
      ],
      "text/plain": [
       "      Int. Horario               Cargo Unidades   Valor  year  month  \\\n",
       "61813         Base  Variable (Energía)    $/kWh  0.9795  2022      9   \n",
       "\n",
       "                state  municipality     division  division_value      estado  \\\n",
       "61813  GRAL. ZARAGOZA           954  GOLFO NORTE              15  nuevo_leon   \n",
       "\n",
       "             date  \n",
       "61813  2022-09-01  "
      ]
     },
     "execution_count": 171,
     "metadata": {},
     "output_type": "execute_result"
    }
   ],
   "source": [
    "data_2022[(data_2022['month']==9)&(data_2022['division']=='GOLFO NORTE')&(data_2022['Int. Horario'] == 'Base')&(data_2022.Valor!=0.9764)]"
   ]
  },
  {
   "cell_type": "code",
   "execution_count": 12,
   "metadata": {},
   "outputs": [],
   "source": [
    "def get_variacion_tarifas(data, anio, division_oficial, tarifa_horario):\n",
    "    croped_data = data[(data['Int. Horario'] == tarifa_horario)&(data['division'].isin(division_oficial))]\n",
    "    croped_data.reset_index(drop=True, inplace=True)\n",
    "    croped_data = croped_data[['Valor','month', 'division', 'date']].groupby(['division','date']).agg([np.mean, np.std])\n",
    "    croped_data.reset_index(inplace=True)\n",
    "\n",
    "    if croped_data.Valor['std'].sum() == 0.0:\n",
    "        croped_data = croped_data.pivot(index='date', columns='division', values=('Valor', 'mean'))\n",
    "        fig = px.area(croped_data, facet_col=\"division\", facet_col_wrap=6, markers=True, range_y=[0.5, 1.99],\n",
    "              title='Variación de la tarifa de interés horario base por division durante el año {}'.format(anio), width=1800, height=650)\n",
    "        return fig\n",
    "    else:\n",
    "        print('Hay algo extraño con los datos, existen variaciones en la tarifa de interés por mes y region, revisar')\n",
    "        return None\n"
   ]
  },
  {
   "cell_type": "code",
   "execution_count": 15,
   "metadata": {},
   "outputs": [
    {
     "data": {
      "application/vnd.plotly.v1+json": {
       "config": {
        "plotlyServerURL": "https://plot.ly"
       },
       "data": [
        {
         "fillpattern": {
          "shape": ""
         },
         "hovertemplate": "division=BAJA CALIFORNIA<br>date=%{x}<br>value=%{y}<extra></extra>",
         "legendgroup": "BAJA CALIFORNIA",
         "line": {
          "color": "#636efa"
         },
         "marker": {
          "symbol": "circle"
         },
         "mode": "lines+markers",
         "name": "BAJA CALIFORNIA",
         "orientation": "v",
         "showlegend": true,
         "stackgroup": "1",
         "type": "scatter",
         "x": [
          "2022-01-01",
          "2022-02-01",
          "2022-03-01",
          "2022-04-01",
          "2022-05-01",
          "2022-06-01",
          "2022-07-01",
          "2022-08-01",
          "2022-09-01",
          "2022-10-01"
         ],
         "xaxis": "x13",
         "y": [
          0.5603,
          0.5635,
          0.5635,
          0.5747,
          0.5834,
          0.5711,
          0.5822,
          0.5843999999999999,
          0.5866,
          0.5882
         ],
         "yaxis": "y13"
        },
        {
         "fillpattern": {
          "shape": ""
         },
         "hovertemplate": "division=BAJA CALIFORNIA SUR<br>date=%{x}<br>value=%{y}<extra></extra>",
         "legendgroup": "BAJA CALIFORNIA SUR",
         "line": {
          "color": "#EF553B"
         },
         "marker": {
          "symbol": "circle"
         },
         "mode": "lines+markers",
         "name": "BAJA CALIFORNIA SUR",
         "orientation": "v",
         "showlegend": true,
         "stackgroup": "1",
         "type": "scatter",
         "x": [
          "2022-01-01",
          "2022-02-01",
          "2022-03-01",
          "2022-04-01",
          "2022-05-01",
          "2022-06-01",
          "2022-07-01",
          "2022-08-01",
          "2022-09-01",
          "2022-10-01"
         ],
         "xaxis": "x14",
         "y": [
          1.8788,
          1.8934000000000002,
          1.8934000000000002,
          1.9446,
          1.9842,
          1.9281,
          1.9784,
          1.9884999999999997,
          1.9987,
          2.0059
         ],
         "yaxis": "y14"
        },
        {
         "fillpattern": {
          "shape": ""
         },
         "hovertemplate": "division=BAJÍO<br>date=%{x}<br>value=%{y}<extra></extra>",
         "legendgroup": "BAJÍO",
         "line": {
          "color": "#00cc96"
         },
         "marker": {
          "symbol": "circle"
         },
         "mode": "lines+markers",
         "name": "BAJÍO",
         "orientation": "v",
         "showlegend": true,
         "stackgroup": "1",
         "type": "scatter",
         "x": [
          "2022-01-01",
          "2022-02-01",
          "2022-03-01",
          "2022-04-01",
          "2022-05-01",
          "2022-06-01",
          "2022-07-01",
          "2022-08-01",
          "2022-09-01",
          "2022-10-01"
         ],
         "xaxis": "x15",
         "y": [
          0.9541,
          0.9607,
          0.9607,
          0.9839000000000001,
          1.0018,
          0.9764,
          0.9992,
          1.0038,
          1.0084,
          1.0117
         ],
         "yaxis": "y15"
        },
        {
         "fillpattern": {
          "shape": ""
         },
         "hovertemplate": "division=CENTRO OCCIDENTE<br>date=%{x}<br>value=%{y}<extra></extra>",
         "legendgroup": "CENTRO OCCIDENTE",
         "line": {
          "color": "#ab63fa"
         },
         "marker": {
          "symbol": "circle"
         },
         "mode": "lines+markers",
         "name": "CENTRO OCCIDENTE",
         "orientation": "v",
         "showlegend": true,
         "stackgroup": "1",
         "type": "scatter",
         "x": [
          "2022-01-01",
          "2022-02-01",
          "2022-03-01",
          "2022-04-01",
          "2022-05-01",
          "2022-06-01",
          "2022-07-01",
          "2022-08-01",
          "2022-09-01",
          "2022-10-01"
         ],
         "xaxis": "x16",
         "y": [
          0.9521,
          0.9587,
          0.9587,
          0.9817999999999999,
          0.9997,
          0.9743999999999999,
          0.9971,
          1.0016,
          1.0062,
          1.0095
         ],
         "yaxis": "y16"
        },
        {
         "fillpattern": {
          "shape": ""
         },
         "hovertemplate": "division=CENTRO ORIENTE<br>date=%{x}<br>value=%{y}<extra></extra>",
         "legendgroup": "CENTRO ORIENTE",
         "line": {
          "color": "#FFA15A"
         },
         "marker": {
          "symbol": "circle"
         },
         "mode": "lines+markers",
         "name": "CENTRO ORIENTE",
         "orientation": "v",
         "showlegend": true,
         "stackgroup": "1",
         "type": "scatter",
         "x": [
          "2022-01-01",
          "2022-02-01",
          "2022-03-01",
          "2022-04-01",
          "2022-05-01",
          "2022-06-01",
          "2022-07-01",
          "2022-08-01",
          "2022-09-01",
          "2022-10-01"
         ],
         "xaxis": "x17",
         "y": [
          0.9498,
          0.9562999999999999,
          0.9562999999999999,
          0.9793999999999999,
          0.9971999999999999,
          0.9719999999999999,
          0.9946,
          0.9992,
          1.0037,
          1.007
         ],
         "yaxis": "y17"
        },
        {
         "fillpattern": {
          "shape": ""
         },
         "hovertemplate": "division=CENTRO SUR<br>date=%{x}<br>value=%{y}<extra></extra>",
         "legendgroup": "CENTRO SUR",
         "line": {
          "color": "#19d3f3"
         },
         "marker": {
          "symbol": "circle"
         },
         "mode": "lines+markers",
         "name": "CENTRO SUR",
         "orientation": "v",
         "showlegend": true,
         "stackgroup": "1",
         "type": "scatter",
         "x": [
          "2022-01-01",
          "2022-02-01",
          "2022-03-01",
          "2022-04-01",
          "2022-05-01",
          "2022-06-01",
          "2022-07-01",
          "2022-08-01",
          "2022-09-01",
          "2022-10-01"
         ],
         "xaxis": "x18",
         "y": [
          0.8747,
          0.8806,
          0.8806,
          0.9014,
          0.9175,
          0.8947,
          0.9151,
          0.9192,
          0.9233,
          0.9262999999999999
         ],
         "yaxis": "y18"
        },
        {
         "fillpattern": {
          "shape": ""
         },
         "hovertemplate": "division=GOLFO CENTRO<br>date=%{x}<br>value=%{y}<extra></extra>",
         "legendgroup": "GOLFO CENTRO",
         "line": {
          "color": "#FF6692"
         },
         "marker": {
          "symbol": "circle"
         },
         "mode": "lines+markers",
         "name": "GOLFO CENTRO",
         "orientation": "v",
         "showlegend": true,
         "stackgroup": "1",
         "type": "scatter",
         "x": [
          "2022-01-01",
          "2022-02-01",
          "2022-03-01",
          "2022-04-01",
          "2022-05-01",
          "2022-06-01",
          "2022-07-01",
          "2022-08-01",
          "2022-09-01",
          "2022-10-01"
         ],
         "xaxis": "x7",
         "y": [
          0.9057,
          0.9118,
          0.9118,
          0.9336,
          0.9504,
          0.9266,
          0.9479,
          0.9522,
          0.9565,
          0.9596
         ],
         "yaxis": "y7"
        },
        {
         "fillpattern": {
          "shape": ""
         },
         "hovertemplate": "division=GOLFO NORTE<br>date=%{x}<br>value=%{y}<extra></extra>",
         "legendgroup": "GOLFO NORTE",
         "line": {
          "color": "#B6E880"
         },
         "marker": {
          "symbol": "circle"
         },
         "mode": "lines+markers",
         "name": "GOLFO NORTE",
         "orientation": "v",
         "showlegend": true,
         "stackgroup": "1",
         "type": "scatter",
         "x": [
          "2022-01-01",
          "2022-02-01",
          "2022-03-01",
          "2022-04-01",
          "2022-05-01",
          "2022-06-01",
          "2022-07-01",
          "2022-08-01",
          "2022-09-01",
          "2022-10-01"
         ],
         "xaxis": "x8",
         "y": [
          0.9242999999999999,
          0.9306000000000001,
          0.9306000000000001,
          0.9529,
          0.9701,
          0.9457,
          0.9676,
          0.972,
          0.9764,
          0.9795
         ],
         "yaxis": "y8"
        },
        {
         "fillpattern": {
          "shape": ""
         },
         "hovertemplate": "division=JALISCO<br>date=%{x}<br>value=%{y}<extra></extra>",
         "legendgroup": "JALISCO",
         "line": {
          "color": "#FF97FF"
         },
         "marker": {
          "symbol": "circle"
         },
         "mode": "lines+markers",
         "name": "JALISCO",
         "orientation": "v",
         "showlegend": true,
         "stackgroup": "1",
         "type": "scatter",
         "x": [
          "2022-01-01",
          "2022-02-01",
          "2022-03-01",
          "2022-04-01",
          "2022-05-01",
          "2022-06-01",
          "2022-07-01",
          "2022-08-01",
          "2022-09-01",
          "2022-10-01"
         ],
         "xaxis": "x9",
         "y": [
          0.9178,
          0.924,
          0.924,
          0.9461,
          0.9632,
          0.939,
          0.9606999999999999,
          0.9650000000000001,
          0.9694,
          0.9724999999999999
         ],
         "yaxis": "y9"
        },
        {
         "fillpattern": {
          "shape": ""
         },
         "hovertemplate": "division=NOROESTE<br>date=%{x}<br>value=%{y}<extra></extra>",
         "legendgroup": "NOROESTE",
         "line": {
          "color": "#FECB52"
         },
         "marker": {
          "symbol": "circle"
         },
         "mode": "lines+markers",
         "name": "NOROESTE",
         "orientation": "v",
         "showlegend": true,
         "stackgroup": "1",
         "type": "scatter",
         "x": [
          "2022-01-01",
          "2022-02-01",
          "2022-03-01",
          "2022-04-01",
          "2022-05-01",
          "2022-06-01",
          "2022-07-01",
          "2022-08-01",
          "2022-09-01",
          "2022-10-01"
         ],
         "xaxis": "x10",
         "y": [
          0.8784,
          0.8843999999999999,
          0.8843999999999999,
          0.9052,
          0.9213999999999999,
          0.8985,
          0.9191000000000001,
          0.9232,
          0.9273,
          0.9303000000000001
         ],
         "yaxis": "y10"
        },
        {
         "fillpattern": {
          "shape": ""
         },
         "hovertemplate": "division=NORTE<br>date=%{x}<br>value=%{y}<extra></extra>",
         "legendgroup": "NORTE",
         "line": {
          "color": "#636efa"
         },
         "marker": {
          "symbol": "circle"
         },
         "mode": "lines+markers",
         "name": "NORTE",
         "orientation": "v",
         "showlegend": true,
         "stackgroup": "1",
         "type": "scatter",
         "x": [
          "2022-01-01",
          "2022-02-01",
          "2022-03-01",
          "2022-04-01",
          "2022-05-01",
          "2022-06-01",
          "2022-07-01",
          "2022-08-01",
          "2022-09-01",
          "2022-10-01"
         ],
         "xaxis": "x11",
         "y": [
          0.9246,
          0.9309,
          0.9309,
          0.9532,
          0.9704,
          0.946,
          0.9679,
          0.9723,
          0.9767000000000001,
          0.9799
         ],
         "yaxis": "y11"
        },
        {
         "fillpattern": {
          "shape": ""
         },
         "hovertemplate": "division=ORIENTE<br>date=%{x}<br>value=%{y}<extra></extra>",
         "legendgroup": "ORIENTE",
         "line": {
          "color": "#EF553B"
         },
         "marker": {
          "symbol": "circle"
         },
         "mode": "lines+markers",
         "name": "ORIENTE",
         "orientation": "v",
         "showlegend": true,
         "stackgroup": "1",
         "type": "scatter",
         "x": [
          "2022-01-01",
          "2022-02-01",
          "2022-03-01",
          "2022-04-01",
          "2022-05-01",
          "2022-06-01",
          "2022-07-01",
          "2022-08-01",
          "2022-09-01",
          "2022-10-01"
         ],
         "xaxis": "x12",
         "y": [
          0.8424,
          0.848,
          0.848,
          0.8678,
          0.8831,
          0.8614,
          0.8809,
          0.8848,
          0.8887,
          0.8915
         ],
         "yaxis": "y12"
        },
        {
         "fillpattern": {
          "shape": ""
         },
         "hovertemplate": "division=PENINSULAR<br>date=%{x}<br>value=%{y}<extra></extra>",
         "legendgroup": "PENINSULAR",
         "line": {
          "color": "#00cc96"
         },
         "marker": {
          "symbol": "circle"
         },
         "mode": "lines+markers",
         "name": "PENINSULAR",
         "orientation": "v",
         "showlegend": true,
         "stackgroup": "1",
         "type": "scatter",
         "x": [
          "2022-01-01",
          "2022-02-01",
          "2022-03-01",
          "2022-04-01",
          "2022-05-01",
          "2022-06-01",
          "2022-07-01",
          "2022-08-01",
          "2022-09-01",
          "2022-10-01"
         ],
         "xaxis": "x",
         "y": [
          1.1133,
          1.1212,
          1.1212,
          1.1492,
          1.1709,
          1.1402,
          1.1678,
          1.1733,
          1.1788,
          1.1828
         ],
         "yaxis": "y"
        },
        {
         "fillpattern": {
          "shape": ""
         },
         "hovertemplate": "division=SURESTE<br>date=%{x}<br>value=%{y}<extra></extra>",
         "legendgroup": "SURESTE",
         "line": {
          "color": "#ab63fa"
         },
         "marker": {
          "symbol": "circle"
         },
         "mode": "lines+markers",
         "name": "SURESTE",
         "orientation": "v",
         "showlegend": true,
         "stackgroup": "1",
         "type": "scatter",
         "x": [
          "2022-01-01",
          "2022-02-01",
          "2022-03-01",
          "2022-04-01",
          "2022-05-01",
          "2022-06-01",
          "2022-07-01",
          "2022-08-01",
          "2022-09-01",
          "2022-10-01"
         ],
         "xaxis": "x2",
         "y": [
          0.9150000000000001,
          0.9212,
          0.9212,
          0.9432,
          0.9602,
          0.9361,
          0.9577,
          0.9621000000000001,
          0.9664,
          0.9695999999999999
         ],
         "yaxis": "y2"
        },
        {
         "fillpattern": {
          "shape": ""
         },
         "hovertemplate": "division=VALLE DE MÉXICO CENTRO<br>date=%{x}<br>value=%{y}<extra></extra>",
         "legendgroup": "VALLE DE MÉXICO CENTRO",
         "line": {
          "color": "#FFA15A"
         },
         "marker": {
          "symbol": "circle"
         },
         "mode": "lines+markers",
         "name": "VALLE DE MÉXICO CENTRO",
         "orientation": "v",
         "showlegend": true,
         "stackgroup": "1",
         "type": "scatter",
         "x": [
          "2022-01-01",
          "2022-02-01",
          "2022-03-01",
          "2022-04-01",
          "2022-05-01",
          "2022-06-01",
          "2022-07-01",
          "2022-08-01",
          "2022-09-01",
          "2022-10-01"
         ],
         "xaxis": "x3",
         "y": [
          1.0014,
          1.0083,
          1.0083,
          1.0329,
          1.052,
          1.025,
          1.0492,
          1.0541,
          1.059,
          1.0624
         ],
         "yaxis": "y3"
        },
        {
         "fillpattern": {
          "shape": ""
         },
         "hovertemplate": "division=VALLE DE MÉXICO NORTE<br>date=%{x}<br>value=%{y}<extra></extra>",
         "legendgroup": "VALLE DE MÉXICO NORTE",
         "line": {
          "color": "#19d3f3"
         },
         "marker": {
          "symbol": "circle"
         },
         "mode": "lines+markers",
         "name": "VALLE DE MÉXICO NORTE",
         "orientation": "v",
         "showlegend": true,
         "stackgroup": "1",
         "type": "scatter",
         "x": [
          "2022-01-01",
          "2022-02-01",
          "2022-03-01",
          "2022-04-01",
          "2022-05-01",
          "2022-06-01",
          "2022-07-01",
          "2022-08-01",
          "2022-09-01",
          "2022-10-01"
         ],
         "xaxis": "x4",
         "y": [
          0.9987,
          1.0057,
          1.0057,
          1.0302,
          1.0492,
          1.0223,
          1.0464,
          1.0513,
          1.0561,
          1.0596
         ],
         "yaxis": "y4"
        },
        {
         "fillpattern": {
          "shape": ""
         },
         "hovertemplate": "division=VALLE DE MÉXICO SUR<br>date=%{x}<br>value=%{y}<extra></extra>",
         "legendgroup": "VALLE DE MÉXICO SUR",
         "line": {
          "color": "#FF6692"
         },
         "marker": {
          "symbol": "circle"
         },
         "mode": "lines+markers",
         "name": "VALLE DE MÉXICO SUR",
         "orientation": "v",
         "showlegend": true,
         "stackgroup": "1",
         "type": "scatter",
         "x": [
          "2022-01-01",
          "2022-02-01",
          "2022-03-01",
          "2022-04-01",
          "2022-05-01",
          "2022-06-01",
          "2022-07-01",
          "2022-08-01",
          "2022-09-01",
          "2022-10-01"
         ],
         "xaxis": "x5",
         "y": [
          1.0085,
          1.0155,
          1.0155,
          1.0403,
          1.0596,
          1.0324,
          1.0568,
          1.0616,
          1.0666,
          1.0701
         ],
         "yaxis": "y5"
        }
       ],
       "layout": {
        "annotations": [
         {
          "font": {},
          "showarrow": false,
          "text": "division=PENINSULAR",
          "x": 0.075,
          "xanchor": "center",
          "xref": "paper",
          "y": 0.2866666666666666,
          "yanchor": "bottom",
          "yref": "paper"
         },
         {
          "font": {},
          "showarrow": false,
          "text": "division=SURESTE",
          "x": 0.24499999999999997,
          "xanchor": "center",
          "xref": "paper",
          "y": 0.2866666666666666,
          "yanchor": "bottom",
          "yref": "paper"
         },
         {
          "font": {},
          "showarrow": false,
          "text": "division=VALLE DE MÉXICO CENTRO",
          "x": 0.415,
          "xanchor": "center",
          "xref": "paper",
          "y": 0.2866666666666666,
          "yanchor": "bottom",
          "yref": "paper"
         },
         {
          "font": {},
          "showarrow": false,
          "text": "division=VALLE DE MÉXICO NORTE",
          "x": 0.585,
          "xanchor": "center",
          "xref": "paper",
          "y": 0.2866666666666666,
          "yanchor": "bottom",
          "yref": "paper"
         },
         {
          "font": {},
          "showarrow": false,
          "text": "division=VALLE DE MÉXICO SUR",
          "x": 0.7549999999999999,
          "xanchor": "center",
          "xref": "paper",
          "y": 0.2866666666666666,
          "yanchor": "bottom",
          "yref": "paper"
         },
         {
          "font": {},
          "showarrow": false,
          "text": "division=GOLFO CENTRO",
          "x": 0.075,
          "xanchor": "center",
          "xref": "paper",
          "y": 0.6433333333333333,
          "yanchor": "bottom",
          "yref": "paper"
         },
         {
          "font": {},
          "showarrow": false,
          "text": "division=GOLFO NORTE",
          "x": 0.24499999999999997,
          "xanchor": "center",
          "xref": "paper",
          "y": 0.6433333333333333,
          "yanchor": "bottom",
          "yref": "paper"
         },
         {
          "font": {},
          "showarrow": false,
          "text": "division=JALISCO",
          "x": 0.415,
          "xanchor": "center",
          "xref": "paper",
          "y": 0.6433333333333333,
          "yanchor": "bottom",
          "yref": "paper"
         },
         {
          "font": {},
          "showarrow": false,
          "text": "division=NOROESTE",
          "x": 0.585,
          "xanchor": "center",
          "xref": "paper",
          "y": 0.6433333333333333,
          "yanchor": "bottom",
          "yref": "paper"
         },
         {
          "font": {},
          "showarrow": false,
          "text": "division=NORTE",
          "x": 0.7549999999999999,
          "xanchor": "center",
          "xref": "paper",
          "y": 0.6433333333333333,
          "yanchor": "bottom",
          "yref": "paper"
         },
         {
          "font": {},
          "showarrow": false,
          "text": "division=ORIENTE",
          "x": 0.925,
          "xanchor": "center",
          "xref": "paper",
          "y": 0.6433333333333333,
          "yanchor": "bottom",
          "yref": "paper"
         },
         {
          "font": {},
          "showarrow": false,
          "text": "division=BAJA CALIFORNIA",
          "x": 0.075,
          "xanchor": "center",
          "xref": "paper",
          "y": 0.9999999999999999,
          "yanchor": "bottom",
          "yref": "paper"
         },
         {
          "font": {},
          "showarrow": false,
          "text": "division=BAJA CALIFORNIA SUR",
          "x": 0.24499999999999997,
          "xanchor": "center",
          "xref": "paper",
          "y": 0.9999999999999999,
          "yanchor": "bottom",
          "yref": "paper"
         },
         {
          "font": {},
          "showarrow": false,
          "text": "division=BAJÍO",
          "x": 0.415,
          "xanchor": "center",
          "xref": "paper",
          "y": 0.9999999999999999,
          "yanchor": "bottom",
          "yref": "paper"
         },
         {
          "font": {},
          "showarrow": false,
          "text": "division=CENTRO OCCIDENTE",
          "x": 0.585,
          "xanchor": "center",
          "xref": "paper",
          "y": 0.9999999999999999,
          "yanchor": "bottom",
          "yref": "paper"
         },
         {
          "font": {},
          "showarrow": false,
          "text": "division=CENTRO ORIENTE",
          "x": 0.7549999999999999,
          "xanchor": "center",
          "xref": "paper",
          "y": 0.9999999999999999,
          "yanchor": "bottom",
          "yref": "paper"
         },
         {
          "font": {},
          "showarrow": false,
          "text": "division=CENTRO SUR",
          "x": 0.925,
          "xanchor": "center",
          "xref": "paper",
          "y": 0.9999999999999999,
          "yanchor": "bottom",
          "yref": "paper"
         }
        ],
        "height": 650,
        "legend": {
         "title": {
          "text": "division"
         },
         "tracegroupgap": 0
        },
        "template": {
         "data": {
          "bar": [
           {
            "error_x": {
             "color": "#2a3f5f"
            },
            "error_y": {
             "color": "#2a3f5f"
            },
            "marker": {
             "line": {
              "color": "white",
              "width": 0.5
             },
             "pattern": {
              "fillmode": "overlay",
              "size": 10,
              "solidity": 0.2
             }
            },
            "type": "bar"
           }
          ],
          "barpolar": [
           {
            "marker": {
             "line": {
              "color": "white",
              "width": 0.5
             },
             "pattern": {
              "fillmode": "overlay",
              "size": 10,
              "solidity": 0.2
             }
            },
            "type": "barpolar"
           }
          ],
          "carpet": [
           {
            "aaxis": {
             "endlinecolor": "#2a3f5f",
             "gridcolor": "#C8D4E3",
             "linecolor": "#C8D4E3",
             "minorgridcolor": "#C8D4E3",
             "startlinecolor": "#2a3f5f"
            },
            "baxis": {
             "endlinecolor": "#2a3f5f",
             "gridcolor": "#C8D4E3",
             "linecolor": "#C8D4E3",
             "minorgridcolor": "#C8D4E3",
             "startlinecolor": "#2a3f5f"
            },
            "type": "carpet"
           }
          ],
          "choropleth": [
           {
            "colorbar": {
             "outlinewidth": 0,
             "ticks": ""
            },
            "type": "choropleth"
           }
          ],
          "contour": [
           {
            "colorbar": {
             "outlinewidth": 0,
             "ticks": ""
            },
            "colorscale": [
             [
              0,
              "#0d0887"
             ],
             [
              0.1111111111111111,
              "#46039f"
             ],
             [
              0.2222222222222222,
              "#7201a8"
             ],
             [
              0.3333333333333333,
              "#9c179e"
             ],
             [
              0.4444444444444444,
              "#bd3786"
             ],
             [
              0.5555555555555556,
              "#d8576b"
             ],
             [
              0.6666666666666666,
              "#ed7953"
             ],
             [
              0.7777777777777778,
              "#fb9f3a"
             ],
             [
              0.8888888888888888,
              "#fdca26"
             ],
             [
              1,
              "#f0f921"
             ]
            ],
            "type": "contour"
           }
          ],
          "contourcarpet": [
           {
            "colorbar": {
             "outlinewidth": 0,
             "ticks": ""
            },
            "type": "contourcarpet"
           }
          ],
          "heatmap": [
           {
            "colorbar": {
             "outlinewidth": 0,
             "ticks": ""
            },
            "colorscale": [
             [
              0,
              "#0d0887"
             ],
             [
              0.1111111111111111,
              "#46039f"
             ],
             [
              0.2222222222222222,
              "#7201a8"
             ],
             [
              0.3333333333333333,
              "#9c179e"
             ],
             [
              0.4444444444444444,
              "#bd3786"
             ],
             [
              0.5555555555555556,
              "#d8576b"
             ],
             [
              0.6666666666666666,
              "#ed7953"
             ],
             [
              0.7777777777777778,
              "#fb9f3a"
             ],
             [
              0.8888888888888888,
              "#fdca26"
             ],
             [
              1,
              "#f0f921"
             ]
            ],
            "type": "heatmap"
           }
          ],
          "heatmapgl": [
           {
            "colorbar": {
             "outlinewidth": 0,
             "ticks": ""
            },
            "colorscale": [
             [
              0,
              "#0d0887"
             ],
             [
              0.1111111111111111,
              "#46039f"
             ],
             [
              0.2222222222222222,
              "#7201a8"
             ],
             [
              0.3333333333333333,
              "#9c179e"
             ],
             [
              0.4444444444444444,
              "#bd3786"
             ],
             [
              0.5555555555555556,
              "#d8576b"
             ],
             [
              0.6666666666666666,
              "#ed7953"
             ],
             [
              0.7777777777777778,
              "#fb9f3a"
             ],
             [
              0.8888888888888888,
              "#fdca26"
             ],
             [
              1,
              "#f0f921"
             ]
            ],
            "type": "heatmapgl"
           }
          ],
          "histogram": [
           {
            "marker": {
             "pattern": {
              "fillmode": "overlay",
              "size": 10,
              "solidity": 0.2
             }
            },
            "type": "histogram"
           }
          ],
          "histogram2d": [
           {
            "colorbar": {
             "outlinewidth": 0,
             "ticks": ""
            },
            "colorscale": [
             [
              0,
              "#0d0887"
             ],
             [
              0.1111111111111111,
              "#46039f"
             ],
             [
              0.2222222222222222,
              "#7201a8"
             ],
             [
              0.3333333333333333,
              "#9c179e"
             ],
             [
              0.4444444444444444,
              "#bd3786"
             ],
             [
              0.5555555555555556,
              "#d8576b"
             ],
             [
              0.6666666666666666,
              "#ed7953"
             ],
             [
              0.7777777777777778,
              "#fb9f3a"
             ],
             [
              0.8888888888888888,
              "#fdca26"
             ],
             [
              1,
              "#f0f921"
             ]
            ],
            "type": "histogram2d"
           }
          ],
          "histogram2dcontour": [
           {
            "colorbar": {
             "outlinewidth": 0,
             "ticks": ""
            },
            "colorscale": [
             [
              0,
              "#0d0887"
             ],
             [
              0.1111111111111111,
              "#46039f"
             ],
             [
              0.2222222222222222,
              "#7201a8"
             ],
             [
              0.3333333333333333,
              "#9c179e"
             ],
             [
              0.4444444444444444,
              "#bd3786"
             ],
             [
              0.5555555555555556,
              "#d8576b"
             ],
             [
              0.6666666666666666,
              "#ed7953"
             ],
             [
              0.7777777777777778,
              "#fb9f3a"
             ],
             [
              0.8888888888888888,
              "#fdca26"
             ],
             [
              1,
              "#f0f921"
             ]
            ],
            "type": "histogram2dcontour"
           }
          ],
          "mesh3d": [
           {
            "colorbar": {
             "outlinewidth": 0,
             "ticks": ""
            },
            "type": "mesh3d"
           }
          ],
          "parcoords": [
           {
            "line": {
             "colorbar": {
              "outlinewidth": 0,
              "ticks": ""
             }
            },
            "type": "parcoords"
           }
          ],
          "pie": [
           {
            "automargin": true,
            "type": "pie"
           }
          ],
          "scatter": [
           {
            "fillpattern": {
             "fillmode": "overlay",
             "size": 10,
             "solidity": 0.2
            },
            "type": "scatter"
           }
          ],
          "scatter3d": [
           {
            "line": {
             "colorbar": {
              "outlinewidth": 0,
              "ticks": ""
             }
            },
            "marker": {
             "colorbar": {
              "outlinewidth": 0,
              "ticks": ""
             }
            },
            "type": "scatter3d"
           }
          ],
          "scattercarpet": [
           {
            "marker": {
             "colorbar": {
              "outlinewidth": 0,
              "ticks": ""
             }
            },
            "type": "scattercarpet"
           }
          ],
          "scattergeo": [
           {
            "marker": {
             "colorbar": {
              "outlinewidth": 0,
              "ticks": ""
             }
            },
            "type": "scattergeo"
           }
          ],
          "scattergl": [
           {
            "marker": {
             "colorbar": {
              "outlinewidth": 0,
              "ticks": ""
             }
            },
            "type": "scattergl"
           }
          ],
          "scattermapbox": [
           {
            "marker": {
             "colorbar": {
              "outlinewidth": 0,
              "ticks": ""
             }
            },
            "type": "scattermapbox"
           }
          ],
          "scatterpolar": [
           {
            "marker": {
             "colorbar": {
              "outlinewidth": 0,
              "ticks": ""
             }
            },
            "type": "scatterpolar"
           }
          ],
          "scatterpolargl": [
           {
            "marker": {
             "colorbar": {
              "outlinewidth": 0,
              "ticks": ""
             }
            },
            "type": "scatterpolargl"
           }
          ],
          "scatterternary": [
           {
            "marker": {
             "colorbar": {
              "outlinewidth": 0,
              "ticks": ""
             }
            },
            "type": "scatterternary"
           }
          ],
          "surface": [
           {
            "colorbar": {
             "outlinewidth": 0,
             "ticks": ""
            },
            "colorscale": [
             [
              0,
              "#0d0887"
             ],
             [
              0.1111111111111111,
              "#46039f"
             ],
             [
              0.2222222222222222,
              "#7201a8"
             ],
             [
              0.3333333333333333,
              "#9c179e"
             ],
             [
              0.4444444444444444,
              "#bd3786"
             ],
             [
              0.5555555555555556,
              "#d8576b"
             ],
             [
              0.6666666666666666,
              "#ed7953"
             ],
             [
              0.7777777777777778,
              "#fb9f3a"
             ],
             [
              0.8888888888888888,
              "#fdca26"
             ],
             [
              1,
              "#f0f921"
             ]
            ],
            "type": "surface"
           }
          ],
          "table": [
           {
            "cells": {
             "fill": {
              "color": "#EBF0F8"
             },
             "line": {
              "color": "white"
             }
            },
            "header": {
             "fill": {
              "color": "#C8D4E3"
             },
             "line": {
              "color": "white"
             }
            },
            "type": "table"
           }
          ]
         },
         "layout": {
          "annotationdefaults": {
           "arrowcolor": "#2a3f5f",
           "arrowhead": 0,
           "arrowwidth": 1
          },
          "autotypenumbers": "strict",
          "coloraxis": {
           "colorbar": {
            "outlinewidth": 0,
            "ticks": ""
           }
          },
          "colorscale": {
           "diverging": [
            [
             0,
             "#8e0152"
            ],
            [
             0.1,
             "#c51b7d"
            ],
            [
             0.2,
             "#de77ae"
            ],
            [
             0.3,
             "#f1b6da"
            ],
            [
             0.4,
             "#fde0ef"
            ],
            [
             0.5,
             "#f7f7f7"
            ],
            [
             0.6,
             "#e6f5d0"
            ],
            [
             0.7,
             "#b8e186"
            ],
            [
             0.8,
             "#7fbc41"
            ],
            [
             0.9,
             "#4d9221"
            ],
            [
             1,
             "#276419"
            ]
           ],
           "sequential": [
            [
             0,
             "#0d0887"
            ],
            [
             0.1111111111111111,
             "#46039f"
            ],
            [
             0.2222222222222222,
             "#7201a8"
            ],
            [
             0.3333333333333333,
             "#9c179e"
            ],
            [
             0.4444444444444444,
             "#bd3786"
            ],
            [
             0.5555555555555556,
             "#d8576b"
            ],
            [
             0.6666666666666666,
             "#ed7953"
            ],
            [
             0.7777777777777778,
             "#fb9f3a"
            ],
            [
             0.8888888888888888,
             "#fdca26"
            ],
            [
             1,
             "#f0f921"
            ]
           ],
           "sequentialminus": [
            [
             0,
             "#0d0887"
            ],
            [
             0.1111111111111111,
             "#46039f"
            ],
            [
             0.2222222222222222,
             "#7201a8"
            ],
            [
             0.3333333333333333,
             "#9c179e"
            ],
            [
             0.4444444444444444,
             "#bd3786"
            ],
            [
             0.5555555555555556,
             "#d8576b"
            ],
            [
             0.6666666666666666,
             "#ed7953"
            ],
            [
             0.7777777777777778,
             "#fb9f3a"
            ],
            [
             0.8888888888888888,
             "#fdca26"
            ],
            [
             1,
             "#f0f921"
            ]
           ]
          },
          "colorway": [
           "#636efa",
           "#EF553B",
           "#00cc96",
           "#ab63fa",
           "#FFA15A",
           "#19d3f3",
           "#FF6692",
           "#B6E880",
           "#FF97FF",
           "#FECB52"
          ],
          "font": {
           "color": "#2a3f5f"
          },
          "geo": {
           "bgcolor": "white",
           "lakecolor": "white",
           "landcolor": "white",
           "showlakes": true,
           "showland": true,
           "subunitcolor": "#C8D4E3"
          },
          "hoverlabel": {
           "align": "left"
          },
          "hovermode": "closest",
          "mapbox": {
           "style": "light"
          },
          "paper_bgcolor": "white",
          "plot_bgcolor": "white",
          "polar": {
           "angularaxis": {
            "gridcolor": "#EBF0F8",
            "linecolor": "#EBF0F8",
            "ticks": ""
           },
           "bgcolor": "white",
           "radialaxis": {
            "gridcolor": "#EBF0F8",
            "linecolor": "#EBF0F8",
            "ticks": ""
           }
          },
          "scene": {
           "xaxis": {
            "backgroundcolor": "white",
            "gridcolor": "#DFE8F3",
            "gridwidth": 2,
            "linecolor": "#EBF0F8",
            "showbackground": true,
            "ticks": "",
            "zerolinecolor": "#EBF0F8"
           },
           "yaxis": {
            "backgroundcolor": "white",
            "gridcolor": "#DFE8F3",
            "gridwidth": 2,
            "linecolor": "#EBF0F8",
            "showbackground": true,
            "ticks": "",
            "zerolinecolor": "#EBF0F8"
           },
           "zaxis": {
            "backgroundcolor": "white",
            "gridcolor": "#DFE8F3",
            "gridwidth": 2,
            "linecolor": "#EBF0F8",
            "showbackground": true,
            "ticks": "",
            "zerolinecolor": "#EBF0F8"
           }
          },
          "shapedefaults": {
           "line": {
            "color": "#2a3f5f"
           }
          },
          "ternary": {
           "aaxis": {
            "gridcolor": "#DFE8F3",
            "linecolor": "#A2B1C6",
            "ticks": ""
           },
           "baxis": {
            "gridcolor": "#DFE8F3",
            "linecolor": "#A2B1C6",
            "ticks": ""
           },
           "bgcolor": "white",
           "caxis": {
            "gridcolor": "#DFE8F3",
            "linecolor": "#A2B1C6",
            "ticks": ""
           }
          },
          "title": {
           "x": 0.05
          },
          "xaxis": {
           "automargin": true,
           "gridcolor": "#EBF0F8",
           "linecolor": "#EBF0F8",
           "ticks": "",
           "title": {
            "standoff": 15
           },
           "zerolinecolor": "#EBF0F8",
           "zerolinewidth": 2
          },
          "yaxis": {
           "automargin": true,
           "gridcolor": "#EBF0F8",
           "linecolor": "#EBF0F8",
           "ticks": "",
           "title": {
            "standoff": 15
           },
           "zerolinecolor": "#EBF0F8",
           "zerolinewidth": 2
          }
         }
        },
        "title": {
         "text": "Variación de la tarifa de interés horario base por division durante el año 2022"
        },
        "width": 1800,
        "xaxis": {
         "anchor": "y",
         "domain": [
          0,
          0.15
         ],
         "title": {
          "text": "date"
         }
        },
        "xaxis10": {
         "anchor": "y10",
         "domain": [
          0.51,
          0.66
         ],
         "matches": "x",
         "showticklabels": false
        },
        "xaxis11": {
         "anchor": "y11",
         "domain": [
          0.6799999999999999,
          0.83
         ],
         "matches": "x",
         "showticklabels": false
        },
        "xaxis12": {
         "anchor": "y12",
         "domain": [
          0.85,
          1
         ],
         "matches": "x",
         "showticklabels": false
        },
        "xaxis13": {
         "anchor": "y13",
         "domain": [
          0,
          0.15
         ],
         "matches": "x",
         "showticklabels": false
        },
        "xaxis14": {
         "anchor": "y14",
         "domain": [
          0.16999999999999998,
          0.31999999999999995
         ],
         "matches": "x",
         "showticklabels": false
        },
        "xaxis15": {
         "anchor": "y15",
         "domain": [
          0.33999999999999997,
          0.49
         ],
         "matches": "x",
         "showticklabels": false
        },
        "xaxis16": {
         "anchor": "y16",
         "domain": [
          0.51,
          0.66
         ],
         "matches": "x",
         "showticklabels": false
        },
        "xaxis17": {
         "anchor": "y17",
         "domain": [
          0.6799999999999999,
          0.83
         ],
         "matches": "x",
         "showticklabels": false
        },
        "xaxis18": {
         "anchor": "y18",
         "domain": [
          0.85,
          1
         ],
         "matches": "x",
         "showticklabels": false
        },
        "xaxis2": {
         "anchor": "y2",
         "domain": [
          0.16999999999999998,
          0.31999999999999995
         ],
         "matches": "x",
         "title": {
          "text": "date"
         }
        },
        "xaxis3": {
         "anchor": "y3",
         "domain": [
          0.33999999999999997,
          0.49
         ],
         "matches": "x",
         "title": {
          "text": "date"
         }
        },
        "xaxis4": {
         "anchor": "y4",
         "domain": [
          0.51,
          0.66
         ],
         "matches": "x",
         "title": {
          "text": "date"
         }
        },
        "xaxis5": {
         "anchor": "y5",
         "domain": [
          0.6799999999999999,
          0.83
         ],
         "matches": "x",
         "title": {
          "text": "date"
         }
        },
        "xaxis6": {
         "anchor": "y6",
         "domain": [
          0.85,
          1
         ],
         "matches": "x",
         "title": {
          "text": "date"
         }
        },
        "xaxis7": {
         "anchor": "y7",
         "domain": [
          0,
          0.15
         ],
         "matches": "x",
         "showticklabels": false
        },
        "xaxis8": {
         "anchor": "y8",
         "domain": [
          0.16999999999999998,
          0.31999999999999995
         ],
         "matches": "x",
         "showticklabels": false
        },
        "xaxis9": {
         "anchor": "y9",
         "domain": [
          0.33999999999999997,
          0.49
         ],
         "matches": "x",
         "showticklabels": false
        },
        "yaxis": {
         "anchor": "x",
         "domain": [
          0,
          0.2866666666666666
         ],
         "range": [
          0.5,
          1.99
         ],
         "title": {
          "text": "value"
         }
        },
        "yaxis10": {
         "anchor": "x10",
         "domain": [
          0.35666666666666663,
          0.6433333333333333
         ],
         "matches": "y",
         "showticklabels": false
        },
        "yaxis11": {
         "anchor": "x11",
         "domain": [
          0.35666666666666663,
          0.6433333333333333
         ],
         "matches": "y",
         "showticklabels": false
        },
        "yaxis12": {
         "anchor": "x12",
         "domain": [
          0.35666666666666663,
          0.6433333333333333
         ],
         "matches": "y",
         "showticklabels": false
        },
        "yaxis13": {
         "anchor": "x13",
         "domain": [
          0.7133333333333333,
          0.9999999999999999
         ],
         "matches": "y",
         "range": [
          0.5,
          1.99
         ],
         "title": {
          "text": "value"
         }
        },
        "yaxis14": {
         "anchor": "x14",
         "domain": [
          0.7133333333333333,
          0.9999999999999999
         ],
         "matches": "y",
         "showticklabels": false
        },
        "yaxis15": {
         "anchor": "x15",
         "domain": [
          0.7133333333333333,
          0.9999999999999999
         ],
         "matches": "y",
         "showticklabels": false
        },
        "yaxis16": {
         "anchor": "x16",
         "domain": [
          0.7133333333333333,
          0.9999999999999999
         ],
         "matches": "y",
         "showticklabels": false
        },
        "yaxis17": {
         "anchor": "x17",
         "domain": [
          0.7133333333333333,
          0.9999999999999999
         ],
         "matches": "y",
         "showticklabels": false
        },
        "yaxis18": {
         "anchor": "x18",
         "domain": [
          0.7133333333333333,
          0.9999999999999999
         ],
         "matches": "y",
         "showticklabels": false
        },
        "yaxis2": {
         "anchor": "x2",
         "domain": [
          0,
          0.2866666666666666
         ],
         "matches": "y",
         "showticklabels": false
        },
        "yaxis3": {
         "anchor": "x3",
         "domain": [
          0,
          0.2866666666666666
         ],
         "matches": "y",
         "showticklabels": false
        },
        "yaxis4": {
         "anchor": "x4",
         "domain": [
          0,
          0.2866666666666666
         ],
         "matches": "y",
         "showticklabels": false
        },
        "yaxis5": {
         "anchor": "x5",
         "domain": [
          0,
          0.2866666666666666
         ],
         "matches": "y",
         "showticklabels": false
        },
        "yaxis6": {
         "anchor": "x6",
         "domain": [
          0,
          0.2866666666666666
         ],
         "matches": "y",
         "showticklabels": false
        },
        "yaxis7": {
         "anchor": "x7",
         "domain": [
          0.35666666666666663,
          0.6433333333333333
         ],
         "matches": "y",
         "range": [
          0.5,
          1.99
         ],
         "title": {
          "text": "value"
         }
        },
        "yaxis8": {
         "anchor": "x8",
         "domain": [
          0.35666666666666663,
          0.6433333333333333
         ],
         "matches": "y",
         "showticklabels": false
        },
        "yaxis9": {
         "anchor": "x9",
         "domain": [
          0.35666666666666663,
          0.6433333333333333
         ],
         "matches": "y",
         "showticklabels": false
        }
       }
      }
     },
     "metadata": {},
     "output_type": "display_data"
    }
   ],
   "source": [
    "get_variacion_tarifas(data_2022,2022,division_oficial,'Base')"
   ]
  },
  {
   "cell_type": "code",
   "execution_count": 140,
   "metadata": {},
   "outputs": [
    {
     "data": {
      "text/plain": [
       "0.0"
      ]
     },
     "execution_count": 140,
     "metadata": {},
     "output_type": "execute_result"
    }
   ],
   "source": [
    "t.reset_index().Valor['std'].sum()"
   ]
  },
  {
   "cell_type": "code",
   "execution_count": 112,
   "metadata": {},
   "outputs": [
    {
     "data": {
      "text/html": [
       "<div>\n",
       "<style scoped>\n",
       "    .dataframe tbody tr th:only-of-type {\n",
       "        vertical-align: middle;\n",
       "    }\n",
       "\n",
       "    .dataframe tbody tr th {\n",
       "        vertical-align: top;\n",
       "    }\n",
       "\n",
       "    .dataframe thead th {\n",
       "        text-align: right;\n",
       "    }\n",
       "</style>\n",
       "<table border=\"1\" class=\"dataframe\">\n",
       "  <thead>\n",
       "    <tr style=\"text-align: right;\">\n",
       "      <th>division</th>\n",
       "      <th>BAJA CALIFORNIA</th>\n",
       "      <th>BAJA CALIFORNIA SUR</th>\n",
       "      <th>BAJÍO</th>\n",
       "      <th>CENTRO OCCIDENTE</th>\n",
       "      <th>CENTRO ORIENTE</th>\n",
       "      <th>CENTRO SUR</th>\n",
       "      <th>GOLFO CENTRO</th>\n",
       "      <th>GOLFO NORTE</th>\n",
       "      <th>JALISCO</th>\n",
       "      <th>NOROESTE</th>\n",
       "      <th>NORTE</th>\n",
       "      <th>ORIENTE</th>\n",
       "      <th>PENINSULAR</th>\n",
       "      <th>SURESTE</th>\n",
       "      <th>VALLE DE MÉXICO CENTRO</th>\n",
       "      <th>VALLE DE MÉXICO NORTE</th>\n",
       "      <th>VALLE DE MÉXICO SUR</th>\n",
       "    </tr>\n",
       "    <tr>\n",
       "      <th>date</th>\n",
       "      <th></th>\n",
       "      <th></th>\n",
       "      <th></th>\n",
       "      <th></th>\n",
       "      <th></th>\n",
       "      <th></th>\n",
       "      <th></th>\n",
       "      <th></th>\n",
       "      <th></th>\n",
       "      <th></th>\n",
       "      <th></th>\n",
       "      <th></th>\n",
       "      <th></th>\n",
       "      <th></th>\n",
       "      <th></th>\n",
       "      <th></th>\n",
       "      <th></th>\n",
       "    </tr>\n",
       "  </thead>\n",
       "  <tbody>\n",
       "    <tr>\n",
       "      <th>2020-01-01</th>\n",
       "      <td>0.5492</td>\n",
       "      <td>1.8557</td>\n",
       "      <td>0.9394</td>\n",
       "      <td>0.9375</td>\n",
       "      <td>0.9352</td>\n",
       "      <td>0.8608</td>\n",
       "      <td>0.8914</td>\n",
       "      <td>0.9098</td>\n",
       "      <td>0.9034</td>\n",
       "      <td>0.8644</td>\n",
       "      <td>0.9101</td>\n",
       "      <td>0.8287</td>\n",
       "      <td>1.0971</td>\n",
       "      <td>0.9006</td>\n",
       "      <td>0.9862</td>\n",
       "      <td>0.9836</td>\n",
       "      <td>0.9933</td>\n",
       "    </tr>\n",
       "    <tr>\n",
       "      <th>2020-02-01</th>\n",
       "      <td>0.5464</td>\n",
       "      <td>1.8432</td>\n",
       "      <td>0.9338</td>\n",
       "      <td>0.9318</td>\n",
       "      <td>0.9295</td>\n",
       "      <td>0.8557</td>\n",
       "      <td>0.8861</td>\n",
       "      <td>0.9044</td>\n",
       "      <td>0.8980</td>\n",
       "      <td>0.8593</td>\n",
       "      <td>0.9047</td>\n",
       "      <td>0.8239</td>\n",
       "      <td>1.0903</td>\n",
       "      <td>0.8953</td>\n",
       "      <td>0.9802</td>\n",
       "      <td>0.9776</td>\n",
       "      <td>0.9872</td>\n",
       "    </tr>\n",
       "    <tr>\n",
       "      <th>2020-03-01</th>\n",
       "      <td>0.5488</td>\n",
       "      <td>1.8540</td>\n",
       "      <td>0.9387</td>\n",
       "      <td>0.9367</td>\n",
       "      <td>0.9344</td>\n",
       "      <td>0.8600</td>\n",
       "      <td>0.8907</td>\n",
       "      <td>0.9091</td>\n",
       "      <td>0.9026</td>\n",
       "      <td>0.8637</td>\n",
       "      <td>0.9094</td>\n",
       "      <td>0.8280</td>\n",
       "      <td>1.0962</td>\n",
       "      <td>0.8999</td>\n",
       "      <td>0.9854</td>\n",
       "      <td>0.9828</td>\n",
       "      <td>0.9924</td>\n",
       "    </tr>\n",
       "    <tr>\n",
       "      <th>2020-04-01</th>\n",
       "      <td>0.5512</td>\n",
       "      <td>1.8646</td>\n",
       "      <td>0.9435</td>\n",
       "      <td>0.9415</td>\n",
       "      <td>0.9392</td>\n",
       "      <td>0.8644</td>\n",
       "      <td>0.8952</td>\n",
       "      <td>0.9137</td>\n",
       "      <td>0.9072</td>\n",
       "      <td>0.8681</td>\n",
       "      <td>0.9140</td>\n",
       "      <td>0.8321</td>\n",
       "      <td>1.1020</td>\n",
       "      <td>0.9045</td>\n",
       "      <td>0.9905</td>\n",
       "      <td>0.9879</td>\n",
       "      <td>0.9976</td>\n",
       "    </tr>\n",
       "    <tr>\n",
       "      <th>2020-05-01</th>\n",
       "      <td>0.5471</td>\n",
       "      <td>1.8464</td>\n",
       "      <td>0.9352</td>\n",
       "      <td>0.9332</td>\n",
       "      <td>0.9309</td>\n",
       "      <td>0.8570</td>\n",
       "      <td>0.8875</td>\n",
       "      <td>0.9058</td>\n",
       "      <td>0.8994</td>\n",
       "      <td>0.8606</td>\n",
       "      <td>0.9061</td>\n",
       "      <td>0.8251</td>\n",
       "      <td>1.0920</td>\n",
       "      <td>0.8966</td>\n",
       "      <td>0.9817</td>\n",
       "      <td>0.9791</td>\n",
       "      <td>0.9888</td>\n",
       "    </tr>\n",
       "    <tr>\n",
       "      <th>2020-06-01</th>\n",
       "      <td>0.5437</td>\n",
       "      <td>1.8305</td>\n",
       "      <td>0.9280</td>\n",
       "      <td>0.9261</td>\n",
       "      <td>0.9238</td>\n",
       "      <td>0.8505</td>\n",
       "      <td>0.8807</td>\n",
       "      <td>0.8989</td>\n",
       "      <td>0.8925</td>\n",
       "      <td>0.8541</td>\n",
       "      <td>0.8992</td>\n",
       "      <td>0.8189</td>\n",
       "      <td>1.0833</td>\n",
       "      <td>0.8898</td>\n",
       "      <td>0.9741</td>\n",
       "      <td>0.9715</td>\n",
       "      <td>0.9810</td>\n",
       "    </tr>\n",
       "    <tr>\n",
       "      <th>2020-07-01</th>\n",
       "      <td>0.5350</td>\n",
       "      <td>1.7911</td>\n",
       "      <td>0.9102</td>\n",
       "      <td>0.9083</td>\n",
       "      <td>0.9060</td>\n",
       "      <td>0.8345</td>\n",
       "      <td>0.8640</td>\n",
       "      <td>0.8817</td>\n",
       "      <td>0.8755</td>\n",
       "      <td>0.8381</td>\n",
       "      <td>0.8820</td>\n",
       "      <td>0.8037</td>\n",
       "      <td>1.0618</td>\n",
       "      <td>0.8729</td>\n",
       "      <td>0.9552</td>\n",
       "      <td>0.9527</td>\n",
       "      <td>0.9619</td>\n",
       "    </tr>\n",
       "    <tr>\n",
       "      <th>2020-08-01</th>\n",
       "      <td>0.5297</td>\n",
       "      <td>1.7667</td>\n",
       "      <td>0.8992</td>\n",
       "      <td>0.8973</td>\n",
       "      <td>0.8951</td>\n",
       "      <td>0.8246</td>\n",
       "      <td>0.8537</td>\n",
       "      <td>0.8711</td>\n",
       "      <td>0.8650</td>\n",
       "      <td>0.8281</td>\n",
       "      <td>0.8714</td>\n",
       "      <td>0.7943</td>\n",
       "      <td>1.0485</td>\n",
       "      <td>0.8624</td>\n",
       "      <td>0.9435</td>\n",
       "      <td>0.9410</td>\n",
       "      <td>0.9501</td>\n",
       "    </tr>\n",
       "    <tr>\n",
       "      <th>2020-09-01</th>\n",
       "      <td>0.5197</td>\n",
       "      <td>1.7216</td>\n",
       "      <td>0.8787</td>\n",
       "      <td>0.8769</td>\n",
       "      <td>0.8748</td>\n",
       "      <td>0.8063</td>\n",
       "      <td>0.8346</td>\n",
       "      <td>0.8515</td>\n",
       "      <td>0.8456</td>\n",
       "      <td>0.8097</td>\n",
       "      <td>0.8518</td>\n",
       "      <td>0.7768</td>\n",
       "      <td>1.0238</td>\n",
       "      <td>0.8430</td>\n",
       "      <td>0.9218</td>\n",
       "      <td>0.9194</td>\n",
       "      <td>0.9283</td>\n",
       "    </tr>\n",
       "    <tr>\n",
       "      <th>2020-10-01</th>\n",
       "      <td>0.5198</td>\n",
       "      <td>1.7219</td>\n",
       "      <td>0.8789</td>\n",
       "      <td>0.8770</td>\n",
       "      <td>0.8749</td>\n",
       "      <td>0.8065</td>\n",
       "      <td>0.8347</td>\n",
       "      <td>0.8516</td>\n",
       "      <td>0.8457</td>\n",
       "      <td>0.8098</td>\n",
       "      <td>0.8519</td>\n",
       "      <td>0.7770</td>\n",
       "      <td>1.0240</td>\n",
       "      <td>0.8432</td>\n",
       "      <td>0.9219</td>\n",
       "      <td>0.9195</td>\n",
       "      <td>0.9284</td>\n",
       "    </tr>\n",
       "    <tr>\n",
       "      <th>2020-11-01</th>\n",
       "      <td>0.5199</td>\n",
       "      <td>1.7223</td>\n",
       "      <td>0.8791</td>\n",
       "      <td>0.8772</td>\n",
       "      <td>0.8751</td>\n",
       "      <td>0.8066</td>\n",
       "      <td>0.8349</td>\n",
       "      <td>0.8518</td>\n",
       "      <td>0.8459</td>\n",
       "      <td>0.8100</td>\n",
       "      <td>0.8521</td>\n",
       "      <td>0.7771</td>\n",
       "      <td>1.0242</td>\n",
       "      <td>0.8433</td>\n",
       "      <td>0.9221</td>\n",
       "      <td>0.9197</td>\n",
       "      <td>0.9286</td>\n",
       "    </tr>\n",
       "    <tr>\n",
       "      <th>2020-12-01</th>\n",
       "      <td>0.5195</td>\n",
       "      <td>1.7203</td>\n",
       "      <td>0.8782</td>\n",
       "      <td>0.8763</td>\n",
       "      <td>0.8742</td>\n",
       "      <td>0.8058</td>\n",
       "      <td>0.8340</td>\n",
       "      <td>0.8509</td>\n",
       "      <td>0.8450</td>\n",
       "      <td>0.8092</td>\n",
       "      <td>0.8512</td>\n",
       "      <td>0.7764</td>\n",
       "      <td>1.0231</td>\n",
       "      <td>0.8425</td>\n",
       "      <td>0.9212</td>\n",
       "      <td>0.9188</td>\n",
       "      <td>0.9276</td>\n",
       "    </tr>\n",
       "  </tbody>\n",
       "</table>\n",
       "</div>"
      ],
      "text/plain": [
       "division    BAJA CALIFORNIA  BAJA CALIFORNIA SUR   BAJÍO  CENTRO OCCIDENTE  \\\n",
       "date                                                                         \n",
       "2020-01-01           0.5492               1.8557  0.9394            0.9375   \n",
       "2020-02-01           0.5464               1.8432  0.9338            0.9318   \n",
       "2020-03-01           0.5488               1.8540  0.9387            0.9367   \n",
       "2020-04-01           0.5512               1.8646  0.9435            0.9415   \n",
       "2020-05-01           0.5471               1.8464  0.9352            0.9332   \n",
       "2020-06-01           0.5437               1.8305  0.9280            0.9261   \n",
       "2020-07-01           0.5350               1.7911  0.9102            0.9083   \n",
       "2020-08-01           0.5297               1.7667  0.8992            0.8973   \n",
       "2020-09-01           0.5197               1.7216  0.8787            0.8769   \n",
       "2020-10-01           0.5198               1.7219  0.8789            0.8770   \n",
       "2020-11-01           0.5199               1.7223  0.8791            0.8772   \n",
       "2020-12-01           0.5195               1.7203  0.8782            0.8763   \n",
       "\n",
       "division    CENTRO ORIENTE  CENTRO SUR  GOLFO CENTRO  GOLFO NORTE  JALISCO  \\\n",
       "date                                                                         \n",
       "2020-01-01          0.9352      0.8608        0.8914       0.9098   0.9034   \n",
       "2020-02-01          0.9295      0.8557        0.8861       0.9044   0.8980   \n",
       "2020-03-01          0.9344      0.8600        0.8907       0.9091   0.9026   \n",
       "2020-04-01          0.9392      0.8644        0.8952       0.9137   0.9072   \n",
       "2020-05-01          0.9309      0.8570        0.8875       0.9058   0.8994   \n",
       "2020-06-01          0.9238      0.8505        0.8807       0.8989   0.8925   \n",
       "2020-07-01          0.9060      0.8345        0.8640       0.8817   0.8755   \n",
       "2020-08-01          0.8951      0.8246        0.8537       0.8711   0.8650   \n",
       "2020-09-01          0.8748      0.8063        0.8346       0.8515   0.8456   \n",
       "2020-10-01          0.8749      0.8065        0.8347       0.8516   0.8457   \n",
       "2020-11-01          0.8751      0.8066        0.8349       0.8518   0.8459   \n",
       "2020-12-01          0.8742      0.8058        0.8340       0.8509   0.8450   \n",
       "\n",
       "division    NOROESTE   NORTE  ORIENTE  PENINSULAR  SURESTE  \\\n",
       "date                                                         \n",
       "2020-01-01    0.8644  0.9101   0.8287      1.0971   0.9006   \n",
       "2020-02-01    0.8593  0.9047   0.8239      1.0903   0.8953   \n",
       "2020-03-01    0.8637  0.9094   0.8280      1.0962   0.8999   \n",
       "2020-04-01    0.8681  0.9140   0.8321      1.1020   0.9045   \n",
       "2020-05-01    0.8606  0.9061   0.8251      1.0920   0.8966   \n",
       "2020-06-01    0.8541  0.8992   0.8189      1.0833   0.8898   \n",
       "2020-07-01    0.8381  0.8820   0.8037      1.0618   0.8729   \n",
       "2020-08-01    0.8281  0.8714   0.7943      1.0485   0.8624   \n",
       "2020-09-01    0.8097  0.8518   0.7768      1.0238   0.8430   \n",
       "2020-10-01    0.8098  0.8519   0.7770      1.0240   0.8432   \n",
       "2020-11-01    0.8100  0.8521   0.7771      1.0242   0.8433   \n",
       "2020-12-01    0.8092  0.8512   0.7764      1.0231   0.8425   \n",
       "\n",
       "division    VALLE DE MÉXICO CENTRO  VALLE DE MÉXICO NORTE  VALLE DE MÉXICO SUR  \n",
       "date                                                                            \n",
       "2020-01-01                  0.9862                 0.9836               0.9933  \n",
       "2020-02-01                  0.9802                 0.9776               0.9872  \n",
       "2020-03-01                  0.9854                 0.9828               0.9924  \n",
       "2020-04-01                  0.9905                 0.9879               0.9976  \n",
       "2020-05-01                  0.9817                 0.9791               0.9888  \n",
       "2020-06-01                  0.9741                 0.9715               0.9810  \n",
       "2020-07-01                  0.9552                 0.9527               0.9619  \n",
       "2020-08-01                  0.9435                 0.9410               0.9501  \n",
       "2020-09-01                  0.9218                 0.9194               0.9283  \n",
       "2020-10-01                  0.9219                 0.9195               0.9284  \n",
       "2020-11-01                  0.9221                 0.9197               0.9286  \n",
       "2020-12-01                  0.9212                 0.9188               0.9276  "
      ]
     },
     "execution_count": 112,
     "metadata": {},
     "output_type": "execute_result"
    }
   ],
   "source": [
    "t.reset_index().pivot(index='date', columns='division', values=('Valor', 'mean'))"
   ]
  },
  {
   "cell_type": "code",
   "execution_count": 136,
   "metadata": {},
   "outputs": [
    {
     "data": {
      "application/vnd.plotly.v1+json": {
       "config": {
        "plotlyServerURL": "https://plot.ly"
       },
       "data": [
        {
         "fillpattern": {
          "shape": ""
         },
         "hovertemplate": "division=BAJA CALIFORNIA<br>date=%{x}<br>value=%{y}<extra></extra>",
         "legendgroup": "BAJA CALIFORNIA",
         "line": {
          "color": "#636efa"
         },
         "marker": {
          "symbol": "circle"
         },
         "mode": "markers+lines",
         "name": "BAJA CALIFORNIA",
         "orientation": "v",
         "showlegend": true,
         "stackgroup": "1",
         "type": "scatter",
         "x": [
          "2020-01-01T00:00:00",
          "2020-02-01T00:00:00",
          "2020-03-01T00:00:00",
          "2020-04-01T00:00:00",
          "2020-05-01T00:00:00",
          "2020-06-01T00:00:00",
          "2020-07-01T00:00:00",
          "2020-08-01T00:00:00",
          "2020-09-01T00:00:00",
          "2020-10-01T00:00:00",
          "2020-11-01T00:00:00",
          "2020-12-01T00:00:00"
         ],
         "xaxis": "x13",
         "y": [
          0.5492,
          0.5464,
          0.5488,
          0.5512,
          0.5471,
          0.5437,
          0.535,
          0.5297,
          0.5197,
          0.5198,
          0.5199,
          0.5195
         ],
         "yaxis": "y13"
        },
        {
         "fillpattern": {
          "shape": ""
         },
         "hovertemplate": "division=BAJA CALIFORNIA SUR<br>date=%{x}<br>value=%{y}<extra></extra>",
         "legendgroup": "BAJA CALIFORNIA SUR",
         "line": {
          "color": "#EF553B"
         },
         "marker": {
          "symbol": "circle"
         },
         "mode": "markers+lines",
         "name": "BAJA CALIFORNIA SUR",
         "orientation": "v",
         "showlegend": true,
         "stackgroup": "1",
         "type": "scatter",
         "x": [
          "2020-01-01T00:00:00",
          "2020-02-01T00:00:00",
          "2020-03-01T00:00:00",
          "2020-04-01T00:00:00",
          "2020-05-01T00:00:00",
          "2020-06-01T00:00:00",
          "2020-07-01T00:00:00",
          "2020-08-01T00:00:00",
          "2020-09-01T00:00:00",
          "2020-10-01T00:00:00",
          "2020-11-01T00:00:00",
          "2020-12-01T00:00:00"
         ],
         "xaxis": "x14",
         "y": [
          1.8557,
          1.8432,
          1.8539999999999999,
          1.8646,
          1.8463999999999998,
          1.8305,
          1.7910999999999997,
          1.7666999999999997,
          1.7216,
          1.7219000000000002,
          1.7223,
          1.7203
         ],
         "yaxis": "y14"
        },
        {
         "fillpattern": {
          "shape": ""
         },
         "hovertemplate": "division=BAJÍO<br>date=%{x}<br>value=%{y}<extra></extra>",
         "legendgroup": "BAJÍO",
         "line": {
          "color": "#00cc96"
         },
         "marker": {
          "symbol": "circle"
         },
         "mode": "markers+lines",
         "name": "BAJÍO",
         "orientation": "v",
         "showlegend": true,
         "stackgroup": "1",
         "type": "scatter",
         "x": [
          "2020-01-01T00:00:00",
          "2020-02-01T00:00:00",
          "2020-03-01T00:00:00",
          "2020-04-01T00:00:00",
          "2020-05-01T00:00:00",
          "2020-06-01T00:00:00",
          "2020-07-01T00:00:00",
          "2020-08-01T00:00:00",
          "2020-09-01T00:00:00",
          "2020-10-01T00:00:00",
          "2020-11-01T00:00:00",
          "2020-12-01T00:00:00"
         ],
         "xaxis": "x15",
         "y": [
          0.9394,
          0.9338,
          0.9387,
          0.9435,
          0.9352,
          0.928,
          0.9102,
          0.8992,
          0.8787,
          0.8789,
          0.8791,
          0.8781999999999999
         ],
         "yaxis": "y15"
        },
        {
         "fillpattern": {
          "shape": ""
         },
         "hovertemplate": "division=CENTRO OCCIDENTE<br>date=%{x}<br>value=%{y}<extra></extra>",
         "legendgroup": "CENTRO OCCIDENTE",
         "line": {
          "color": "#ab63fa"
         },
         "marker": {
          "symbol": "circle"
         },
         "mode": "markers+lines",
         "name": "CENTRO OCCIDENTE",
         "orientation": "v",
         "showlegend": true,
         "stackgroup": "1",
         "type": "scatter",
         "x": [
          "2020-01-01T00:00:00",
          "2020-02-01T00:00:00",
          "2020-03-01T00:00:00",
          "2020-04-01T00:00:00",
          "2020-05-01T00:00:00",
          "2020-06-01T00:00:00",
          "2020-07-01T00:00:00",
          "2020-08-01T00:00:00",
          "2020-09-01T00:00:00",
          "2020-10-01T00:00:00",
          "2020-11-01T00:00:00",
          "2020-12-01T00:00:00"
         ],
         "xaxis": "x16",
         "y": [
          0.9375,
          0.9317999999999999,
          0.9367,
          0.9415,
          0.9332000000000001,
          0.9260999999999999,
          0.9083,
          0.8973,
          0.8769,
          0.8770000000000001,
          0.8771999999999999,
          0.8763
         ],
         "yaxis": "y16"
        },
        {
         "fillpattern": {
          "shape": ""
         },
         "hovertemplate": "division=CENTRO ORIENTE<br>date=%{x}<br>value=%{y}<extra></extra>",
         "legendgroup": "CENTRO ORIENTE",
         "line": {
          "color": "#FFA15A"
         },
         "marker": {
          "symbol": "circle"
         },
         "mode": "markers+lines",
         "name": "CENTRO ORIENTE",
         "orientation": "v",
         "showlegend": true,
         "stackgroup": "1",
         "type": "scatter",
         "x": [
          "2020-01-01T00:00:00",
          "2020-02-01T00:00:00",
          "2020-03-01T00:00:00",
          "2020-04-01T00:00:00",
          "2020-05-01T00:00:00",
          "2020-06-01T00:00:00",
          "2020-07-01T00:00:00",
          "2020-08-01T00:00:00",
          "2020-09-01T00:00:00",
          "2020-10-01T00:00:00",
          "2020-11-01T00:00:00",
          "2020-12-01T00:00:00"
         ],
         "xaxis": "x17",
         "y": [
          0.9352,
          0.9295000000000001,
          0.9344,
          0.9391999999999999,
          0.9309,
          0.9238,
          0.906,
          0.8951000000000001,
          0.8748,
          0.8749000000000001,
          0.8750999999999999,
          0.8742
         ],
         "yaxis": "y17"
        },
        {
         "fillpattern": {
          "shape": ""
         },
         "hovertemplate": "division=CENTRO SUR<br>date=%{x}<br>value=%{y}<extra></extra>",
         "legendgroup": "CENTRO SUR",
         "line": {
          "color": "#19d3f3"
         },
         "marker": {
          "symbol": "circle"
         },
         "mode": "markers+lines",
         "name": "CENTRO SUR",
         "orientation": "v",
         "showlegend": true,
         "stackgroup": "1",
         "type": "scatter",
         "x": [
          "2020-01-01T00:00:00",
          "2020-02-01T00:00:00",
          "2020-03-01T00:00:00",
          "2020-04-01T00:00:00",
          "2020-05-01T00:00:00",
          "2020-06-01T00:00:00",
          "2020-07-01T00:00:00",
          "2020-08-01T00:00:00",
          "2020-09-01T00:00:00",
          "2020-10-01T00:00:00",
          "2020-11-01T00:00:00",
          "2020-12-01T00:00:00"
         ],
         "xaxis": "x18",
         "y": [
          0.8608,
          0.8557000000000001,
          0.86,
          0.8644000000000001,
          0.857,
          0.8505,
          0.8345,
          0.8246,
          0.8063,
          0.8065,
          0.8066,
          0.8058
         ],
         "yaxis": "y18"
        },
        {
         "fillpattern": {
          "shape": ""
         },
         "hovertemplate": "division=GOLFO CENTRO<br>date=%{x}<br>value=%{y}<extra></extra>",
         "legendgroup": "GOLFO CENTRO",
         "line": {
          "color": "#FF6692"
         },
         "marker": {
          "symbol": "circle"
         },
         "mode": "markers+lines",
         "name": "GOLFO CENTRO",
         "orientation": "v",
         "showlegend": true,
         "stackgroup": "1",
         "type": "scatter",
         "x": [
          "2020-01-01T00:00:00",
          "2020-02-01T00:00:00",
          "2020-03-01T00:00:00",
          "2020-04-01T00:00:00",
          "2020-05-01T00:00:00",
          "2020-06-01T00:00:00",
          "2020-07-01T00:00:00",
          "2020-08-01T00:00:00",
          "2020-09-01T00:00:00",
          "2020-10-01T00:00:00",
          "2020-11-01T00:00:00",
          "2020-12-01T00:00:00"
         ],
         "xaxis": "x7",
         "y": [
          0.8914,
          0.8861,
          0.8907,
          0.8952,
          0.8875,
          0.8807,
          0.864,
          0.8537,
          0.8346,
          0.8347,
          0.8349,
          0.834
         ],
         "yaxis": "y7"
        },
        {
         "fillpattern": {
          "shape": ""
         },
         "hovertemplate": "division=GOLFO NORTE<br>date=%{x}<br>value=%{y}<extra></extra>",
         "legendgroup": "GOLFO NORTE",
         "line": {
          "color": "#B6E880"
         },
         "marker": {
          "symbol": "circle"
         },
         "mode": "markers+lines",
         "name": "GOLFO NORTE",
         "orientation": "v",
         "showlegend": true,
         "stackgroup": "1",
         "type": "scatter",
         "x": [
          "2020-01-01T00:00:00",
          "2020-02-01T00:00:00",
          "2020-03-01T00:00:00",
          "2020-04-01T00:00:00",
          "2020-05-01T00:00:00",
          "2020-06-01T00:00:00",
          "2020-07-01T00:00:00",
          "2020-08-01T00:00:00",
          "2020-09-01T00:00:00",
          "2020-10-01T00:00:00",
          "2020-11-01T00:00:00",
          "2020-12-01T00:00:00"
         ],
         "xaxis": "x8",
         "y": [
          0.9098,
          0.9044,
          0.9091,
          0.9136999999999998,
          0.9058,
          0.8988999999999999,
          0.8817000000000002,
          0.8711,
          0.8515,
          0.8516,
          0.8518000000000001,
          0.8509
         ],
         "yaxis": "y8"
        },
        {
         "fillpattern": {
          "shape": ""
         },
         "hovertemplate": "division=JALISCO<br>date=%{x}<br>value=%{y}<extra></extra>",
         "legendgroup": "JALISCO",
         "line": {
          "color": "#FF97FF"
         },
         "marker": {
          "symbol": "circle"
         },
         "mode": "markers+lines",
         "name": "JALISCO",
         "orientation": "v",
         "showlegend": true,
         "stackgroup": "1",
         "type": "scatter",
         "x": [
          "2020-01-01T00:00:00",
          "2020-02-01T00:00:00",
          "2020-03-01T00:00:00",
          "2020-04-01T00:00:00",
          "2020-05-01T00:00:00",
          "2020-06-01T00:00:00",
          "2020-07-01T00:00:00",
          "2020-08-01T00:00:00",
          "2020-09-01T00:00:00",
          "2020-10-01T00:00:00",
          "2020-11-01T00:00:00",
          "2020-12-01T00:00:00"
         ],
         "xaxis": "x9",
         "y": [
          0.9034,
          0.898,
          0.9026,
          0.9072,
          0.8994,
          0.8925,
          0.8755,
          0.865,
          0.8456,
          0.8457,
          0.8459000000000001,
          0.845
         ],
         "yaxis": "y9"
        },
        {
         "fillpattern": {
          "shape": ""
         },
         "hovertemplate": "division=NOROESTE<br>date=%{x}<br>value=%{y}<extra></extra>",
         "legendgroup": "NOROESTE",
         "line": {
          "color": "#FECB52"
         },
         "marker": {
          "symbol": "circle"
         },
         "mode": "markers+lines",
         "name": "NOROESTE",
         "orientation": "v",
         "showlegend": true,
         "stackgroup": "1",
         "type": "scatter",
         "x": [
          "2020-01-01T00:00:00",
          "2020-02-01T00:00:00",
          "2020-03-01T00:00:00",
          "2020-04-01T00:00:00",
          "2020-05-01T00:00:00",
          "2020-06-01T00:00:00",
          "2020-07-01T00:00:00",
          "2020-08-01T00:00:00",
          "2020-09-01T00:00:00",
          "2020-10-01T00:00:00",
          "2020-11-01T00:00:00",
          "2020-12-01T00:00:00"
         ],
         "xaxis": "x10",
         "y": [
          0.8644,
          0.8593,
          0.8637,
          0.8681,
          0.8606,
          0.8541000000000001,
          0.8381,
          0.8281,
          0.8096999999999999,
          0.8098,
          0.8100000000000002,
          0.8092
         ],
         "yaxis": "y10"
        },
        {
         "fillpattern": {
          "shape": ""
         },
         "hovertemplate": "division=NORTE<br>date=%{x}<br>value=%{y}<extra></extra>",
         "legendgroup": "NORTE",
         "line": {
          "color": "#636efa"
         },
         "marker": {
          "symbol": "circle"
         },
         "mode": "markers+lines",
         "name": "NORTE",
         "orientation": "v",
         "showlegend": true,
         "stackgroup": "1",
         "type": "scatter",
         "x": [
          "2020-01-01T00:00:00",
          "2020-02-01T00:00:00",
          "2020-03-01T00:00:00",
          "2020-04-01T00:00:00",
          "2020-05-01T00:00:00",
          "2020-06-01T00:00:00",
          "2020-07-01T00:00:00",
          "2020-08-01T00:00:00",
          "2020-09-01T00:00:00",
          "2020-10-01T00:00:00",
          "2020-11-01T00:00:00",
          "2020-12-01T00:00:00"
         ],
         "xaxis": "x11",
         "y": [
          0.9101,
          0.9046999999999998,
          0.9094,
          0.914,
          0.9061,
          0.8992,
          0.882,
          0.8714,
          0.8518,
          0.8519,
          0.8521,
          0.8512
         ],
         "yaxis": "y11"
        },
        {
         "fillpattern": {
          "shape": ""
         },
         "hovertemplate": "division=ORIENTE<br>date=%{x}<br>value=%{y}<extra></extra>",
         "legendgroup": "ORIENTE",
         "line": {
          "color": "#EF553B"
         },
         "marker": {
          "symbol": "circle"
         },
         "mode": "markers+lines",
         "name": "ORIENTE",
         "orientation": "v",
         "showlegend": true,
         "stackgroup": "1",
         "type": "scatter",
         "x": [
          "2020-01-01T00:00:00",
          "2020-02-01T00:00:00",
          "2020-03-01T00:00:00",
          "2020-04-01T00:00:00",
          "2020-05-01T00:00:00",
          "2020-06-01T00:00:00",
          "2020-07-01T00:00:00",
          "2020-08-01T00:00:00",
          "2020-09-01T00:00:00",
          "2020-10-01T00:00:00",
          "2020-11-01T00:00:00",
          "2020-12-01T00:00:00"
         ],
         "xaxis": "x12",
         "y": [
          0.8287,
          0.8239,
          0.828,
          0.8321,
          0.8251,
          0.8189,
          0.8037,
          0.7943,
          0.7768,
          0.777,
          0.7771,
          0.7764
         ],
         "yaxis": "y12"
        },
        {
         "fillpattern": {
          "shape": ""
         },
         "hovertemplate": "division=PENINSULAR<br>date=%{x}<br>value=%{y}<extra></extra>",
         "legendgroup": "PENINSULAR",
         "line": {
          "color": "#00cc96"
         },
         "marker": {
          "symbol": "circle"
         },
         "mode": "markers+lines",
         "name": "PENINSULAR",
         "orientation": "v",
         "showlegend": true,
         "stackgroup": "1",
         "type": "scatter",
         "x": [
          "2020-01-01T00:00:00",
          "2020-02-01T00:00:00",
          "2020-03-01T00:00:00",
          "2020-04-01T00:00:00",
          "2020-05-01T00:00:00",
          "2020-06-01T00:00:00",
          "2020-07-01T00:00:00",
          "2020-08-01T00:00:00",
          "2020-09-01T00:00:00",
          "2020-10-01T00:00:00",
          "2020-11-01T00:00:00",
          "2020-12-01T00:00:00"
         ],
         "xaxis": "x",
         "y": [
          1.0971,
          1.0903,
          1.0962,
          1.102,
          1.092,
          1.0833,
          1.0618,
          1.0485,
          1.0238,
          1.024,
          1.0242,
          1.0231
         ],
         "yaxis": "y"
        },
        {
         "fillpattern": {
          "shape": ""
         },
         "hovertemplate": "division=SURESTE<br>date=%{x}<br>value=%{y}<extra></extra>",
         "legendgroup": "SURESTE",
         "line": {
          "color": "#ab63fa"
         },
         "marker": {
          "symbol": "circle"
         },
         "mode": "markers+lines",
         "name": "SURESTE",
         "orientation": "v",
         "showlegend": true,
         "stackgroup": "1",
         "type": "scatter",
         "x": [
          "2020-01-01T00:00:00",
          "2020-02-01T00:00:00",
          "2020-03-01T00:00:00",
          "2020-04-01T00:00:00",
          "2020-05-01T00:00:00",
          "2020-06-01T00:00:00",
          "2020-07-01T00:00:00",
          "2020-08-01T00:00:00",
          "2020-09-01T00:00:00",
          "2020-10-01T00:00:00",
          "2020-11-01T00:00:00",
          "2020-12-01T00:00:00"
         ],
         "xaxis": "x2",
         "y": [
          0.9005999999999998,
          0.8952999999999999,
          0.8999,
          0.9044999999999999,
          0.8966,
          0.8898,
          0.8728999999999999,
          0.8624,
          0.843,
          0.8432,
          0.8433,
          0.8425
         ],
         "yaxis": "y2"
        },
        {
         "fillpattern": {
          "shape": ""
         },
         "hovertemplate": "division=VALLE DE MÉXICO CENTRO<br>date=%{x}<br>value=%{y}<extra></extra>",
         "legendgroup": "VALLE DE MÉXICO CENTRO",
         "line": {
          "color": "#FFA15A"
         },
         "marker": {
          "symbol": "circle"
         },
         "mode": "markers+lines",
         "name": "VALLE DE MÉXICO CENTRO",
         "orientation": "v",
         "showlegend": true,
         "stackgroup": "1",
         "type": "scatter",
         "x": [
          "2020-01-01T00:00:00",
          "2020-02-01T00:00:00",
          "2020-03-01T00:00:00",
          "2020-04-01T00:00:00",
          "2020-05-01T00:00:00",
          "2020-06-01T00:00:00",
          "2020-07-01T00:00:00",
          "2020-08-01T00:00:00",
          "2020-09-01T00:00:00",
          "2020-10-01T00:00:00",
          "2020-11-01T00:00:00",
          "2020-12-01T00:00:00"
         ],
         "xaxis": "x3",
         "y": [
          0.9862,
          0.9802,
          0.9854,
          0.9905000000000002,
          0.9817,
          0.9741,
          0.9551999999999999,
          0.9435,
          0.9218,
          0.9219000000000002,
          0.9221,
          0.9212
         ],
         "yaxis": "y3"
        },
        {
         "fillpattern": {
          "shape": ""
         },
         "hovertemplate": "division=VALLE DE MÉXICO NORTE<br>date=%{x}<br>value=%{y}<extra></extra>",
         "legendgroup": "VALLE DE MÉXICO NORTE",
         "line": {
          "color": "#19d3f3"
         },
         "marker": {
          "symbol": "circle"
         },
         "mode": "markers+lines",
         "name": "VALLE DE MÉXICO NORTE",
         "orientation": "v",
         "showlegend": true,
         "stackgroup": "1",
         "type": "scatter",
         "x": [
          "2020-01-01T00:00:00",
          "2020-02-01T00:00:00",
          "2020-03-01T00:00:00",
          "2020-04-01T00:00:00",
          "2020-05-01T00:00:00",
          "2020-06-01T00:00:00",
          "2020-07-01T00:00:00",
          "2020-08-01T00:00:00",
          "2020-09-01T00:00:00",
          "2020-10-01T00:00:00",
          "2020-11-01T00:00:00",
          "2020-12-01T00:00:00"
         ],
         "xaxis": "x4",
         "y": [
          0.9836,
          0.9776,
          0.9828,
          0.9879,
          0.9791,
          0.9715,
          0.9527,
          0.941,
          0.9194,
          0.9195,
          0.9197,
          0.9188
         ],
         "yaxis": "y4"
        },
        {
         "fillpattern": {
          "shape": ""
         },
         "hovertemplate": "division=VALLE DE MÉXICO SUR<br>date=%{x}<br>value=%{y}<extra></extra>",
         "legendgroup": "VALLE DE MÉXICO SUR",
         "line": {
          "color": "#FF6692"
         },
         "marker": {
          "symbol": "circle"
         },
         "mode": "markers+lines",
         "name": "VALLE DE MÉXICO SUR",
         "orientation": "v",
         "showlegend": true,
         "stackgroup": "1",
         "type": "scatter",
         "x": [
          "2020-01-01T00:00:00",
          "2020-02-01T00:00:00",
          "2020-03-01T00:00:00",
          "2020-04-01T00:00:00",
          "2020-05-01T00:00:00",
          "2020-06-01T00:00:00",
          "2020-07-01T00:00:00",
          "2020-08-01T00:00:00",
          "2020-09-01T00:00:00",
          "2020-10-01T00:00:00",
          "2020-11-01T00:00:00",
          "2020-12-01T00:00:00"
         ],
         "xaxis": "x5",
         "y": [
          0.9933,
          0.9872,
          0.9924,
          0.9976000000000002,
          0.9887999999999999,
          0.981,
          0.9619,
          0.9501000000000001,
          0.9283,
          0.9284,
          0.9285999999999999,
          0.9276
         ],
         "yaxis": "y5"
        }
       ],
       "layout": {
        "annotations": [
         {
          "font": {},
          "showarrow": false,
          "text": "division=PENINSULAR",
          "x": 0.075,
          "xanchor": "center",
          "xref": "paper",
          "y": 0.2866666666666666,
          "yanchor": "bottom",
          "yref": "paper"
         },
         {
          "font": {},
          "showarrow": false,
          "text": "division=SURESTE",
          "x": 0.24499999999999997,
          "xanchor": "center",
          "xref": "paper",
          "y": 0.2866666666666666,
          "yanchor": "bottom",
          "yref": "paper"
         },
         {
          "font": {},
          "showarrow": false,
          "text": "division=VALLE DE MÉXICO CENTRO",
          "x": 0.415,
          "xanchor": "center",
          "xref": "paper",
          "y": 0.2866666666666666,
          "yanchor": "bottom",
          "yref": "paper"
         },
         {
          "font": {},
          "showarrow": false,
          "text": "division=VALLE DE MÉXICO NORTE",
          "x": 0.585,
          "xanchor": "center",
          "xref": "paper",
          "y": 0.2866666666666666,
          "yanchor": "bottom",
          "yref": "paper"
         },
         {
          "font": {},
          "showarrow": false,
          "text": "division=VALLE DE MÉXICO SUR",
          "x": 0.7549999999999999,
          "xanchor": "center",
          "xref": "paper",
          "y": 0.2866666666666666,
          "yanchor": "bottom",
          "yref": "paper"
         },
         {
          "font": {},
          "showarrow": false,
          "text": "division=GOLFO CENTRO",
          "x": 0.075,
          "xanchor": "center",
          "xref": "paper",
          "y": 0.6433333333333333,
          "yanchor": "bottom",
          "yref": "paper"
         },
         {
          "font": {},
          "showarrow": false,
          "text": "division=GOLFO NORTE",
          "x": 0.24499999999999997,
          "xanchor": "center",
          "xref": "paper",
          "y": 0.6433333333333333,
          "yanchor": "bottom",
          "yref": "paper"
         },
         {
          "font": {},
          "showarrow": false,
          "text": "division=JALISCO",
          "x": 0.415,
          "xanchor": "center",
          "xref": "paper",
          "y": 0.6433333333333333,
          "yanchor": "bottom",
          "yref": "paper"
         },
         {
          "font": {},
          "showarrow": false,
          "text": "division=NOROESTE",
          "x": 0.585,
          "xanchor": "center",
          "xref": "paper",
          "y": 0.6433333333333333,
          "yanchor": "bottom",
          "yref": "paper"
         },
         {
          "font": {},
          "showarrow": false,
          "text": "division=NORTE",
          "x": 0.7549999999999999,
          "xanchor": "center",
          "xref": "paper",
          "y": 0.6433333333333333,
          "yanchor": "bottom",
          "yref": "paper"
         },
         {
          "font": {},
          "showarrow": false,
          "text": "division=ORIENTE",
          "x": 0.925,
          "xanchor": "center",
          "xref": "paper",
          "y": 0.6433333333333333,
          "yanchor": "bottom",
          "yref": "paper"
         },
         {
          "font": {},
          "showarrow": false,
          "text": "division=BAJA CALIFORNIA",
          "x": 0.075,
          "xanchor": "center",
          "xref": "paper",
          "y": 0.9999999999999999,
          "yanchor": "bottom",
          "yref": "paper"
         },
         {
          "font": {},
          "showarrow": false,
          "text": "division=BAJA CALIFORNIA SUR",
          "x": 0.24499999999999997,
          "xanchor": "center",
          "xref": "paper",
          "y": 0.9999999999999999,
          "yanchor": "bottom",
          "yref": "paper"
         },
         {
          "font": {},
          "showarrow": false,
          "text": "division=BAJÍO",
          "x": 0.415,
          "xanchor": "center",
          "xref": "paper",
          "y": 0.9999999999999999,
          "yanchor": "bottom",
          "yref": "paper"
         },
         {
          "font": {},
          "showarrow": false,
          "text": "division=CENTRO OCCIDENTE",
          "x": 0.585,
          "xanchor": "center",
          "xref": "paper",
          "y": 0.9999999999999999,
          "yanchor": "bottom",
          "yref": "paper"
         },
         {
          "font": {},
          "showarrow": false,
          "text": "division=CENTRO ORIENTE",
          "x": 0.7549999999999999,
          "xanchor": "center",
          "xref": "paper",
          "y": 0.9999999999999999,
          "yanchor": "bottom",
          "yref": "paper"
         },
         {
          "font": {},
          "showarrow": false,
          "text": "division=CENTRO SUR",
          "x": 0.925,
          "xanchor": "center",
          "xref": "paper",
          "y": 0.9999999999999999,
          "yanchor": "bottom",
          "yref": "paper"
         }
        ],
        "height": 650,
        "legend": {
         "title": {
          "text": "division"
         },
         "tracegroupgap": 0
        },
        "template": {
         "data": {
          "bar": [
           {
            "error_x": {
             "color": "#2a3f5f"
            },
            "error_y": {
             "color": "#2a3f5f"
            },
            "marker": {
             "line": {
              "color": "white",
              "width": 0.5
             },
             "pattern": {
              "fillmode": "overlay",
              "size": 10,
              "solidity": 0.2
             }
            },
            "type": "bar"
           }
          ],
          "barpolar": [
           {
            "marker": {
             "line": {
              "color": "white",
              "width": 0.5
             },
             "pattern": {
              "fillmode": "overlay",
              "size": 10,
              "solidity": 0.2
             }
            },
            "type": "barpolar"
           }
          ],
          "carpet": [
           {
            "aaxis": {
             "endlinecolor": "#2a3f5f",
             "gridcolor": "#C8D4E3",
             "linecolor": "#C8D4E3",
             "minorgridcolor": "#C8D4E3",
             "startlinecolor": "#2a3f5f"
            },
            "baxis": {
             "endlinecolor": "#2a3f5f",
             "gridcolor": "#C8D4E3",
             "linecolor": "#C8D4E3",
             "minorgridcolor": "#C8D4E3",
             "startlinecolor": "#2a3f5f"
            },
            "type": "carpet"
           }
          ],
          "choropleth": [
           {
            "colorbar": {
             "outlinewidth": 0,
             "ticks": ""
            },
            "type": "choropleth"
           }
          ],
          "contour": [
           {
            "colorbar": {
             "outlinewidth": 0,
             "ticks": ""
            },
            "colorscale": [
             [
              0,
              "#0d0887"
             ],
             [
              0.1111111111111111,
              "#46039f"
             ],
             [
              0.2222222222222222,
              "#7201a8"
             ],
             [
              0.3333333333333333,
              "#9c179e"
             ],
             [
              0.4444444444444444,
              "#bd3786"
             ],
             [
              0.5555555555555556,
              "#d8576b"
             ],
             [
              0.6666666666666666,
              "#ed7953"
             ],
             [
              0.7777777777777778,
              "#fb9f3a"
             ],
             [
              0.8888888888888888,
              "#fdca26"
             ],
             [
              1,
              "#f0f921"
             ]
            ],
            "type": "contour"
           }
          ],
          "contourcarpet": [
           {
            "colorbar": {
             "outlinewidth": 0,
             "ticks": ""
            },
            "type": "contourcarpet"
           }
          ],
          "heatmap": [
           {
            "colorbar": {
             "outlinewidth": 0,
             "ticks": ""
            },
            "colorscale": [
             [
              0,
              "#0d0887"
             ],
             [
              0.1111111111111111,
              "#46039f"
             ],
             [
              0.2222222222222222,
              "#7201a8"
             ],
             [
              0.3333333333333333,
              "#9c179e"
             ],
             [
              0.4444444444444444,
              "#bd3786"
             ],
             [
              0.5555555555555556,
              "#d8576b"
             ],
             [
              0.6666666666666666,
              "#ed7953"
             ],
             [
              0.7777777777777778,
              "#fb9f3a"
             ],
             [
              0.8888888888888888,
              "#fdca26"
             ],
             [
              1,
              "#f0f921"
             ]
            ],
            "type": "heatmap"
           }
          ],
          "heatmapgl": [
           {
            "colorbar": {
             "outlinewidth": 0,
             "ticks": ""
            },
            "colorscale": [
             [
              0,
              "#0d0887"
             ],
             [
              0.1111111111111111,
              "#46039f"
             ],
             [
              0.2222222222222222,
              "#7201a8"
             ],
             [
              0.3333333333333333,
              "#9c179e"
             ],
             [
              0.4444444444444444,
              "#bd3786"
             ],
             [
              0.5555555555555556,
              "#d8576b"
             ],
             [
              0.6666666666666666,
              "#ed7953"
             ],
             [
              0.7777777777777778,
              "#fb9f3a"
             ],
             [
              0.8888888888888888,
              "#fdca26"
             ],
             [
              1,
              "#f0f921"
             ]
            ],
            "type": "heatmapgl"
           }
          ],
          "histogram": [
           {
            "marker": {
             "pattern": {
              "fillmode": "overlay",
              "size": 10,
              "solidity": 0.2
             }
            },
            "type": "histogram"
           }
          ],
          "histogram2d": [
           {
            "colorbar": {
             "outlinewidth": 0,
             "ticks": ""
            },
            "colorscale": [
             [
              0,
              "#0d0887"
             ],
             [
              0.1111111111111111,
              "#46039f"
             ],
             [
              0.2222222222222222,
              "#7201a8"
             ],
             [
              0.3333333333333333,
              "#9c179e"
             ],
             [
              0.4444444444444444,
              "#bd3786"
             ],
             [
              0.5555555555555556,
              "#d8576b"
             ],
             [
              0.6666666666666666,
              "#ed7953"
             ],
             [
              0.7777777777777778,
              "#fb9f3a"
             ],
             [
              0.8888888888888888,
              "#fdca26"
             ],
             [
              1,
              "#f0f921"
             ]
            ],
            "type": "histogram2d"
           }
          ],
          "histogram2dcontour": [
           {
            "colorbar": {
             "outlinewidth": 0,
             "ticks": ""
            },
            "colorscale": [
             [
              0,
              "#0d0887"
             ],
             [
              0.1111111111111111,
              "#46039f"
             ],
             [
              0.2222222222222222,
              "#7201a8"
             ],
             [
              0.3333333333333333,
              "#9c179e"
             ],
             [
              0.4444444444444444,
              "#bd3786"
             ],
             [
              0.5555555555555556,
              "#d8576b"
             ],
             [
              0.6666666666666666,
              "#ed7953"
             ],
             [
              0.7777777777777778,
              "#fb9f3a"
             ],
             [
              0.8888888888888888,
              "#fdca26"
             ],
             [
              1,
              "#f0f921"
             ]
            ],
            "type": "histogram2dcontour"
           }
          ],
          "mesh3d": [
           {
            "colorbar": {
             "outlinewidth": 0,
             "ticks": ""
            },
            "type": "mesh3d"
           }
          ],
          "parcoords": [
           {
            "line": {
             "colorbar": {
              "outlinewidth": 0,
              "ticks": ""
             }
            },
            "type": "parcoords"
           }
          ],
          "pie": [
           {
            "automargin": true,
            "type": "pie"
           }
          ],
          "scatter": [
           {
            "fillpattern": {
             "fillmode": "overlay",
             "size": 10,
             "solidity": 0.2
            },
            "type": "scatter"
           }
          ],
          "scatter3d": [
           {
            "line": {
             "colorbar": {
              "outlinewidth": 0,
              "ticks": ""
             }
            },
            "marker": {
             "colorbar": {
              "outlinewidth": 0,
              "ticks": ""
             }
            },
            "type": "scatter3d"
           }
          ],
          "scattercarpet": [
           {
            "marker": {
             "colorbar": {
              "outlinewidth": 0,
              "ticks": ""
             }
            },
            "type": "scattercarpet"
           }
          ],
          "scattergeo": [
           {
            "marker": {
             "colorbar": {
              "outlinewidth": 0,
              "ticks": ""
             }
            },
            "type": "scattergeo"
           }
          ],
          "scattergl": [
           {
            "marker": {
             "colorbar": {
              "outlinewidth": 0,
              "ticks": ""
             }
            },
            "type": "scattergl"
           }
          ],
          "scattermapbox": [
           {
            "marker": {
             "colorbar": {
              "outlinewidth": 0,
              "ticks": ""
             }
            },
            "type": "scattermapbox"
           }
          ],
          "scatterpolar": [
           {
            "marker": {
             "colorbar": {
              "outlinewidth": 0,
              "ticks": ""
             }
            },
            "type": "scatterpolar"
           }
          ],
          "scatterpolargl": [
           {
            "marker": {
             "colorbar": {
              "outlinewidth": 0,
              "ticks": ""
             }
            },
            "type": "scatterpolargl"
           }
          ],
          "scatterternary": [
           {
            "marker": {
             "colorbar": {
              "outlinewidth": 0,
              "ticks": ""
             }
            },
            "type": "scatterternary"
           }
          ],
          "surface": [
           {
            "colorbar": {
             "outlinewidth": 0,
             "ticks": ""
            },
            "colorscale": [
             [
              0,
              "#0d0887"
             ],
             [
              0.1111111111111111,
              "#46039f"
             ],
             [
              0.2222222222222222,
              "#7201a8"
             ],
             [
              0.3333333333333333,
              "#9c179e"
             ],
             [
              0.4444444444444444,
              "#bd3786"
             ],
             [
              0.5555555555555556,
              "#d8576b"
             ],
             [
              0.6666666666666666,
              "#ed7953"
             ],
             [
              0.7777777777777778,
              "#fb9f3a"
             ],
             [
              0.8888888888888888,
              "#fdca26"
             ],
             [
              1,
              "#f0f921"
             ]
            ],
            "type": "surface"
           }
          ],
          "table": [
           {
            "cells": {
             "fill": {
              "color": "#EBF0F8"
             },
             "line": {
              "color": "white"
             }
            },
            "header": {
             "fill": {
              "color": "#C8D4E3"
             },
             "line": {
              "color": "white"
             }
            },
            "type": "table"
           }
          ]
         },
         "layout": {
          "annotationdefaults": {
           "arrowcolor": "#2a3f5f",
           "arrowhead": 0,
           "arrowwidth": 1
          },
          "autotypenumbers": "strict",
          "coloraxis": {
           "colorbar": {
            "outlinewidth": 0,
            "ticks": ""
           }
          },
          "colorscale": {
           "diverging": [
            [
             0,
             "#8e0152"
            ],
            [
             0.1,
             "#c51b7d"
            ],
            [
             0.2,
             "#de77ae"
            ],
            [
             0.3,
             "#f1b6da"
            ],
            [
             0.4,
             "#fde0ef"
            ],
            [
             0.5,
             "#f7f7f7"
            ],
            [
             0.6,
             "#e6f5d0"
            ],
            [
             0.7,
             "#b8e186"
            ],
            [
             0.8,
             "#7fbc41"
            ],
            [
             0.9,
             "#4d9221"
            ],
            [
             1,
             "#276419"
            ]
           ],
           "sequential": [
            [
             0,
             "#0d0887"
            ],
            [
             0.1111111111111111,
             "#46039f"
            ],
            [
             0.2222222222222222,
             "#7201a8"
            ],
            [
             0.3333333333333333,
             "#9c179e"
            ],
            [
             0.4444444444444444,
             "#bd3786"
            ],
            [
             0.5555555555555556,
             "#d8576b"
            ],
            [
             0.6666666666666666,
             "#ed7953"
            ],
            [
             0.7777777777777778,
             "#fb9f3a"
            ],
            [
             0.8888888888888888,
             "#fdca26"
            ],
            [
             1,
             "#f0f921"
            ]
           ],
           "sequentialminus": [
            [
             0,
             "#0d0887"
            ],
            [
             0.1111111111111111,
             "#46039f"
            ],
            [
             0.2222222222222222,
             "#7201a8"
            ],
            [
             0.3333333333333333,
             "#9c179e"
            ],
            [
             0.4444444444444444,
             "#bd3786"
            ],
            [
             0.5555555555555556,
             "#d8576b"
            ],
            [
             0.6666666666666666,
             "#ed7953"
            ],
            [
             0.7777777777777778,
             "#fb9f3a"
            ],
            [
             0.8888888888888888,
             "#fdca26"
            ],
            [
             1,
             "#f0f921"
            ]
           ]
          },
          "colorway": [
           "#636efa",
           "#EF553B",
           "#00cc96",
           "#ab63fa",
           "#FFA15A",
           "#19d3f3",
           "#FF6692",
           "#B6E880",
           "#FF97FF",
           "#FECB52"
          ],
          "font": {
           "color": "#2a3f5f"
          },
          "geo": {
           "bgcolor": "white",
           "lakecolor": "white",
           "landcolor": "white",
           "showlakes": true,
           "showland": true,
           "subunitcolor": "#C8D4E3"
          },
          "hoverlabel": {
           "align": "left"
          },
          "hovermode": "closest",
          "mapbox": {
           "style": "light"
          },
          "paper_bgcolor": "white",
          "plot_bgcolor": "white",
          "polar": {
           "angularaxis": {
            "gridcolor": "#EBF0F8",
            "linecolor": "#EBF0F8",
            "ticks": ""
           },
           "bgcolor": "white",
           "radialaxis": {
            "gridcolor": "#EBF0F8",
            "linecolor": "#EBF0F8",
            "ticks": ""
           }
          },
          "scene": {
           "xaxis": {
            "backgroundcolor": "white",
            "gridcolor": "#DFE8F3",
            "gridwidth": 2,
            "linecolor": "#EBF0F8",
            "showbackground": true,
            "ticks": "",
            "zerolinecolor": "#EBF0F8"
           },
           "yaxis": {
            "backgroundcolor": "white",
            "gridcolor": "#DFE8F3",
            "gridwidth": 2,
            "linecolor": "#EBF0F8",
            "showbackground": true,
            "ticks": "",
            "zerolinecolor": "#EBF0F8"
           },
           "zaxis": {
            "backgroundcolor": "white",
            "gridcolor": "#DFE8F3",
            "gridwidth": 2,
            "linecolor": "#EBF0F8",
            "showbackground": true,
            "ticks": "",
            "zerolinecolor": "#EBF0F8"
           }
          },
          "shapedefaults": {
           "line": {
            "color": "#2a3f5f"
           }
          },
          "ternary": {
           "aaxis": {
            "gridcolor": "#DFE8F3",
            "linecolor": "#A2B1C6",
            "ticks": ""
           },
           "baxis": {
            "gridcolor": "#DFE8F3",
            "linecolor": "#A2B1C6",
            "ticks": ""
           },
           "bgcolor": "white",
           "caxis": {
            "gridcolor": "#DFE8F3",
            "linecolor": "#A2B1C6",
            "ticks": ""
           }
          },
          "title": {
           "x": 0.05
          },
          "xaxis": {
           "automargin": true,
           "gridcolor": "#EBF0F8",
           "linecolor": "#EBF0F8",
           "ticks": "",
           "title": {
            "standoff": 15
           },
           "zerolinecolor": "#EBF0F8",
           "zerolinewidth": 2
          },
          "yaxis": {
           "automargin": true,
           "gridcolor": "#EBF0F8",
           "linecolor": "#EBF0F8",
           "ticks": "",
           "title": {
            "standoff": 15
           },
           "zerolinecolor": "#EBF0F8",
           "zerolinewidth": 2
          }
         }
        },
        "title": {
         "text": "Variación de la tarifa de interés horario base por division durante el año 2020"
        },
        "width": 1800,
        "xaxis": {
         "anchor": "y",
         "domain": [
          0,
          0.15
         ],
         "title": {
          "text": "date"
         }
        },
        "xaxis10": {
         "anchor": "y10",
         "domain": [
          0.51,
          0.66
         ],
         "matches": "x",
         "showticklabels": false
        },
        "xaxis11": {
         "anchor": "y11",
         "domain": [
          0.6799999999999999,
          0.83
         ],
         "matches": "x",
         "showticklabels": false
        },
        "xaxis12": {
         "anchor": "y12",
         "domain": [
          0.85,
          1
         ],
         "matches": "x",
         "showticklabels": false
        },
        "xaxis13": {
         "anchor": "y13",
         "domain": [
          0,
          0.15
         ],
         "matches": "x",
         "showticklabels": false
        },
        "xaxis14": {
         "anchor": "y14",
         "domain": [
          0.16999999999999998,
          0.31999999999999995
         ],
         "matches": "x",
         "showticklabels": false
        },
        "xaxis15": {
         "anchor": "y15",
         "domain": [
          0.33999999999999997,
          0.49
         ],
         "matches": "x",
         "showticklabels": false
        },
        "xaxis16": {
         "anchor": "y16",
         "domain": [
          0.51,
          0.66
         ],
         "matches": "x",
         "showticklabels": false
        },
        "xaxis17": {
         "anchor": "y17",
         "domain": [
          0.6799999999999999,
          0.83
         ],
         "matches": "x",
         "showticklabels": false
        },
        "xaxis18": {
         "anchor": "y18",
         "domain": [
          0.85,
          1
         ],
         "matches": "x",
         "showticklabels": false
        },
        "xaxis2": {
         "anchor": "y2",
         "domain": [
          0.16999999999999998,
          0.31999999999999995
         ],
         "matches": "x",
         "title": {
          "text": "date"
         }
        },
        "xaxis3": {
         "anchor": "y3",
         "domain": [
          0.33999999999999997,
          0.49
         ],
         "matches": "x",
         "title": {
          "text": "date"
         }
        },
        "xaxis4": {
         "anchor": "y4",
         "domain": [
          0.51,
          0.66
         ],
         "matches": "x",
         "title": {
          "text": "date"
         }
        },
        "xaxis5": {
         "anchor": "y5",
         "domain": [
          0.6799999999999999,
          0.83
         ],
         "matches": "x",
         "title": {
          "text": "date"
         }
        },
        "xaxis6": {
         "anchor": "y6",
         "domain": [
          0.85,
          1
         ],
         "matches": "x",
         "title": {
          "text": "date"
         }
        },
        "xaxis7": {
         "anchor": "y7",
         "domain": [
          0,
          0.15
         ],
         "matches": "x",
         "showticklabels": false
        },
        "xaxis8": {
         "anchor": "y8",
         "domain": [
          0.16999999999999998,
          0.31999999999999995
         ],
         "matches": "x",
         "showticklabels": false
        },
        "xaxis9": {
         "anchor": "y9",
         "domain": [
          0.33999999999999997,
          0.49
         ],
         "matches": "x",
         "showticklabels": false
        },
        "yaxis": {
         "anchor": "x",
         "domain": [
          0,
          0.2866666666666666
         ],
         "range": [
          0.5,
          1.99
         ],
         "title": {
          "text": "value"
         }
        },
        "yaxis10": {
         "anchor": "x10",
         "domain": [
          0.35666666666666663,
          0.6433333333333333
         ],
         "matches": "y",
         "showticklabels": false
        },
        "yaxis11": {
         "anchor": "x11",
         "domain": [
          0.35666666666666663,
          0.6433333333333333
         ],
         "matches": "y",
         "showticklabels": false
        },
        "yaxis12": {
         "anchor": "x12",
         "domain": [
          0.35666666666666663,
          0.6433333333333333
         ],
         "matches": "y",
         "showticklabels": false
        },
        "yaxis13": {
         "anchor": "x13",
         "domain": [
          0.7133333333333333,
          0.9999999999999999
         ],
         "matches": "y",
         "range": [
          0.5,
          1.99
         ],
         "title": {
          "text": "value"
         }
        },
        "yaxis14": {
         "anchor": "x14",
         "domain": [
          0.7133333333333333,
          0.9999999999999999
         ],
         "matches": "y",
         "showticklabels": false
        },
        "yaxis15": {
         "anchor": "x15",
         "domain": [
          0.7133333333333333,
          0.9999999999999999
         ],
         "matches": "y",
         "showticklabels": false
        },
        "yaxis16": {
         "anchor": "x16",
         "domain": [
          0.7133333333333333,
          0.9999999999999999
         ],
         "matches": "y",
         "showticklabels": false
        },
        "yaxis17": {
         "anchor": "x17",
         "domain": [
          0.7133333333333333,
          0.9999999999999999
         ],
         "matches": "y",
         "showticklabels": false
        },
        "yaxis18": {
         "anchor": "x18",
         "domain": [
          0.7133333333333333,
          0.9999999999999999
         ],
         "matches": "y",
         "showticklabels": false
        },
        "yaxis2": {
         "anchor": "x2",
         "domain": [
          0,
          0.2866666666666666
         ],
         "matches": "y",
         "showticklabels": false
        },
        "yaxis3": {
         "anchor": "x3",
         "domain": [
          0,
          0.2866666666666666
         ],
         "matches": "y",
         "showticklabels": false
        },
        "yaxis4": {
         "anchor": "x4",
         "domain": [
          0,
          0.2866666666666666
         ],
         "matches": "y",
         "showticklabels": false
        },
        "yaxis5": {
         "anchor": "x5",
         "domain": [
          0,
          0.2866666666666666
         ],
         "matches": "y",
         "showticklabels": false
        },
        "yaxis6": {
         "anchor": "x6",
         "domain": [
          0,
          0.2866666666666666
         ],
         "matches": "y",
         "showticklabels": false
        },
        "yaxis7": {
         "anchor": "x7",
         "domain": [
          0.35666666666666663,
          0.6433333333333333
         ],
         "matches": "y",
         "range": [
          0.5,
          1.99
         ],
         "title": {
          "text": "value"
         }
        },
        "yaxis8": {
         "anchor": "x8",
         "domain": [
          0.35666666666666663,
          0.6433333333333333
         ],
         "matches": "y",
         "showticklabels": false
        },
        "yaxis9": {
         "anchor": "x9",
         "domain": [
          0.35666666666666663,
          0.6433333333333333
         ],
         "matches": "y",
         "showticklabels": false
        }
       }
      }
     },
     "metadata": {},
     "output_type": "display_data"
    }
   ],
   "source": [
    "fig = px.area(t.reset_index().pivot(index='date', columns='division', values=('Valor', 'mean')), facet_col=\"division\", facet_col_wrap=6, markers=True, range_y=[0.5, 1.99],\n",
    "              title='Variación de la tarifa de interés horario base por division durante el año 2020', width=1800, height=650)\n",
    "fig.show()"
   ]
  },
  {
   "cell_type": "code",
   "execution_count": 120,
   "metadata": {},
   "outputs": [
    {
     "data": {
      "text/html": [
       "<div>\n",
       "<style scoped>\n",
       "    .dataframe tbody tr th:only-of-type {\n",
       "        vertical-align: middle;\n",
       "    }\n",
       "\n",
       "    .dataframe tbody tr th {\n",
       "        vertical-align: top;\n",
       "    }\n",
       "\n",
       "    .dataframe thead th {\n",
       "        text-align: right;\n",
       "    }\n",
       "</style>\n",
       "<table border=\"1\" class=\"dataframe\">\n",
       "  <thead>\n",
       "    <tr style=\"text-align: right;\">\n",
       "      <th>company</th>\n",
       "      <th>GOOG</th>\n",
       "      <th>AAPL</th>\n",
       "      <th>AMZN</th>\n",
       "      <th>FB</th>\n",
       "      <th>NFLX</th>\n",
       "      <th>MSFT</th>\n",
       "    </tr>\n",
       "    <tr>\n",
       "      <th>date</th>\n",
       "      <th></th>\n",
       "      <th></th>\n",
       "      <th></th>\n",
       "      <th></th>\n",
       "      <th></th>\n",
       "      <th></th>\n",
       "    </tr>\n",
       "  </thead>\n",
       "  <tbody>\n",
       "    <tr>\n",
       "      <th>2018-01-01</th>\n",
       "      <td>0.000000</td>\n",
       "      <td>0.000000</td>\n",
       "      <td>0.000000</td>\n",
       "      <td>0.000000</td>\n",
       "      <td>0.000000</td>\n",
       "      <td>0.000000</td>\n",
       "    </tr>\n",
       "    <tr>\n",
       "      <th>2018-01-08</th>\n",
       "      <td>0.018172</td>\n",
       "      <td>0.011943</td>\n",
       "      <td>0.061881</td>\n",
       "      <td>-0.040032</td>\n",
       "      <td>0.053526</td>\n",
       "      <td>0.015988</td>\n",
       "    </tr>\n",
       "    <tr>\n",
       "      <th>2018-01-15</th>\n",
       "      <td>0.032008</td>\n",
       "      <td>0.019771</td>\n",
       "      <td>0.053240</td>\n",
       "      <td>-0.029757</td>\n",
       "      <td>0.049860</td>\n",
       "      <td>0.020524</td>\n",
       "    </tr>\n",
       "    <tr>\n",
       "      <th>2018-01-22</th>\n",
       "      <td>0.066783</td>\n",
       "      <td>-0.019943</td>\n",
       "      <td>0.140676</td>\n",
       "      <td>0.016858</td>\n",
       "      <td>0.307681</td>\n",
       "      <td>0.066561</td>\n",
       "    </tr>\n",
       "    <tr>\n",
       "      <th>2018-01-29</th>\n",
       "      <td>0.008773</td>\n",
       "      <td>-0.082857</td>\n",
       "      <td>0.163374</td>\n",
       "      <td>0.018357</td>\n",
       "      <td>0.273537</td>\n",
       "      <td>0.040708</td>\n",
       "    </tr>\n",
       "    <tr>\n",
       "      <th>...</th>\n",
       "      <td>...</td>\n",
       "      <td>...</td>\n",
       "      <td>...</td>\n",
       "      <td>...</td>\n",
       "      <td>...</td>\n",
       "      <td>...</td>\n",
       "    </tr>\n",
       "    <tr>\n",
       "      <th>2019-12-02</th>\n",
       "      <td>0.216280</td>\n",
       "      <td>0.546914</td>\n",
       "      <td>0.425061</td>\n",
       "      <td>0.075997</td>\n",
       "      <td>0.463641</td>\n",
       "      <td>0.720717</td>\n",
       "    </tr>\n",
       "    <tr>\n",
       "      <th>2019-12-09</th>\n",
       "      <td>0.222821</td>\n",
       "      <td>0.572286</td>\n",
       "      <td>0.432660</td>\n",
       "      <td>0.038855</td>\n",
       "      <td>0.421496</td>\n",
       "      <td>0.752239</td>\n",
       "    </tr>\n",
       "    <tr>\n",
       "      <th>2019-12-16</th>\n",
       "      <td>0.224418</td>\n",
       "      <td>0.596800</td>\n",
       "      <td>0.453455</td>\n",
       "      <td>0.104094</td>\n",
       "      <td>0.604362</td>\n",
       "      <td>0.784896</td>\n",
       "    </tr>\n",
       "    <tr>\n",
       "      <th>2019-12-23</th>\n",
       "      <td>0.226504</td>\n",
       "      <td>0.656000</td>\n",
       "      <td>0.521226</td>\n",
       "      <td>0.113728</td>\n",
       "      <td>0.567170</td>\n",
       "      <td>0.802472</td>\n",
       "    </tr>\n",
       "    <tr>\n",
       "      <th>2019-12-30</th>\n",
       "      <td>0.213014</td>\n",
       "      <td>0.678000</td>\n",
       "      <td>0.503360</td>\n",
       "      <td>0.098475</td>\n",
       "      <td>0.540883</td>\n",
       "      <td>0.788185</td>\n",
       "    </tr>\n",
       "  </tbody>\n",
       "</table>\n",
       "<p>105 rows × 6 columns</p>\n",
       "</div>"
      ],
      "text/plain": [
       "company         GOOG      AAPL      AMZN        FB      NFLX      MSFT\n",
       "date                                                                  \n",
       "2018-01-01  0.000000  0.000000  0.000000  0.000000  0.000000  0.000000\n",
       "2018-01-08  0.018172  0.011943  0.061881 -0.040032  0.053526  0.015988\n",
       "2018-01-15  0.032008  0.019771  0.053240 -0.029757  0.049860  0.020524\n",
       "2018-01-22  0.066783 -0.019943  0.140676  0.016858  0.307681  0.066561\n",
       "2018-01-29  0.008773 -0.082857  0.163374  0.018357  0.273537  0.040708\n",
       "...              ...       ...       ...       ...       ...       ...\n",
       "2019-12-02  0.216280  0.546914  0.425061  0.075997  0.463641  0.720717\n",
       "2019-12-09  0.222821  0.572286  0.432660  0.038855  0.421496  0.752239\n",
       "2019-12-16  0.224418  0.596800  0.453455  0.104094  0.604362  0.784896\n",
       "2019-12-23  0.226504  0.656000  0.521226  0.113728  0.567170  0.802472\n",
       "2019-12-30  0.213014  0.678000  0.503360  0.098475  0.540883  0.788185\n",
       "\n",
       "[105 rows x 6 columns]"
      ]
     },
     "execution_count": 120,
     "metadata": {},
     "output_type": "execute_result"
    }
   ],
   "source": [
    "df = px.data.stocks(indexed=True)-1\n",
    "df"
   ]
  },
  {
   "cell_type": "code",
   "execution_count": null,
   "metadata": {},
   "outputs": [],
   "source": [
    "def get_cargo_variacion(data, anio, division_oficial, tipo_cargo, etiqueta = 'Cargo fijo ($/mes)'):\n",
    "    cargo = data[(data.division.isin(division_oficial))&(data.Cargo==tipo_cargo)]\n",
    "    cargo.reset_index(drop=True, inplace=True)\n",
    "    fig = px.line(cargo, x='date', y='Valor', color='division', line_group = 'estado',\n",
    "        title='Variación de la tarifa de cargo {} por division durante el año {}'.format(tipo_cargo,anio),\n",
    "        labels={'date':'Fecha por mes', 'Valor':etiqueta}, width=1200, height=650, markers=True)\n",
    "    #fig.update_xaxes(rangeslider_visible=True)\n",
    "    return fig"
   ]
  },
  {
   "cell_type": "code",
   "execution_count": 74,
   "metadata": {},
   "outputs": [
    {
     "name": "stderr",
     "output_type": "stream",
     "text": [
      "C:\\Users\\roker\\AppData\\Local\\Temp\\ipykernel_22388\\2220316867.py:1: FutureWarning: ['Int. Horario', 'Cargo', 'Unidades', 'state', 'estado'] did not aggregate successfully. If any error is raised this will raise in a future version of pandas. Drop these columns/ops to avoid this warning.\n",
      "  data[data.estado=='zacatecas'].groupby('division').agg([np.mean, np.std, np.min, np.max])\n"
     ]
    },
    {
     "data": {
      "text/html": [
       "<div>\n",
       "<style scoped>\n",
       "    .dataframe tbody tr th:only-of-type {\n",
       "        vertical-align: middle;\n",
       "    }\n",
       "\n",
       "    .dataframe tbody tr th {\n",
       "        vertical-align: top;\n",
       "    }\n",
       "\n",
       "    .dataframe thead tr th {\n",
       "        text-align: left;\n",
       "    }\n",
       "\n",
       "    .dataframe thead tr:last-of-type th {\n",
       "        text-align: right;\n",
       "    }\n",
       "</style>\n",
       "<table border=\"1\" class=\"dataframe\">\n",
       "  <thead>\n",
       "    <tr>\n",
       "      <th></th>\n",
       "      <th colspan=\"4\" halign=\"left\">Valor</th>\n",
       "      <th colspan=\"4\" halign=\"left\">year</th>\n",
       "      <th colspan=\"4\" halign=\"left\">month</th>\n",
       "      <th colspan=\"4\" halign=\"left\">municipality</th>\n",
       "      <th colspan=\"4\" halign=\"left\">division_value</th>\n",
       "    </tr>\n",
       "    <tr>\n",
       "      <th></th>\n",
       "      <th>mean</th>\n",
       "      <th>std</th>\n",
       "      <th>amin</th>\n",
       "      <th>amax</th>\n",
       "      <th>mean</th>\n",
       "      <th>std</th>\n",
       "      <th>amin</th>\n",
       "      <th>amax</th>\n",
       "      <th>mean</th>\n",
       "      <th>std</th>\n",
       "      <th>amin</th>\n",
       "      <th>amax</th>\n",
       "      <th>mean</th>\n",
       "      <th>std</th>\n",
       "      <th>amin</th>\n",
       "      <th>amax</th>\n",
       "      <th>mean</th>\n",
       "      <th>std</th>\n",
       "      <th>amin</th>\n",
       "      <th>amax</th>\n",
       "    </tr>\n",
       "    <tr>\n",
       "      <th>division</th>\n",
       "      <th></th>\n",
       "      <th></th>\n",
       "      <th></th>\n",
       "      <th></th>\n",
       "      <th></th>\n",
       "      <th></th>\n",
       "      <th></th>\n",
       "      <th></th>\n",
       "      <th></th>\n",
       "      <th></th>\n",
       "      <th></th>\n",
       "      <th></th>\n",
       "      <th></th>\n",
       "      <th></th>\n",
       "      <th></th>\n",
       "      <th></th>\n",
       "      <th></th>\n",
       "      <th></th>\n",
       "      <th></th>\n",
       "      <th></th>\n",
       "    </tr>\n",
       "  </thead>\n",
       "  <tbody>\n",
       "    <tr>\n",
       "      <th>BAJÍO</th>\n",
       "      <td>125.472722</td>\n",
       "      <td>144.956629</td>\n",
       "      <td>0.9541</td>\n",
       "      <td>374.56</td>\n",
       "      <td>2022.0</td>\n",
       "      <td>0.0</td>\n",
       "      <td>2022</td>\n",
       "      <td>2022</td>\n",
       "      <td>5.5</td>\n",
       "      <td>2.872717</td>\n",
       "      <td>1</td>\n",
       "      <td>10</td>\n",
       "      <td>2414.454545</td>\n",
       "      <td>16.502438</td>\n",
       "      <td>2385</td>\n",
       "      <td>2442</td>\n",
       "      <td>3.0</td>\n",
       "      <td>0.0</td>\n",
       "      <td>3</td>\n",
       "      <td>3</td>\n",
       "    </tr>\n",
       "    <tr>\n",
       "      <th>BAJÍO Y GOLFO CENTRO</th>\n",
       "      <td>125.472722</td>\n",
       "      <td>145.542359</td>\n",
       "      <td>0.9541</td>\n",
       "      <td>374.56</td>\n",
       "      <td>2022.0</td>\n",
       "      <td>0.0</td>\n",
       "      <td>2022</td>\n",
       "      <td>2022</td>\n",
       "      <td>5.5</td>\n",
       "      <td>2.884324</td>\n",
       "      <td>1</td>\n",
       "      <td>10</td>\n",
       "      <td>2401.000000</td>\n",
       "      <td>9.037736</td>\n",
       "      <td>2392</td>\n",
       "      <td>2410</td>\n",
       "      <td>4.0</td>\n",
       "      <td>0.0</td>\n",
       "      <td>4</td>\n",
       "      <td>4</td>\n",
       "    </tr>\n",
       "    <tr>\n",
       "      <th>JALISCO</th>\n",
       "      <td>146.111408</td>\n",
       "      <td>156.519255</td>\n",
       "      <td>0.9178</td>\n",
       "      <td>374.56</td>\n",
       "      <td>2022.0</td>\n",
       "      <td>0.0</td>\n",
       "      <td>2022</td>\n",
       "      <td>2022</td>\n",
       "      <td>5.5</td>\n",
       "      <td>2.884324</td>\n",
       "      <td>1</td>\n",
       "      <td>10</td>\n",
       "      <td>2402.000000</td>\n",
       "      <td>16.067086</td>\n",
       "      <td>2386</td>\n",
       "      <td>2418</td>\n",
       "      <td>17.0</td>\n",
       "      <td>0.0</td>\n",
       "      <td>17</td>\n",
       "      <td>17</td>\n",
       "    </tr>\n",
       "  </tbody>\n",
       "</table>\n",
       "</div>"
      ],
      "text/plain": [
       "                           Valor                                year       \\\n",
       "                            mean         std    amin    amax    mean  std   \n",
       "division                                                                    \n",
       "BAJÍO                 125.472722  144.956629  0.9541  374.56  2022.0  0.0   \n",
       "BAJÍO Y GOLFO CENTRO  125.472722  145.542359  0.9541  374.56  2022.0  0.0   \n",
       "JALISCO               146.111408  156.519255  0.9178  374.56  2022.0  0.0   \n",
       "\n",
       "                                 month                     municipality  \\\n",
       "                      amin  amax  mean       std amin amax         mean   \n",
       "division                                                                  \n",
       "BAJÍO                 2022  2022   5.5  2.872717    1   10  2414.454545   \n",
       "BAJÍO Y GOLFO CENTRO  2022  2022   5.5  2.884324    1   10  2401.000000   \n",
       "JALISCO               2022  2022   5.5  2.884324    1   10  2402.000000   \n",
       "\n",
       "                                            division_value                 \n",
       "                            std  amin  amax           mean  std amin amax  \n",
       "division                                                                   \n",
       "BAJÍO                 16.502438  2385  2442            3.0  0.0    3    3  \n",
       "BAJÍO Y GOLFO CENTRO   9.037736  2392  2410            4.0  0.0    4    4  \n",
       "JALISCO               16.067086  2386  2418           17.0  0.0   17   17  "
      ]
     },
     "execution_count": 74,
     "metadata": {},
     "output_type": "execute_result"
    }
   ],
   "source": [
    "data[data.estado=='zacatecas'].groupby('division').agg([np.mean, np.std, np.min, np.max])"
   ]
  },
  {
   "cell_type": "code",
   "execution_count": 81,
   "metadata": {},
   "outputs": [
    {
     "name": "stderr",
     "output_type": "stream",
     "text": [
      "C:\\Users\\roker\\AppData\\Local\\Temp\\ipykernel_22388\\1373843595.py:1: FutureWarning: ['Int. Horario', 'Cargo', 'Unidades', 'state', 'estado'] did not aggregate successfully. If any error is raised this will raise in a future version of pandas. Drop these columns/ops to avoid this warning.\n",
      "  data[(data.estado=='zacatecas')&(data.Cargo=='Fijo')].groupby('division').agg([np.mean, np.std, np.min, np.max])\n"
     ]
    },
    {
     "data": {
      "text/html": [
       "<div>\n",
       "<style scoped>\n",
       "    .dataframe tbody tr th:only-of-type {\n",
       "        vertical-align: middle;\n",
       "    }\n",
       "\n",
       "    .dataframe tbody tr th {\n",
       "        vertical-align: top;\n",
       "    }\n",
       "\n",
       "    .dataframe thead tr th {\n",
       "        text-align: left;\n",
       "    }\n",
       "\n",
       "    .dataframe thead tr:last-of-type th {\n",
       "        text-align: right;\n",
       "    }\n",
       "</style>\n",
       "<table border=\"1\" class=\"dataframe\">\n",
       "  <thead>\n",
       "    <tr>\n",
       "      <th></th>\n",
       "      <th colspan=\"4\" halign=\"left\">Valor</th>\n",
       "      <th colspan=\"4\" halign=\"left\">year</th>\n",
       "      <th colspan=\"4\" halign=\"left\">month</th>\n",
       "      <th colspan=\"4\" halign=\"left\">municipality</th>\n",
       "      <th colspan=\"4\" halign=\"left\">division_value</th>\n",
       "    </tr>\n",
       "    <tr>\n",
       "      <th></th>\n",
       "      <th>mean</th>\n",
       "      <th>std</th>\n",
       "      <th>amin</th>\n",
       "      <th>amax</th>\n",
       "      <th>mean</th>\n",
       "      <th>std</th>\n",
       "      <th>amin</th>\n",
       "      <th>amax</th>\n",
       "      <th>mean</th>\n",
       "      <th>std</th>\n",
       "      <th>amin</th>\n",
       "      <th>amax</th>\n",
       "      <th>mean</th>\n",
       "      <th>std</th>\n",
       "      <th>amin</th>\n",
       "      <th>amax</th>\n",
       "      <th>mean</th>\n",
       "      <th>std</th>\n",
       "      <th>amin</th>\n",
       "      <th>amax</th>\n",
       "    </tr>\n",
       "    <tr>\n",
       "      <th>division</th>\n",
       "      <th></th>\n",
       "      <th></th>\n",
       "      <th></th>\n",
       "      <th></th>\n",
       "      <th></th>\n",
       "      <th></th>\n",
       "      <th></th>\n",
       "      <th></th>\n",
       "      <th></th>\n",
       "      <th></th>\n",
       "      <th></th>\n",
       "      <th></th>\n",
       "      <th></th>\n",
       "      <th></th>\n",
       "      <th></th>\n",
       "      <th></th>\n",
       "      <th></th>\n",
       "      <th></th>\n",
       "      <th></th>\n",
       "      <th></th>\n",
       "    </tr>\n",
       "  </thead>\n",
       "  <tbody>\n",
       "    <tr>\n",
       "      <th>BAJÍO</th>\n",
       "      <td>277.76</td>\n",
       "      <td>0.0</td>\n",
       "      <td>277.76</td>\n",
       "      <td>277.76</td>\n",
       "      <td>2022.0</td>\n",
       "      <td>0.0</td>\n",
       "      <td>2022</td>\n",
       "      <td>2022</td>\n",
       "      <td>5.5</td>\n",
       "      <td>2.874896</td>\n",
       "      <td>1</td>\n",
       "      <td>10</td>\n",
       "      <td>2414.454545</td>\n",
       "      <td>16.514958</td>\n",
       "      <td>2385</td>\n",
       "      <td>2442</td>\n",
       "      <td>3.0</td>\n",
       "      <td>0.0</td>\n",
       "      <td>3</td>\n",
       "      <td>3</td>\n",
       "    </tr>\n",
       "    <tr>\n",
       "      <th>BAJÍO Y GOLFO CENTRO</th>\n",
       "      <td>277.76</td>\n",
       "      <td>0.0</td>\n",
       "      <td>277.76</td>\n",
       "      <td>277.76</td>\n",
       "      <td>2022.0</td>\n",
       "      <td>0.0</td>\n",
       "      <td>2022</td>\n",
       "      <td>2022</td>\n",
       "      <td>5.5</td>\n",
       "      <td>2.946898</td>\n",
       "      <td>1</td>\n",
       "      <td>10</td>\n",
       "      <td>2401.000000</td>\n",
       "      <td>9.233805</td>\n",
       "      <td>2392</td>\n",
       "      <td>2410</td>\n",
       "      <td>4.0</td>\n",
       "      <td>0.0</td>\n",
       "      <td>4</td>\n",
       "      <td>4</td>\n",
       "    </tr>\n",
       "    <tr>\n",
       "      <th>JALISCO</th>\n",
       "      <td>333.35</td>\n",
       "      <td>0.0</td>\n",
       "      <td>333.35</td>\n",
       "      <td>333.35</td>\n",
       "      <td>2022.0</td>\n",
       "      <td>0.0</td>\n",
       "      <td>2022</td>\n",
       "      <td>2022</td>\n",
       "      <td>5.5</td>\n",
       "      <td>2.946898</td>\n",
       "      <td>1</td>\n",
       "      <td>10</td>\n",
       "      <td>2402.000000</td>\n",
       "      <td>16.415654</td>\n",
       "      <td>2386</td>\n",
       "      <td>2418</td>\n",
       "      <td>17.0</td>\n",
       "      <td>0.0</td>\n",
       "      <td>17</td>\n",
       "      <td>17</td>\n",
       "    </tr>\n",
       "  </tbody>\n",
       "</table>\n",
       "</div>"
      ],
      "text/plain": [
       "                       Valor                         year                   \\\n",
       "                        mean  std    amin    amax    mean  std  amin  amax   \n",
       "division                                                                     \n",
       "BAJÍO                 277.76  0.0  277.76  277.76  2022.0  0.0  2022  2022   \n",
       "BAJÍO Y GOLFO CENTRO  277.76  0.0  277.76  277.76  2022.0  0.0  2022  2022   \n",
       "JALISCO               333.35  0.0  333.35  333.35  2022.0  0.0  2022  2022   \n",
       "\n",
       "                     month                     municipality                   \\\n",
       "                      mean       std amin amax         mean        std  amin   \n",
       "division                                                                       \n",
       "BAJÍO                  5.5  2.874896    1   10  2414.454545  16.514958  2385   \n",
       "BAJÍO Y GOLFO CENTRO   5.5  2.946898    1   10  2401.000000   9.233805  2392   \n",
       "JALISCO                5.5  2.946898    1   10  2402.000000  16.415654  2386   \n",
       "\n",
       "                           division_value                 \n",
       "                      amax           mean  std amin amax  \n",
       "division                                                  \n",
       "BAJÍO                 2442            3.0  0.0    3    3  \n",
       "BAJÍO Y GOLFO CENTRO  2410            4.0  0.0    4    4  \n",
       "JALISCO               2418           17.0  0.0   17   17  "
      ]
     },
     "execution_count": 81,
     "metadata": {},
     "output_type": "execute_result"
    }
   ],
   "source": [
    "data[(data.estado=='zacatecas')&(data.Cargo=='Fijo')].groupby('division').agg([np.mean, np.std, np.min, np.max])"
   ]
  },
  {
   "cell_type": "code",
   "execution_count": 90,
   "metadata": {},
   "outputs": [
    {
     "data": {
      "text/plain": [
       "array([[<AxesSubplot:title={'center':'Valor'}>]], dtype=object)"
      ]
     },
     "execution_count": 90,
     "metadata": {},
     "output_type": "execute_result"
    },
    {
     "data": {
      "image/png": "[encoded data removed]",
      "text/plain": [
       "<Figure size 640x480 with 1 Axes>"
      ]
     },
     "metadata": {},
     "output_type": "display_data"
    }
   ],
   "source": [
    "data[(data.estado=='zacatecas')&(data['Int. Horario']=='Base')&(data.division=='BAJÍO')][['Valor']].hist()"
   ]
  },
  {
   "cell_type": "code",
   "execution_count": 91,
   "metadata": {},
   "outputs": [
    {
     "name": "stderr",
     "output_type": "stream",
     "text": [
      "C:\\Users\\roker\\AppData\\Local\\Temp\\ipykernel_22388\\3265261684.py:1: FutureWarning: ['Int. Horario', 'Cargo', 'Unidades', 'state', 'estado'] did not aggregate successfully. If any error is raised this will raise in a future version of pandas. Drop these columns/ops to avoid this warning.\n",
      "  data[(data.estado=='zacatecas')&(data['Int. Horario']=='Base')].groupby('division').agg([np.mean, np.std, np.min, np.max])\n"
     ]
    },
    {
     "data": {
      "text/html": [
       "<div>\n",
       "<style scoped>\n",
       "    .dataframe tbody tr th:only-of-type {\n",
       "        vertical-align: middle;\n",
       "    }\n",
       "\n",
       "    .dataframe tbody tr th {\n",
       "        vertical-align: top;\n",
       "    }\n",
       "\n",
       "    .dataframe thead tr th {\n",
       "        text-align: left;\n",
       "    }\n",
       "\n",
       "    .dataframe thead tr:last-of-type th {\n",
       "        text-align: right;\n",
       "    }\n",
       "</style>\n",
       "<table border=\"1\" class=\"dataframe\">\n",
       "  <thead>\n",
       "    <tr>\n",
       "      <th></th>\n",
       "      <th colspan=\"4\" halign=\"left\">Valor</th>\n",
       "      <th colspan=\"4\" halign=\"left\">year</th>\n",
       "      <th colspan=\"4\" halign=\"left\">month</th>\n",
       "      <th colspan=\"4\" halign=\"left\">municipality</th>\n",
       "      <th colspan=\"4\" halign=\"left\">division_value</th>\n",
       "    </tr>\n",
       "    <tr>\n",
       "      <th></th>\n",
       "      <th>mean</th>\n",
       "      <th>std</th>\n",
       "      <th>amin</th>\n",
       "      <th>amax</th>\n",
       "      <th>mean</th>\n",
       "      <th>std</th>\n",
       "      <th>amin</th>\n",
       "      <th>amax</th>\n",
       "      <th>mean</th>\n",
       "      <th>std</th>\n",
       "      <th>amin</th>\n",
       "      <th>amax</th>\n",
       "      <th>mean</th>\n",
       "      <th>std</th>\n",
       "      <th>amin</th>\n",
       "      <th>amax</th>\n",
       "      <th>mean</th>\n",
       "      <th>std</th>\n",
       "      <th>amin</th>\n",
       "      <th>amax</th>\n",
       "    </tr>\n",
       "    <tr>\n",
       "      <th>division</th>\n",
       "      <th></th>\n",
       "      <th></th>\n",
       "      <th></th>\n",
       "      <th></th>\n",
       "      <th></th>\n",
       "      <th></th>\n",
       "      <th></th>\n",
       "      <th></th>\n",
       "      <th></th>\n",
       "      <th></th>\n",
       "      <th></th>\n",
       "      <th></th>\n",
       "      <th></th>\n",
       "      <th></th>\n",
       "      <th></th>\n",
       "      <th></th>\n",
       "      <th></th>\n",
       "      <th></th>\n",
       "      <th></th>\n",
       "      <th></th>\n",
       "    </tr>\n",
       "  </thead>\n",
       "  <tbody>\n",
       "    <tr>\n",
       "      <th>BAJÍO</th>\n",
       "      <td>0.98607</td>\n",
       "      <td>0.020749</td>\n",
       "      <td>0.9541</td>\n",
       "      <td>1.0117</td>\n",
       "      <td>2022.0</td>\n",
       "      <td>0.0</td>\n",
       "      <td>2022</td>\n",
       "      <td>2022</td>\n",
       "      <td>5.5</td>\n",
       "      <td>2.874896</td>\n",
       "      <td>1</td>\n",
       "      <td>10</td>\n",
       "      <td>2414.454545</td>\n",
       "      <td>16.514958</td>\n",
       "      <td>2385</td>\n",
       "      <td>2442</td>\n",
       "      <td>3.0</td>\n",
       "      <td>0.0</td>\n",
       "      <td>3</td>\n",
       "      <td>3</td>\n",
       "    </tr>\n",
       "    <tr>\n",
       "      <th>BAJÍO Y GOLFO CENTRO</th>\n",
       "      <td>0.98607</td>\n",
       "      <td>0.021268</td>\n",
       "      <td>0.9541</td>\n",
       "      <td>1.0117</td>\n",
       "      <td>2022.0</td>\n",
       "      <td>0.0</td>\n",
       "      <td>2022</td>\n",
       "      <td>2022</td>\n",
       "      <td>5.5</td>\n",
       "      <td>2.946898</td>\n",
       "      <td>1</td>\n",
       "      <td>10</td>\n",
       "      <td>2401.000000</td>\n",
       "      <td>9.233805</td>\n",
       "      <td>2392</td>\n",
       "      <td>2410</td>\n",
       "      <td>4.0</td>\n",
       "      <td>0.0</td>\n",
       "      <td>4</td>\n",
       "      <td>4</td>\n",
       "    </tr>\n",
       "    <tr>\n",
       "      <th>JALISCO</th>\n",
       "      <td>0.94817</td>\n",
       "      <td>0.020230</td>\n",
       "      <td>0.9178</td>\n",
       "      <td>0.9725</td>\n",
       "      <td>2022.0</td>\n",
       "      <td>0.0</td>\n",
       "      <td>2022</td>\n",
       "      <td>2022</td>\n",
       "      <td>5.5</td>\n",
       "      <td>2.946898</td>\n",
       "      <td>1</td>\n",
       "      <td>10</td>\n",
       "      <td>2402.000000</td>\n",
       "      <td>16.415654</td>\n",
       "      <td>2386</td>\n",
       "      <td>2418</td>\n",
       "      <td>17.0</td>\n",
       "      <td>0.0</td>\n",
       "      <td>17</td>\n",
       "      <td>17</td>\n",
       "    </tr>\n",
       "  </tbody>\n",
       "</table>\n",
       "</div>"
      ],
      "text/plain": [
       "                        Valor                              year             \\\n",
       "                         mean       std    amin    amax    mean  std  amin   \n",
       "division                                                                     \n",
       "BAJÍO                 0.98607  0.020749  0.9541  1.0117  2022.0  0.0  2022   \n",
       "BAJÍO Y GOLFO CENTRO  0.98607  0.021268  0.9541  1.0117  2022.0  0.0  2022   \n",
       "JALISCO               0.94817  0.020230  0.9178  0.9725  2022.0  0.0  2022   \n",
       "\n",
       "                           month                     municipality             \\\n",
       "                      amax  mean       std amin amax         mean        std   \n",
       "division                                                                       \n",
       "BAJÍO                 2022   5.5  2.874896    1   10  2414.454545  16.514958   \n",
       "BAJÍO Y GOLFO CENTRO  2022   5.5  2.946898    1   10  2401.000000   9.233805   \n",
       "JALISCO               2022   5.5  2.946898    1   10  2402.000000  16.415654   \n",
       "\n",
       "                                 division_value                 \n",
       "                      amin  amax           mean  std amin amax  \n",
       "division                                                        \n",
       "BAJÍO                 2385  2442            3.0  0.0    3    3  \n",
       "BAJÍO Y GOLFO CENTRO  2392  2410            4.0  0.0    4    4  \n",
       "JALISCO               2386  2418           17.0  0.0   17   17  "
      ]
     },
     "execution_count": 91,
     "metadata": {},
     "output_type": "execute_result"
    }
   ],
   "source": [
    "data[(data.estado=='zacatecas')&(data['Int. Horario']=='Base')].groupby('division').agg([np.mean, np.std, np.min, np.max])"
   ]
  }
 ],
 "metadata": {
  "kernelspec": {
   "display_name": "Python 3.9.13 ('base')",
   "language": "python",
   "name": "python3"
  },
  "language_info": {
   "codemirror_mode": {
    "name": "ipython",
    "version": 3
   },
   "file_extension": ".py",
   "mimetype": "text/x-python",
   "name": "python",
   "nbconvert_exporter": "python",
   "pygments_lexer": "ipython3",
   "version": "3.9.13"
  },
  "orig_nbformat": 4,
  "vscode": {
   "interpreter": {
    "hash": "ad2bdc8ecc057115af97d19610ffacc2b4e99fae6737bb82f5d7fb13d2f2c186"
   }
  }
 },
 "nbformat": 4,
 "nbformat_minor": 2
}
